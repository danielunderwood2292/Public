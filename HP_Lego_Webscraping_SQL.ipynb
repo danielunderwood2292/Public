{
 "cells": [
  {
   "cell_type": "markdown",
   "id": "8089c3a7",
   "metadata": {},
   "source": [
    "Example Python Jupyter Notebook that demonstrates:\n",
    "- Connecting to a Microsoft SQL Server\n",
    "- Web scraping data from different pages in a website within a loop\n",
    "- Cleaning scraped data to get only the information required"
   ]
  },
  {
   "cell_type": "markdown",
   "id": "f1ee2237",
   "metadata": {},
   "source": [
    "The problem:\n",
    "Lego sets only identify which minifigures are included on the box and not in the instructions. Third party websites exist which include minifigure breakdowns of the sets based on their Lego ID numbers. Using a list of sets owned, it is possible to scrape such websites to collate a list of all the owned minifigures in a particular collection."
   ]
  },
  {
   "cell_type": "code",
   "execution_count": 1,
   "id": "43f6fced",
   "metadata": {},
   "outputs": [],
   "source": [
    "# Load SQL Magic\n",
    "%load_ext sql"
   ]
  },
  {
   "cell_type": "code",
   "execution_count": 2,
   "id": "91256c9c",
   "metadata": {},
   "outputs": [],
   "source": [
    "# Import required modules\n",
    "import pandas as pd\n",
    "import pyodbc\n",
    "import sqlalchemy\n",
    "import urllib\n",
    "import requests\n",
    "from bs4 import BeautifulSoup\n",
    "from datetime import datetime"
   ]
  },
  {
   "cell_type": "code",
   "execution_count": 3,
   "id": "268d78ab",
   "metadata": {},
   "outputs": [],
   "source": [
    "# Establish database connection\n",
    "connection_str = \"DRIVER={SQL SERVER};SERVER=LAPTOP-BJU2VQE0\\SIMPLESERVER;DATABASE=Lego;TRUSTED_CONNECTION=YES\"\n",
    "connection_str_quoted = urllib.parse.quote_plus(connection_str)\n",
    "connection_uri = 'mssql+pyodbc:///?odbc_connect={}'.format(connection_str_quoted)\n",
    "\n",
    "%sql {connection_uri}"
   ]
  },
  {
   "cell_type": "code",
   "execution_count": 4,
   "id": "3547a331",
   "metadata": {},
   "outputs": [
    {
     "data": {
      "text/html": [
       "<div>\n",
       "<style scoped>\n",
       "    .dataframe tbody tr th:only-of-type {\n",
       "        vertical-align: middle;\n",
       "    }\n",
       "\n",
       "    .dataframe tbody tr th {\n",
       "        vertical-align: top;\n",
       "    }\n",
       "\n",
       "    .dataframe thead th {\n",
       "        text-align: right;\n",
       "    }\n",
       "</style>\n",
       "<table border=\"1\" class=\"dataframe\">\n",
       "  <thead>\n",
       "    <tr style=\"text-align: right;\">\n",
       "      <th></th>\n",
       "      <th>Set_Number</th>\n",
       "      <th>Set_Name</th>\n",
       "      <th>Quantity</th>\n",
       "    </tr>\n",
       "  </thead>\n",
       "  <tbody>\n",
       "    <tr>\n",
       "      <th>0</th>\n",
       "      <td>21325</td>\n",
       "      <td>Medieval Blacksmith</td>\n",
       "      <td>1</td>\n",
       "    </tr>\n",
       "    <tr>\n",
       "      <th>1</th>\n",
       "      <td>31120</td>\n",
       "      <td>Medieval Castle</td>\n",
       "      <td>1</td>\n",
       "    </tr>\n",
       "    <tr>\n",
       "      <th>2</th>\n",
       "      <td>40419</td>\n",
       "      <td>Hogwarts Students Acc. Set</td>\n",
       "      <td>2</td>\n",
       "    </tr>\n",
       "    <tr>\n",
       "      <th>3</th>\n",
       "      <td>75948</td>\n",
       "      <td>Hogwarts Clock Tower</td>\n",
       "      <td>2</td>\n",
       "    </tr>\n",
       "    <tr>\n",
       "      <th>4</th>\n",
       "      <td>75955</td>\n",
       "      <td>Hogwarts Express</td>\n",
       "      <td>1</td>\n",
       "    </tr>\n",
       "  </tbody>\n",
       "</table>\n",
       "</div>"
      ],
      "text/plain": [
       "   Set_Number                    Set_Name  Quantity\n",
       "0       21325         Medieval Blacksmith         1\n",
       "1       31120             Medieval Castle         1\n",
       "2       40419  Hogwarts Students Acc. Set         2\n",
       "3       75948        Hogwarts Clock Tower         2\n",
       "4       75955            Hogwarts Express         1"
      ]
     },
     "execution_count": 4,
     "metadata": {},
     "output_type": "execute_result"
    }
   ],
   "source": [
    "filename = \"C:\\\\Users\\\\Daniel Underwood\\\\Documents\\\\HPAlgo\\\\sets.csv\"\n",
    "sets_df = pd.read_csv(filename)\n",
    "sets_df.head()"
   ]
  },
  {
   "cell_type": "code",
   "execution_count": 5,
   "id": "60525b36",
   "metadata": {},
   "outputs": [
    {
     "data": {
      "text/html": [
       "<div>\n",
       "<style scoped>\n",
       "    .dataframe tbody tr th:only-of-type {\n",
       "        vertical-align: middle;\n",
       "    }\n",
       "\n",
       "    .dataframe tbody tr th {\n",
       "        vertical-align: top;\n",
       "    }\n",
       "\n",
       "    .dataframe thead th {\n",
       "        text-align: right;\n",
       "    }\n",
       "</style>\n",
       "<table border=\"1\" class=\"dataframe\">\n",
       "  <thead>\n",
       "    <tr style=\"text-align: right;\">\n",
       "      <th></th>\n",
       "      <th>Figure_Name</th>\n",
       "      <th>Quantity</th>\n",
       "      <th>Set_Number</th>\n",
       "    </tr>\n",
       "    <tr>\n",
       "      <th>Figure_ID</th>\n",
       "      <th></th>\n",
       "      <th></th>\n",
       "      <th></th>\n",
       "    </tr>\n",
       "  </thead>\n",
       "  <tbody>\n",
       "    <tr>\n",
       "      <th>idea084</th>\n",
       "      <td>Black Falcon - Female Flat Silver Shoulder Pads</td>\n",
       "      <td>1</td>\n",
       "      <td>21325</td>\n",
       "    </tr>\n",
       "    <tr>\n",
       "      <th>idea085</th>\n",
       "      <td>Black Falcon - Male Flat Silver Shoulder Pad</td>\n",
       "      <td>1</td>\n",
       "      <td>21325</td>\n",
       "    </tr>\n",
       "    <tr>\n",
       "      <th>idea082</th>\n",
       "      <td>Blacksmith Reddish Brown Apron</td>\n",
       "      <td>1</td>\n",
       "      <td>21325</td>\n",
       "    </tr>\n",
       "    <tr>\n",
       "      <th>idea083</th>\n",
       "      <td>Huntress Green Tunic</td>\n",
       "      <td>1</td>\n",
       "      <td>21325</td>\n",
       "    </tr>\n",
       "    <tr>\n",
       "      <th>cas555</th>\n",
       "      <td>Black Falcon - Castle Guard Female Flat Silver...</td>\n",
       "      <td>1</td>\n",
       "      <td>31120</td>\n",
       "    </tr>\n",
       "  </tbody>\n",
       "</table>\n",
       "</div>"
      ],
      "text/plain": [
       "                                                 Figure_Name Quantity  \\\n",
       "Figure_ID                                                               \n",
       "idea084      Black Falcon - Female Flat Silver Shoulder Pads        1   \n",
       "idea085         Black Falcon - Male Flat Silver Shoulder Pad        1   \n",
       "idea082                       Blacksmith Reddish Brown Apron        1   \n",
       "idea083                                 Huntress Green Tunic        1   \n",
       "cas555     Black Falcon - Castle Guard Female Flat Silver...        1   \n",
       "\n",
       "          Set_Number  \n",
       "Figure_ID             \n",
       "idea084        21325  \n",
       "idea085        21325  \n",
       "idea082        21325  \n",
       "idea083        21325  \n",
       "cas555         31120  "
      ]
     },
     "execution_count": 5,
     "metadata": {},
     "output_type": "execute_result"
    }
   ],
   "source": [
    "url = \"https://www.bricklink.com/catalogItemInv.asp?S=<set_no>-1&viewItemType=M\"\n",
    "#User-agent headers\n",
    "headers = {'User-Agent': 'Mozilla/5.0 (Macintosh; Intel Mac OS X 10_11_5) AppleWebKit/537.36 (KHTML, like Gecko) Chrome/50.0.2661.102 Safari/537.36'}\n",
    "\n",
    "web_data = pd.DataFrame(columns=[\"Figure_ID\",\"Figure_Name\",\"Quantity\",\"Set_Number\"])\n",
    "ignore_rows = ['Regular Items:','Minifigures:','Alernative Items:','Description']\n",
    "\n",
    "for i in range(0,len(sets_df)):\n",
    "\n",
    "    set_no = sets_df.iloc[i]['Set_Number']\n",
    "\n",
    "    #replace the <set_no> text with lego set number in the url\n",
    "    new_url = url.replace(\"<set_no>\",str(set_no))\n",
    "        \n",
    "    # Get the contents of the webpage in text format and store in a variable called data\n",
    "    data = requests.get(new_url, headers=headers).text\n",
    "\n",
    "    # Parse using BeautifulSoup to make the data more manageable\n",
    "    soup = BeautifulSoup(data,\"html.parser\")\n",
    "\n",
    "    # Find all the tables in the page\n",
    "    tables = soup.find_all('table')\n",
    "\n",
    "    #Find the table with the minifigure information in\n",
    "    for index,td in enumerate(tables):\n",
    "        if (\"Image\" in str(td)):\n",
    "            table_index = index\n",
    "    \n",
    "    for row in tables[table_index].find_all(\"tr\"):\n",
    "        col = row.find_all(\"td\")\n",
    "        if (col != [] and col[0].text.strip() not in ignore_rows and len(col) >=5):\n",
    "            if col[3].text.strip() != \"Description\":\n",
    "\n",
    "                raw_id = col[2].text.strip()\n",
    "                raw_id_pos = raw_id.find(' (Inv)')            \n",
    "                if raw_id_pos == -1:\n",
    "                    figureid = raw_id\n",
    "                else:\n",
    "                    figureid = raw_id[0:raw_id_pos]    \n",
    "\n",
    "                raw_name = col[3].text.strip().replace(\",\",\"\")\n",
    "                raw_name_pos = raw_name.find('Catalog')\n",
    "                if raw_name_pos == -1:\n",
    "                    name = raw_name\n",
    "                else:\n",
    "                    name = raw_name[0:raw_name.find('Catalog')]\n",
    "                \n",
    "                if name[len(name)-1] == \" \":\n",
    "                    name = name[0:len(name)-1]\n",
    "\n",
    "                quantity = int(col[1].text.strip())            \n",
    "\n",
    "                new_web_data = pd.DataFrame({\"Figure_ID\":figureid,\"Figure_Name\":name,\"Quantity\":quantity,\"Set_Number\":int(set_no)},index = [0])\n",
    "                web_data = pd.concat([web_data,new_web_data],axis=0)\n",
    "\n",
    "web_data.set_index(\"Figure_ID\",inplace=True)\n",
    "web_data.to_csv(\"minifigures.csv\")\n",
    "web_data.head()"
   ]
  },
  {
   "cell_type": "code",
   "execution_count": 6,
   "id": "1b219135",
   "metadata": {},
   "outputs": [
    {
     "name": "stdout",
     "output_type": "stream",
     "text": [
      " * mssql+pyodbc:///?odbc_connect=DRIVER%3D%7BSQL+SERVER%7D%3BSERVER%3DLAPTOP-BJU2VQE0%5CSIMPLESERVER%3BDATABASE%3DLego%3BTRUSTED_CONNECTION%3DYES\n",
      "Done.\n"
     ]
    },
    {
     "data": {
      "text/plain": [
       "[]"
      ]
     },
     "execution_count": 6,
     "metadata": {},
     "output_type": "execute_result"
    }
   ],
   "source": [
    "#Need to drop the minifigures table first as it references the sets table\n",
    "%sql DROP TABLE IF EXISTS minifigures"
   ]
  },
  {
   "cell_type": "code",
   "execution_count": 7,
   "id": "af784829",
   "metadata": {},
   "outputs": [
    {
     "name": "stdout",
     "output_type": "stream",
     "text": [
      " * mssql+pyodbc:///?odbc_connect=DRIVER%3D%7BSQL+SERVER%7D%3BSERVER%3DLAPTOP-BJU2VQE0%5CSIMPLESERVER%3BDATABASE%3DLego%3BTRUSTED_CONNECTION%3DYES\n",
      "Done.\n"
     ]
    },
    {
     "data": {
      "text/plain": [
       "[]"
      ]
     },
     "execution_count": 7,
     "metadata": {},
     "output_type": "execute_result"
    }
   ],
   "source": [
    "%%sql\n",
    "DROP TABLE IF EXISTS sets\n",
    "\n",
    "CREATE TABLE sets\n",
    "    (\n",
    "    Set_Number INT PRIMARY KEY,\n",
    "    Set_Name VARCHAR(100) NOT NULL,\n",
    "    Quantity INT NOT NULL\n",
    "    )"
   ]
  },
  {
   "cell_type": "code",
   "execution_count": 8,
   "id": "b81ffac4",
   "metadata": {},
   "outputs": [
    {
     "name": "stdout",
     "output_type": "stream",
     "text": [
      " * mssql+pyodbc:///?odbc_connect=DRIVER%3D%7BSQL+SERVER%7D%3BSERVER%3DLAPTOP-BJU2VQE0%5CSIMPLESERVER%3BDATABASE%3DLego%3BTRUSTED_CONNECTION%3DYES\n",
      "13 rows affected.\n"
     ]
    },
    {
     "data": {
      "text/plain": [
       "[]"
      ]
     },
     "execution_count": 8,
     "metadata": {},
     "output_type": "execute_result"
    }
   ],
   "source": [
    "%%sql\n",
    "BULK INSERT sets\n",
    "FROM \"C:\\Users\\Daniel Underwood\\Documents\\HPAlgo\\sets.csv\"\n",
    "WITH (FORMAT = 'CSV'\n",
    "      , FIRSTROW = 2\n",
    "      , FIELDQUOTE = '\\'\n",
    "      , FIELDTERMINATOR = ','\n",
    "      , ROWTERMINATOR = '0x0a');"
   ]
  },
  {
   "cell_type": "code",
   "execution_count": 9,
   "id": "81216d66",
   "metadata": {},
   "outputs": [
    {
     "name": "stdout",
     "output_type": "stream",
     "text": [
      " * mssql+pyodbc:///?odbc_connect=DRIVER%3D%7BSQL+SERVER%7D%3BSERVER%3DLAPTOP-BJU2VQE0%5CSIMPLESERVER%3BDATABASE%3DLego%3BTRUSTED_CONNECTION%3DYES\n",
      "Done.\n"
     ]
    },
    {
     "data": {
      "text/html": [
       "<table>\n",
       "    <tr>\n",
       "        <th>Set_Number</th>\n",
       "        <th>Set_Name</th>\n",
       "        <th>Quantity</th>\n",
       "    </tr>\n",
       "    <tr>\n",
       "        <td>21325</td>\n",
       "        <td>Medieval Blacksmith</td>\n",
       "        <td>1</td>\n",
       "    </tr>\n",
       "    <tr>\n",
       "        <td>31120</td>\n",
       "        <td>Medieval Castle</td>\n",
       "        <td>1</td>\n",
       "    </tr>\n",
       "    <tr>\n",
       "        <td>40419</td>\n",
       "        <td>Hogwarts Students Acc. Set</td>\n",
       "        <td>2</td>\n",
       "    </tr>\n",
       "    <tr>\n",
       "        <td>75948</td>\n",
       "        <td>Hogwarts Clock Tower</td>\n",
       "        <td>2</td>\n",
       "    </tr>\n",
       "    <tr>\n",
       "        <td>75955</td>\n",
       "        <td>Hogwarts Express</td>\n",
       "        <td>1</td>\n",
       "    </tr>\n",
       "    <tr>\n",
       "        <td>75968</td>\n",
       "        <td>4 Privet Drive</td>\n",
       "        <td>1</td>\n",
       "    </tr>\n",
       "    <tr>\n",
       "        <td>75969</td>\n",
       "        <td>Hogwarts Astronomy Tower</td>\n",
       "        <td>2</td>\n",
       "    </tr>\n",
       "    <tr>\n",
       "        <td>75980</td>\n",
       "        <td>Attack on the Burrow</td>\n",
       "        <td>1</td>\n",
       "    </tr>\n",
       "    <tr>\n",
       "        <td>76388</td>\n",
       "        <td>Hogsmeade Village Visit</td>\n",
       "        <td>1</td>\n",
       "    </tr>\n",
       "    <tr>\n",
       "        <td>76389</td>\n",
       "        <td>Hogwarts Chamber of Secrets</td>\n",
       "        <td>2</td>\n",
       "    </tr>\n",
       "    <tr>\n",
       "        <td>76392</td>\n",
       "        <td>Hogwarts Wizard&#x27;s Chess</td>\n",
       "        <td>1</td>\n",
       "    </tr>\n",
       "    <tr>\n",
       "        <td>76398</td>\n",
       "        <td>Hogwarts Hospital Wing</td>\n",
       "        <td>1</td>\n",
       "    </tr>\n",
       "    <tr>\n",
       "        <td>76399</td>\n",
       "        <td>Hogwarts Magical Trunk</td>\n",
       "        <td>1</td>\n",
       "    </tr>\n",
       "</table>"
      ],
      "text/plain": [
       "[(21325, 'Medieval Blacksmith', 1),\n",
       " (31120, 'Medieval Castle', 1),\n",
       " (40419, 'Hogwarts Students Acc. Set', 2),\n",
       " (75948, 'Hogwarts Clock Tower', 2),\n",
       " (75955, 'Hogwarts Express', 1),\n",
       " (75968, '4 Privet Drive', 1),\n",
       " (75969, 'Hogwarts Astronomy Tower', 2),\n",
       " (75980, 'Attack on the Burrow', 1),\n",
       " (76388, 'Hogsmeade Village Visit', 1),\n",
       " (76389, 'Hogwarts Chamber of Secrets', 2),\n",
       " (76392, \"Hogwarts Wizard's Chess\", 1),\n",
       " (76398, 'Hogwarts Hospital Wing', 1),\n",
       " (76399, 'Hogwarts Magical Trunk', 1)]"
      ]
     },
     "execution_count": 9,
     "metadata": {},
     "output_type": "execute_result"
    }
   ],
   "source": [
    "%sql select * from sets"
   ]
  },
  {
   "cell_type": "code",
   "execution_count": 10,
   "id": "75745814",
   "metadata": {},
   "outputs": [
    {
     "name": "stdout",
     "output_type": "stream",
     "text": [
      " * mssql+pyodbc:///?odbc_connect=DRIVER%3D%7BSQL+SERVER%7D%3BSERVER%3DLAPTOP-BJU2VQE0%5CSIMPLESERVER%3BDATABASE%3DLego%3BTRUSTED_CONNECTION%3DYES\n",
      "Done.\n"
     ]
    },
    {
     "data": {
      "text/plain": [
       "[]"
      ]
     },
     "execution_count": 10,
     "metadata": {},
     "output_type": "execute_result"
    }
   ],
   "source": [
    "%%sql\n",
    "\n",
    "CREATE TABLE minifigures\n",
    "    (\n",
    "    Figure_ID VARCHAR(8) PRIMARY KEY,\n",
    "    Figure_Name VARCHAR(125) NOT NULL,\n",
    "    Quantity INT NOT NULL,\n",
    "    Set_Number INT FOREIGN KEY REFERENCES sets(Set_Number) NOT NULL    \n",
    "    )"
   ]
  },
  {
   "cell_type": "code",
   "execution_count": 11,
   "id": "63083a71",
   "metadata": {},
   "outputs": [
    {
     "name": "stdout",
     "output_type": "stream",
     "text": [
      " * mssql+pyodbc:///?odbc_connect=DRIVER%3D%7BSQL+SERVER%7D%3BSERVER%3DLAPTOP-BJU2VQE0%5CSIMPLESERVER%3BDATABASE%3DLego%3BTRUSTED_CONNECTION%3DYES\n",
      "75 rows affected.\n"
     ]
    },
    {
     "data": {
      "text/plain": [
       "[]"
      ]
     },
     "execution_count": 11,
     "metadata": {},
     "output_type": "execute_result"
    }
   ],
   "source": [
    "%%sql\n",
    "BULK INSERT minifigures\n",
    "FROM \"C:\\Users\\Daniel Underwood\\Documents\\HPAlgo\\minifigures.csv\"\n",
    "WITH (FORMAT = 'CSV'\n",
    "      , FIRSTROW = 2\n",
    "      , FIELDQUOTE = '\\'\n",
    "      , FIELDTERMINATOR = ','\n",
    "      , ROWTERMINATOR = '0x0a');"
   ]
  },
  {
   "cell_type": "markdown",
   "id": "24a386a9",
   "metadata": {},
   "source": [
    "The next section details a series of sql queries against the newly created database information. The Lego sets in this collection are mostly from the Harry Potter series. Most of these sets include a Harry Potter minifigure, so it can be interesting to determine some statistics based on this. The queries cover:\n",
    "- Total number of minifigures\n",
    "- Total number of Harry Potter figures\n",
    "- Details of the different Harry Potter figures\n",
    "- List of sets that don't have a Harry Potter figure"
   ]
  },
  {
   "cell_type": "code",
   "execution_count": 12,
   "id": "4f10f706",
   "metadata": {},
   "outputs": [
    {
     "name": "stdout",
     "output_type": "stream",
     "text": [
      " * mssql+pyodbc:///?odbc_connect=DRIVER%3D%7BSQL+SERVER%7D%3BSERVER%3DLAPTOP-BJU2VQE0%5CSIMPLESERVER%3BDATABASE%3DLego%3BTRUSTED_CONNECTION%3DYES\n",
      "Done.\n"
     ]
    },
    {
     "data": {
      "text/html": [
       "<table>\n",
       "    <tr>\n",
       "        <th>Total Minifigures</th>\n",
       "    </tr>\n",
       "    <tr>\n",
       "        <td>106</td>\n",
       "    </tr>\n",
       "</table>"
      ],
      "text/plain": [
       "[(106,)]"
      ]
     },
     "execution_count": 12,
     "metadata": {},
     "output_type": "execute_result"
    }
   ],
   "source": [
    "%%sql\n",
    "select sum(f.Quantity*s.Quantity) as 'Total Minifigures' from minifigures as f\n",
    "inner join sets as s on s.Set_Number = f.Set_Number"
   ]
  },
  {
   "cell_type": "code",
   "execution_count": 13,
   "id": "67e2823b",
   "metadata": {},
   "outputs": [
    {
     "name": "stdout",
     "output_type": "stream",
     "text": [
      " * mssql+pyodbc:///?odbc_connect=DRIVER%3D%7BSQL+SERVER%7D%3BSERVER%3DLAPTOP-BJU2VQE0%5CSIMPLESERVER%3BDATABASE%3DLego%3BTRUSTED_CONNECTION%3DYES\n",
      "Done.\n"
     ]
    },
    {
     "data": {
      "text/html": [
       "<table>\n",
       "    <tr>\n",
       "        <th>Total Harrys</th>\n",
       "    </tr>\n",
       "    <tr>\n",
       "        <td>14</td>\n",
       "    </tr>\n",
       "</table>"
      ],
      "text/plain": [
       "[(14,)]"
      ]
     },
     "execution_count": 13,
     "metadata": {},
     "output_type": "execute_result"
    }
   ],
   "source": [
    "%%sql\n",
    "select sum(f.Quantity*s.Quantity) as 'Total Harrys' from minifigures as f\n",
    "inner join sets as s on s.Set_Number = f.Set_Number where f.Figure_Name like '%Harry Potter%'"
   ]
  },
  {
   "cell_type": "code",
   "execution_count": 14,
   "id": "f8a8ab7a",
   "metadata": {},
   "outputs": [
    {
     "name": "stdout",
     "output_type": "stream",
     "text": [
      " * mssql+pyodbc:///?odbc_connect=DRIVER%3D%7BSQL+SERVER%7D%3BSERVER%3DLAPTOP-BJU2VQE0%5CSIMPLESERVER%3BDATABASE%3DLego%3BTRUSTED_CONNECTION%3DYES\n",
      "Done.\n"
     ]
    },
    {
     "data": {
      "text/html": [
       "<table>\n",
       "    <tr>\n",
       "        <th>Figure_Name</th>\n",
       "        <th>Set_Name</th>\n",
       "        <th>Total</th>\n",
       "    </tr>\n",
       "    <tr>\n",
       "        <td>Harry Potter Black Suit White Bow Tie</td>\n",
       "        <td>Hogwarts Clock Tower</td>\n",
       "        <td>2</td>\n",
       "    </tr>\n",
       "    <tr>\n",
       "        <td>Harry Potter Dark Blue Open Jacket Black Medium Legs</td>\n",
       "        <td>Hogsmeade Village Visit</td>\n",
       "        <td>1</td>\n",
       "    </tr>\n",
       "    <tr>\n",
       "        <td>Harry Potter Dark Blue Open Jacket with Tears and Blood Stains Dark Tan Medium Legs Smile / Angry Mouth</td>\n",
       "        <td>Hogwarts Hospital Wing</td>\n",
       "        <td>1</td>\n",
       "    </tr>\n",
       "    <tr>\n",
       "        <td>Harry Potter Dark Blue Zip Up</td>\n",
       "        <td>Hogwarts Express</td>\n",
       "        <td>1</td>\n",
       "    </tr>\n",
       "    <tr>\n",
       "        <td>Harry Potter Dark Red Plaid Flannel Shirt Black Short Legs</td>\n",
       "        <td>4 Privet Drive</td>\n",
       "        <td>1</td>\n",
       "    </tr>\n",
       "    <tr>\n",
       "        <td>Harry Potter Dark Red Shirt and Tie Black Robe</td>\n",
       "        <td>Hogwarts Astronomy Tower</td>\n",
       "        <td>2</td>\n",
       "    </tr>\n",
       "    <tr>\n",
       "        <td>Harry Potter Dark Red Torn Sweater</td>\n",
       "        <td>Hogwarts Wizard&#x27;s Chess</td>\n",
       "        <td>1</td>\n",
       "    </tr>\n",
       "    <tr>\n",
       "        <td>Harry Potter Gryffindor Robe Open Sweater Shirt and Tie Black Short Legs</td>\n",
       "        <td>Hogwarts Chamber of Secrets</td>\n",
       "        <td>2</td>\n",
       "    </tr>\n",
       "    <tr>\n",
       "        <td>Harry Potter Gryffindor Sweater Black Legs</td>\n",
       "        <td>Hogwarts Students Acc. Set</td>\n",
       "        <td>2</td>\n",
       "    </tr>\n",
       "    <tr>\n",
       "        <td>Harry Potter Light Bluish Gray Hooded Sweatshirt</td>\n",
       "        <td>Attack on the Burrow</td>\n",
       "        <td>1</td>\n",
       "    </tr>\n",
       "</table>"
      ],
      "text/plain": [
       "[('Harry Potter Black Suit White Bow Tie', 'Hogwarts Clock Tower', 2),\n",
       " ('Harry Potter Dark Blue Open Jacket Black Medium Legs', 'Hogsmeade Village Visit', 1),\n",
       " ('Harry Potter Dark Blue Open Jacket with Tears and Blood Stains Dark Tan Medium Legs Smile / Angry Mouth', 'Hogwarts Hospital Wing', 1),\n",
       " ('Harry Potter Dark Blue Zip Up', 'Hogwarts Express', 1),\n",
       " ('Harry Potter Dark Red Plaid Flannel Shirt Black Short Legs', '4 Privet Drive', 1),\n",
       " ('Harry Potter Dark Red Shirt and Tie Black Robe', 'Hogwarts Astronomy Tower', 2),\n",
       " ('Harry Potter Dark Red Torn Sweater', \"Hogwarts Wizard's Chess\", 1),\n",
       " ('Harry Potter Gryffindor Robe Open Sweater Shirt and Tie Black Short Legs', 'Hogwarts Chamber of Secrets', 2),\n",
       " ('Harry Potter Gryffindor Sweater Black Legs', 'Hogwarts Students Acc. Set', 2),\n",
       " ('Harry Potter Light Bluish Gray Hooded Sweatshirt', 'Attack on the Burrow', 1)]"
      ]
     },
     "execution_count": 14,
     "metadata": {},
     "output_type": "execute_result"
    }
   ],
   "source": [
    "%%sql\n",
    "select f.Figure_Name, s.Set_Name, f.Quantity*s.Quantity as Total from minifigures as f\n",
    "inner join sets as s on s.Set_Number = f.Set_Number where f.Figure_Name like '%Harry Potter%'\n",
    "group by f.Figure_Name, s.Set_Name, f.Quantity, s.Quantity"
   ]
  },
  {
   "cell_type": "code",
   "execution_count": 15,
   "id": "2a64b264",
   "metadata": {},
   "outputs": [
    {
     "name": "stdout",
     "output_type": "stream",
     "text": [
      " * mssql+pyodbc:///?odbc_connect=DRIVER%3D%7BSQL+SERVER%7D%3BSERVER%3DLAPTOP-BJU2VQE0%5CSIMPLESERVER%3BDATABASE%3DLego%3BTRUSTED_CONNECTION%3DYES\n",
      "Done.\n"
     ]
    },
    {
     "data": {
      "text/html": [
       "<table>\n",
       "    <tr>\n",
       "        <th>Set_Number</th>\n",
       "        <th>Set_Name</th>\n",
       "    </tr>\n",
       "    <tr>\n",
       "        <td>21325</td>\n",
       "        <td>Medieval Blacksmith</td>\n",
       "    </tr>\n",
       "    <tr>\n",
       "        <td>31120</td>\n",
       "        <td>Medieval Castle</td>\n",
       "    </tr>\n",
       "    <tr>\n",
       "        <td>76399</td>\n",
       "        <td>Hogwarts Magical Trunk</td>\n",
       "    </tr>\n",
       "</table>"
      ],
      "text/plain": [
       "[(21325, 'Medieval Blacksmith'),\n",
       " (31120, 'Medieval Castle'),\n",
       " (76399, 'Hogwarts Magical Trunk')]"
      ]
     },
     "execution_count": 15,
     "metadata": {},
     "output_type": "execute_result"
    }
   ],
   "source": [
    "%%sql\n",
    "select s.Set_Number, s.Set_Name from sets as s where s.Set_Number NOT IN\n",
    "(select f.Set_Number from minifigures as f where f.Figure_Name like '%Harry Potter%')"
   ]
  }
 ],
 "metadata": {
  "kernelspec": {
   "display_name": "Python 3 (ipykernel)",
   "language": "python",
   "name": "python3"
  },
  "language_info": {
   "codemirror_mode": {
    "name": "ipython",
    "version": 3
   },
   "file_extension": ".py",
   "mimetype": "text/x-python",
   "name": "python",
   "nbconvert_exporter": "python",
   "pygments_lexer": "ipython3",
   "version": "3.9.12"
  }
 },
 "nbformat": 4,
 "nbformat_minor": 5
}
