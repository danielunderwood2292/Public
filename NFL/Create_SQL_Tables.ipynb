{
 "cells": [
  {
   "cell_type": "markdown",
   "id": "8089c3a7",
   "metadata": {},
   "source": [
    "This Python Jupyter Notebook creates the SQL Server tables for the NFL model."
   ]
  },
  {
   "cell_type": "code",
   "execution_count": 1,
   "id": "5f8d972c",
   "metadata": {},
   "outputs": [],
   "source": [
    "#Import required packages\n",
    "import pyodbc\n",
    "import sqlalchemy\n",
    "from sqlalchemy import create_engine\n",
    "import urllib"
   ]
  },
  {
   "cell_type": "code",
   "execution_count": 2,
   "id": "3c7b53bc",
   "metadata": {},
   "outputs": [],
   "source": [
    "#Connect to database 'NFL' using SQlAlchemy\n",
    "connection_str = \"DRIVER={SQL SERVER};SERVER=LAPTOP-BJU2VQE0\\SIMPLESERVER;DATABASE=NFL;TRUSTED_CONNECTION=YES\"\n",
    "params = urllib.parse.quote_plus(connection_str)\n",
    "engine = create_engine('mssql+pyodbc:///?odbc_connect=%s' % params)\n",
    "conn = engine.connect()"
   ]
  },
  {
   "cell_type": "code",
   "execution_count": 3,
   "id": "505f3cd2",
   "metadata": {},
   "outputs": [],
   "source": [
    "CreateTeams = \"\"\"CREATE TABLE Teams\n",
    "    (\n",
    "    TeamID CHAR(3) NOT NULL,\n",
    "    ShortName VARCHAR(3) PRIMARY KEY NOT NULL,\n",
    "    FullName VARCHAR(25) NOT NULL,\n",
    "    Nickname VARCHAR(15),\n",
    "    Conference CHAR(3),\n",
    "    Division VARCHAR(9),\n",
    "    FoundingYear SMALLINT,\n",
    "    Colour VARCHAR(15),\n",
    "    )\"\"\""
   ]
  },
  {
   "cell_type": "code",
   "execution_count": 4,
   "id": "e2367c62",
   "metadata": {},
   "outputs": [
    {
     "data": {
      "text/plain": [
       "<sqlalchemy.engine.cursor.LegacyCursorResult at 0x271aaf138b0>"
      ]
     },
     "execution_count": 4,
     "metadata": {},
     "output_type": "execute_result"
    }
   ],
   "source": [
    "engine.execute(CreateTeams)"
   ]
  },
  {
   "cell_type": "code",
   "execution_count": 5,
   "id": "46f982b6",
   "metadata": {},
   "outputs": [],
   "source": [
    "CreateElo = \"\"\"CREATE TABLE Elo\n",
    "    (\n",
    "    EloID AS CONCAT('E', EloYear, EloWeek, Team) PERSISTED PRIMARY KEY,\n",
    "    YearWeek AS CONCAT(EloYear, '-', EloWeek) PERSISTED NOT NULL,\n",
    "    EloYear SMALLINT NOT NULL,\n",
    "    EloWeek TINYINT NOT NULL,\n",
    "    Team VARCHAR(3) FOREIGN KEY REFERENCES Teams(ShortName) NOT NULL,\n",
    "    Elo DECIMAL(10,5) NOT NULL,\n",
    "    )\"\"\""
   ]
  },
  {
   "cell_type": "code",
   "execution_count": 6,
   "id": "fdf6e0ef",
   "metadata": {},
   "outputs": [
    {
     "data": {
      "text/plain": [
       "<sqlalchemy.engine.cursor.LegacyCursorResult at 0x271aaf13cd0>"
      ]
     },
     "execution_count": 6,
     "metadata": {},
     "output_type": "execute_result"
    }
   ],
   "source": [
    "engine.execute(CreateElo)"
   ]
  },
  {
   "cell_type": "code",
   "execution_count": 7,
   "id": "12173323",
   "metadata": {},
   "outputs": [],
   "source": [
    "CreateGames = \"\"\"CREATE TABLE Games\n",
    "    (\n",
    "    GameID AS CONCAT ('G', GameYear, GameWeek, AwayTeam, HomeTeam) PERSISTED PRIMARY KEY,\n",
    "    YearWeek AS CONCAT(GameYear,'-', GameWeek) PERSISTED NOT NULL,\n",
    "    GameYear SMALLINT NOT NULL,\n",
    "    GameWeek TINYINT NOT NULL,\n",
    "    AwayTeam VARCHAR(3) FOREIGN KEY REFERENCES Teams(ShortName) NOT NULL,\n",
    "    HomeTeam  VARCHAR(3) FOREIGN KEY REFERENCES Teams(ShortName) NOT NULL,\n",
    "    NeutralVenue CHAR(1) NOT NULL,\n",
    "    AwayScore TINYINT,\n",
    "    HomeScore TINYINT,\n",
    "    Winner AS CASE\n",
    "        WHEN AwayScore IS NULL OR HomeScore IS NULL THEN 'INC'\n",
    "        WHEN AwayScore > HomeScore THEN AwayTeam\n",
    "        WHEN AwayScore < HomeScore THEN HomeTeam\n",
    "        WHEN AwayScore = HomeScore THEN 'TIE'\n",
    "        ELSE 'ERR' END\n",
    "    PERSISTED,\n",
    "    )\"\"\""
   ]
  },
  {
   "cell_type": "code",
   "execution_count": 8,
   "id": "594356dd",
   "metadata": {},
   "outputs": [
    {
     "data": {
      "text/plain": [
       "<sqlalchemy.engine.cursor.LegacyCursorResult at 0x271aaf13d30>"
      ]
     },
     "execution_count": 8,
     "metadata": {},
     "output_type": "execute_result"
    }
   ],
   "source": [
    "engine.execute(CreateGames)"
   ]
  },
  {
   "cell_type": "code",
   "execution_count": 9,
   "id": "43f7efce",
   "metadata": {},
   "outputs": [],
   "source": [
    "CreateOdds = \"\"\"CREATE TABLE Odds\n",
    "    (\n",
    "    OddsID AS CONCAT('O',GameID,OddsDateTime) PERSISTED PRIMARY KEY,\n",
    "    GameID VARCHAR(17) FOREIGN KEY REFERENCES Games(GameID) NOT NULL,\n",
    "    OddsDateTime DATETIME NOT NULL,\n",
    "    AwayOddsFrac DECIMAL(10,5) NOT NULL,\n",
    "    HomeOddsFrac DECIMAL(10,5) NOT NULL,\n",
    "    )\"\"\""
   ]
  },
  {
   "cell_type": "code",
   "execution_count": 10,
   "id": "fe923759",
   "metadata": {},
   "outputs": [
    {
     "data": {
      "text/plain": [
       "<sqlalchemy.engine.cursor.LegacyCursorResult at 0x271aaf132e0>"
      ]
     },
     "execution_count": 10,
     "metadata": {},
     "output_type": "execute_result"
    }
   ],
   "source": [
    "engine.execute(CreateOdds)"
   ]
  },
  {
   "cell_type": "code",
   "execution_count": 11,
   "id": "91d1789d",
   "metadata": {},
   "outputs": [],
   "source": [
    "CreateCalcs = \"\"\"CREATE TABLE Calculations\n",
    "    (\n",
    "    CalcID AS CONCAT ('C', OddsID,CalcDateTime,AlgorithmRef) PERSISTED PRIMARY KEY,\n",
    "    OddsID VARCHAR(58) FOREIGN KEY REFERENCES Odds(OddsID) NOT NULL,\n",
    "    CalcDateTime DATETIME NOT NULL,\n",
    "    BetTeam VARCHAR(3) FOREIGN KEY REFERENCES Teams(ShortName),\n",
    "    BetOddsFrac DECIMAL(10,5) NOT NULL,\n",
    "    BetUnits DECIMAL(4,2) NOT NULL,\n",
    "    WinUnits DECIMAL(4,2) NOT NULL,\n",
    "    AlgorithmRef VARCHAR(100) NOT NULL,\n",
    "    AwayEloFrac DECIMAL(10,5) NOT NULL,\n",
    "    AwayEloPC DECIMAL(7,5) NOT NULL,\n",
    "    AwayOddsFrac DECIMAL(10,5) NOT NULL,\n",
    "    AwayOddsPC DECIMAL(7,5) NOT NULL,\n",
    "    AwayEdgeFrac DECIMAL(10,5) NOT NULL,\n",
    "    AwayEdgePC DECIMAL(7,5) NOT NULL,\n",
    "    HomeEloFrac DECIMAL(10,5) NOT NULL,\n",
    "    HomeEloPC DECIMAL(7,5) NOT NULL,\n",
    "    HomeOddsFrac DECIMAL(10,5) NOT NULL,\n",
    "    HomeOddsPC DECIMAL(7,5) NOT NULL,\n",
    "    HomeEdgeFrac DECIMAL(10,5) NOT NULL,\n",
    "    HomeEdgePC DECIMAL(7,5) NOT NULL,\n",
    "    KellyPC DECIMAL(7,5) NOT NULL,\n",
    "    )\"\"\""
   ]
  },
  {
   "cell_type": "code",
   "execution_count": 12,
   "id": "5d6dba6c",
   "metadata": {},
   "outputs": [
    {
     "data": {
      "text/plain": [
       "<sqlalchemy.engine.cursor.LegacyCursorResult at 0x271aaf13310>"
      ]
     },
     "execution_count": 12,
     "metadata": {},
     "output_type": "execute_result"
    }
   ],
   "source": [
    "engine.execute(CreateCalcs)"
   ]
  },
  {
   "cell_type": "code",
   "execution_count": 13,
   "id": "aa3b2228",
   "metadata": {},
   "outputs": [],
   "source": [
    "CreateBets = \"\"\"Create Table Bets\n",
    "    (\n",
    "    BetID AS CONCAT('B',CalcID,BetDateTime) PERSISTED PRIMARY KEY,\n",
    "    CalcID VARCHAR(199) FOREIGN KEY REFERENCES Calculations(CalcID) NOT NULL,\n",
    "    BetDateTime DATETIME NOT NULL,\n",
    "    BetTeam VARCHAR(3) FOREIGN KEY REFERENCES Teams(ShortName) NOT NULL,\n",
    "    BetAmount DECIMAL(10,2) NOT NULL,\n",
    "    WinningsAmount DECIMAL(10,2) NOT NULL,\n",
    "    Profit DECIMAL(10,2),\n",
    "    )\"\"\""
   ]
  },
  {
   "cell_type": "code",
   "execution_count": 14,
   "id": "dc4e1d05",
   "metadata": {},
   "outputs": [
    {
     "data": {
      "text/plain": [
       "<sqlalchemy.engine.cursor.LegacyCursorResult at 0x271ab090910>"
      ]
     },
     "execution_count": 14,
     "metadata": {},
     "output_type": "execute_result"
    }
   ],
   "source": [
    "engine.execute(CreateBets)"
   ]
  },
  {
   "cell_type": "code",
   "execution_count": 15,
   "id": "64625f7e",
   "metadata": {},
   "outputs": [
    {
     "name": "stdout",
     "output_type": "stream",
     "text": [
      "['Bets', 'Calculations', 'Elo', 'Games', 'Odds', 'Teams']\n"
     ]
    }
   ],
   "source": [
    "#Get the table names currently in the database\n",
    "insp = sqlalchemy.inspect(engine)\n",
    "print(insp.get_table_names())"
   ]
  },
  {
   "cell_type": "code",
   "execution_count": 16,
   "id": "a5635545",
   "metadata": {},
   "outputs": [],
   "source": [
    "conn.close()"
   ]
  }
 ],
 "metadata": {
  "kernelspec": {
   "display_name": "Python 3 (ipykernel)",
   "language": "python",
   "name": "python3"
  },
  "language_info": {
   "codemirror_mode": {
    "name": "ipython",
    "version": 3
   },
   "file_extension": ".py",
   "mimetype": "text/x-python",
   "name": "python",
   "nbconvert_exporter": "python",
   "pygments_lexer": "ipython3",
   "version": "3.9.12"
  }
 },
 "nbformat": 4,
 "nbformat_minor": 5
}
