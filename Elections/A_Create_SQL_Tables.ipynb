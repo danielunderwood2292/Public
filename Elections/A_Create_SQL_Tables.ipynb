{
 "cells": [
  {
   "cell_type": "markdown",
   "id": "6882e11b",
   "metadata": {},
   "source": [
    "This Python Jupyter Notebook creates the SQL Server tables for the UK General Election model, in accordance with the entity-relationship diagram version 2.1:\n",
    "\n",
    "https://github.com/danielunderwood2292/Public/blob/main/Elections/0_Elections_Entity_Relationship_Diagram.svg"
   ]
  },
  {
   "cell_type": "code",
   "execution_count": 1,
   "id": "5f8d972c",
   "metadata": {},
   "outputs": [],
   "source": [
    "#Import required packages\n",
    "import pyodbc\n",
    "import sqlalchemy\n",
    "from sqlalchemy import create_engine\n",
    "import urllib"
   ]
  },
  {
   "cell_type": "code",
   "execution_count": 2,
   "id": "3c7b53bc",
   "metadata": {},
   "outputs": [],
   "source": [
    "#Connect to database 'UK_General_Election' using SQlAlchemy\n",
    "connection_str = \"DRIVER={SQL SERVER};SERVER=DANZPOOTA;DATABASE=UK_General_Election;TRUSTED_CONNECTION=YES\"\n",
    "params = urllib.parse.quote_plus(connection_str)\n",
    "engine = create_engine('mssql+pyodbc:///?odbc_connect=%s' % params)\n",
    "conn = engine.connect()"
   ]
  },
  {
   "cell_type": "code",
   "execution_count": 3,
   "id": "4fef6c4a",
   "metadata": {},
   "outputs": [],
   "source": [
    "#Procedure to delete the tables in the database if they already exist\n",
    "DeleteTables = \"\"\"DROP TABLE IF EXISTS ElectionPredictionOverall\n",
    "DROP TABLE IF EXISTS ElectionPredictionConstituencies\n",
    "DROP TABLE IF EXISTS ElectionPredictionCandidates\n",
    "DROP TABLE IF EXISTS ElectionPredictionPollsUsed\n",
    "DROP TABLE IF EXISTS ElectionPredictionMeta\n",
    "DROP TABLE IF EXISTS PollAnalysisConstituencies\n",
    "DROP TABLE IF EXISTS PollAnalysisRegions\n",
    "DROP TABLE IF EXISTS PollAnalysisMeta\n",
    "DROP TABLE IF EXISTS PollDetails\n",
    "DROP TABLE IF EXISTS PollMeta\n",
    "DROP TABLE IF EXISTS Pollsters\n",
    "DROP TABLE IF EXISTS RegionConstituencies\n",
    "DROP TABLE IF EXISTS RegionRegionTypes\n",
    "DROP TABLE IF EXISTS Regions\n",
    "DROP TABLE IF EXISTS RegionTypes\n",
    "DROP TABLE IF EXISTS Candidates\n",
    "DROP TABLE IF EXISTS Constituencies\n",
    "DROP TABLE IF EXISTS Parties\"\"\""
   ]
  },
  {
   "cell_type": "code",
   "execution_count": 4,
   "id": "be83ee49",
   "metadata": {},
   "outputs": [
    {
     "data": {
      "text/plain": [
       "<sqlalchemy.engine.cursor.LegacyCursorResult at 0x22899add130>"
      ]
     },
     "execution_count": 4,
     "metadata": {},
     "output_type": "execute_result"
    }
   ],
   "source": [
    "engine.execute(DeleteTables)"
   ]
  },
  {
   "cell_type": "code",
   "execution_count": 5,
   "id": "26340483",
   "metadata": {},
   "outputs": [],
   "source": [
    "CreateRegionTypes = \"\"\"Create Table RegionTypes\n",
    "    (RegionType VARCHAR(25) PRIMARY KEY NOT NULL,\n",
    "    RegionTypeRank INT NOT NULL)\"\"\""
   ]
  },
  {
   "cell_type": "code",
   "execution_count": 6,
   "id": "e2367c62",
   "metadata": {},
   "outputs": [
    {
     "data": {
      "text/plain": [
       "<sqlalchemy.engine.cursor.LegacyCursorResult at 0x228983f06d0>"
      ]
     },
     "execution_count": 6,
     "metadata": {},
     "output_type": "execute_result"
    }
   ],
   "source": [
    "engine.execute(CreateRegionTypes)"
   ]
  },
  {
   "cell_type": "code",
   "execution_count": 7,
   "id": "27e76174",
   "metadata": {},
   "outputs": [],
   "source": [
    "CreatePollsters = \"\"\"Create Table Pollsters\n",
    "    (\n",
    "    PollsterName VARCHAR(100) PRIMARY KEY NOT NULL,\n",
    "    DefaultRegionType VARCHAR(25) FOREIGN KEY REFERENCES RegionTypes(RegionType)\n",
    "    )\"\"\""
   ]
  },
  {
   "cell_type": "code",
   "execution_count": 8,
   "id": "2de0d199",
   "metadata": {},
   "outputs": [
    {
     "data": {
      "text/plain": [
       "<sqlalchemy.engine.cursor.LegacyCursorResult at 0x228983da8e0>"
      ]
     },
     "execution_count": 8,
     "metadata": {},
     "output_type": "execute_result"
    }
   ],
   "source": [
    "engine.execute(CreatePollsters)"
   ]
  },
  {
   "cell_type": "code",
   "execution_count": 9,
   "id": "b5f09e32",
   "metadata": {},
   "outputs": [],
   "source": [
    "CreateRegions = \"\"\"Create Table Regions\n",
    "    (RegionName VARCHAR(50) PRIMARY KEY NOT NULL)\"\"\""
   ]
  },
  {
   "cell_type": "code",
   "execution_count": 10,
   "id": "d803a149",
   "metadata": {},
   "outputs": [
    {
     "data": {
      "text/plain": [
       "<sqlalchemy.engine.cursor.LegacyCursorResult at 0x22899a23520>"
      ]
     },
     "execution_count": 10,
     "metadata": {},
     "output_type": "execute_result"
    }
   ],
   "source": [
    "engine.execute(CreateRegions)"
   ]
  },
  {
   "cell_type": "code",
   "execution_count": 11,
   "id": "32e0d24d",
   "metadata": {},
   "outputs": [],
   "source": [
    "CreateRegionRegionTypes = \"\"\"Create Table RegionRegionTypes\n",
    "    (\n",
    "    RegionXTypesID AS RegionType + RegionName PERSISTED PRIMARY KEY NOT NULL,\n",
    "    RegionName VARCHAR(50) FOREIGN KEY REFERENCES Regions(RegionName) NOT NULL,\n",
    "    RegionType VARCHAR(25) FOREIGN KEY REFERENCES RegionTypes(RegionType) NOT NULL\n",
    "    )\"\"\""
   ]
  },
  {
   "cell_type": "code",
   "execution_count": 12,
   "id": "cca42563",
   "metadata": {},
   "outputs": [
    {
     "data": {
      "text/plain": [
       "<sqlalchemy.engine.cursor.LegacyCursorResult at 0x22899b09460>"
      ]
     },
     "execution_count": 12,
     "metadata": {},
     "output_type": "execute_result"
    }
   ],
   "source": [
    "engine.execute(CreateRegionRegionTypes)"
   ]
  },
  {
   "cell_type": "code",
   "execution_count": 13,
   "id": "f1488586",
   "metadata": {},
   "outputs": [],
   "source": [
    "CreateParties = \"\"\"Create Table Parties\n",
    "    (\n",
    "    PartyAbbreviation VARCHAR(8) PRIMARY KEY NOT NULL,\n",
    "    PartyFullName VARCHAR(40)\n",
    "    )\"\"\""
   ]
  },
  {
   "cell_type": "code",
   "execution_count": 14,
   "id": "261ded81",
   "metadata": {},
   "outputs": [
    {
     "data": {
      "text/plain": [
       "<sqlalchemy.engine.cursor.LegacyCursorResult at 0x22899b09a60>"
      ]
     },
     "execution_count": 14,
     "metadata": {},
     "output_type": "execute_result"
    }
   ],
   "source": [
    "engine.execute(CreateParties)"
   ]
  },
  {
   "cell_type": "code",
   "execution_count": 15,
   "id": "15f9ed44",
   "metadata": {},
   "outputs": [],
   "source": [
    "CreateConstituencies = \"\"\"Create Table Constituencies\n",
    "    (\n",
    "    ONSID CHAR(9) NOT NULL,\n",
    "    PANO INT NOT NULL,\n",
    "    ConstituencyName VARCHAR(50) PRIMARY KEY NOT NULL,\n",
    "    ClosestOldConstituency VARCHAR(50) NOT NULL,\n",
    "    PAName VARCHAR(50) NOT NULL,\n",
    "    Nation VARCHAR(20) NOT NULL,\n",
    "    ConstituencyType VARCHAR(10) NOT NULL,\n",
    "    ITL1Region VARCHAR(25) NOT NULL,\n",
    "    FirstParty VARCHAR(8) FOREIGN KEY REFERENCES Parties(PartyAbbreviation) NOT NULL,\n",
    "    SecondParty VARCHAR(8) FOREIGN KEY REFERENCES Parties(PartyAbbreviation) NOT NULL,\n",
    "    Electorate INT NOT NULL,\n",
    "    TotalVotes INT NOT NULL,\n",
    "    MajorityVotes INT NOT NULL,\n",
    "    MajorityShare DECIMAL(9,8) NOT NULL\n",
    "    )\"\"\""
   ]
  },
  {
   "cell_type": "code",
   "execution_count": 16,
   "id": "9133aadf",
   "metadata": {},
   "outputs": [
    {
     "data": {
      "text/plain": [
       "<sqlalchemy.engine.cursor.LegacyCursorResult at 0x22899b09ee0>"
      ]
     },
     "execution_count": 16,
     "metadata": {},
     "output_type": "execute_result"
    }
   ],
   "source": [
    "engine.execute(CreateConstituencies)"
   ]
  },
  {
   "cell_type": "code",
   "execution_count": 17,
   "id": "cf6e30c8",
   "metadata": {},
   "outputs": [],
   "source": [
    "CreateRegionConstituencies = \"\"\"Create Table RegionConstituencies\n",
    "    (\n",
    "    RegionConsID AS RegionName + ConstituencyName PERSISTED PRIMARY KEY NOT NULL,\n",
    "    ConstituencyName VARCHAR(50) FOREIGN KEY REFERENCES Constituencies(ConstituencyName) NOT NULL,\n",
    "    RegionName VARCHAR(50) FOREIGN KEY REFERENCES Regions(RegionName) NOT NULL \n",
    "    )\"\"\""
   ]
  },
  {
   "cell_type": "code",
   "execution_count": 18,
   "id": "48a084a4",
   "metadata": {},
   "outputs": [
    {
     "data": {
      "text/plain": [
       "<sqlalchemy.engine.cursor.LegacyCursorResult at 0x22899eb30a0>"
      ]
     },
     "execution_count": 18,
     "metadata": {},
     "output_type": "execute_result"
    }
   ],
   "source": [
    "engine.execute(CreateRegionConstituencies)"
   ]
  },
  {
   "cell_type": "code",
   "execution_count": 19,
   "id": "7e2e6b53",
   "metadata": {},
   "outputs": [],
   "source": [
    "# Example constraint: https://stackoverflow.com/questions/7844460/foreign-key-to-multiple-tables\n",
    "CreatePollMeta = \"\"\"Create Table PollMeta\n",
    "    (\n",
    "    PollID AS CONVERT(CHAR(8),PollDate,112) + Pollster + PollType + PollScope PERSISTED PRIMARY KEY,\n",
    "    Pollster VARCHAR(100) FOREIGN KEY REFERENCES Pollsters(PollsterName) NOT NULL,\n",
    "    PollType VARCHAR(25) FOREIGN KEY REFERENCES RegionTypes(RegionType) NOT NULL,\n",
    "    PollDate DATE NOT NULL,\n",
    "    PollScope VARCHAR(50) NOT NULL,\n",
    "    PollScopeAll BIT NOT NULL,\n",
    "    PollScopeRegion VARCHAR(50) FOREIGN KEY REFERENCES Regions(RegionName),\n",
    "    PollScopeConst VARCHAR(50) FOREIGN KEY REFERENCES Constituencies(ConstituencyName),\n",
    "    SampleSize INT,\n",
    "    CONSTRAINT CheckPollScope CHECK(\n",
    "        PollScopeAll +\n",
    "        CASE WHEN PollScopeRegion IS NULL THEN 0 ELSE 1 END +\n",
    "        CASE WHEN PollScopeConst IS NULL THEN 0 ELSE 1 END\n",
    "        = 1),\n",
    "    PollLink varchar(255)\n",
    "    )\"\"\""
   ]
  },
  {
   "cell_type": "code",
   "execution_count": 20,
   "id": "9353ab9e",
   "metadata": {},
   "outputs": [
    {
     "data": {
      "text/plain": [
       "<sqlalchemy.engine.cursor.LegacyCursorResult at 0x22899ebd6a0>"
      ]
     },
     "execution_count": 20,
     "metadata": {},
     "output_type": "execute_result"
    }
   ],
   "source": [
    "engine.execute(CreatePollMeta)"
   ]
  },
  {
   "cell_type": "code",
   "execution_count": 21,
   "id": "b7efc35f",
   "metadata": {},
   "outputs": [],
   "source": [
    "CreatePollDetails = \"\"\"Create Table PollDetails\n",
    "    (\n",
    "    PollDetailsID AS PollID + RegionName + Party PERSISTED PRIMARY KEY,\n",
    "    PollID VARCHAR(183) FOREIGN KEY REFERENCES PollMeta(PollID) NOT NULL,\n",
    "    RegionName VARCHAR(50) FOREIGN KEY REFERENCES Regions(RegionName) NOT NULL,\n",
    "    Party VARCHAR(8) FOREIGN KEY REFERENCES Parties(PartyAbbreviation) NOT NULL,\n",
    "    VoteShare DECIMAL(9,8) NOT NULL\n",
    "    )\"\"\""
   ]
  },
  {
   "cell_type": "code",
   "execution_count": 22,
   "id": "db791922",
   "metadata": {},
   "outputs": [
    {
     "data": {
      "text/plain": [
       "<sqlalchemy.engine.cursor.LegacyCursorResult at 0x22899eb3d90>"
      ]
     },
     "execution_count": 22,
     "metadata": {},
     "output_type": "execute_result"
    }
   ],
   "source": [
    "engine.execute(CreatePollDetails)"
   ]
  },
  {
   "cell_type": "code",
   "execution_count": 23,
   "id": "9a71252d",
   "metadata": {},
   "outputs": [],
   "source": [
    "CreateCandidates = \"\"\"Create Table Candidates\n",
    "    (\n",
    "    CandidateID AS Constituency + Party PERSISTED PRIMARY KEY,\n",
    "    Constituency VARCHAR(50) FOREIGN KEY REFERENCES Constituencies(ConstituencyName) NOT NULL,\n",
    "    Party VARCHAR(8) FOREIGN KEY REFERENCES Parties(PartyAbbreviation) NOT NULL,\n",
    "    SittingMP BIT,\n",
    "    FormerMP BIT,\n",
    "    FirstName VARCHAR(25),\n",
    "    Surname VARCHAR(25),\n",
    "    Gender VARCHAR(10),\n",
    "    PreviousVotes INT NOT NULL,\n",
    "    PreviousShare DECIMAL(9,8) NOT NULL,\n",
    "    PreviousStanding INT NOT NULL,\n",
    "    CurrentStanding INT NOT NULL\n",
    "    )\"\"\""
   ]
  },
  {
   "cell_type": "code",
   "execution_count": 24,
   "id": "381fec05",
   "metadata": {},
   "outputs": [
    {
     "data": {
      "text/plain": [
       "<sqlalchemy.engine.cursor.LegacyCursorResult at 0x22899ebdaf0>"
      ]
     },
     "execution_count": 24,
     "metadata": {},
     "output_type": "execute_result"
    }
   ],
   "source": [
    "engine.execute(CreateCandidates)"
   ]
  },
  {
   "cell_type": "code",
   "execution_count": 25,
   "id": "ab373b9c",
   "metadata": {},
   "outputs": [],
   "source": [
    "CreatePollAnalysisMeta = \"\"\"Create Table PollAnalysisMeta\n",
    "    (\n",
    "    PollAnalysisID AS CONVERT(CHAR(8),PollAnalysisDate,112) + PollID + PollAnalysisAlgorithm PERSISTED PRIMARY KEY,\n",
    "    PollAnalysisDate DATE NOT NULL,\n",
    "    PollID VARCHAR(183) FOREIGN KEY REFERENCES PollMeta(PollID) NOT NULL,\n",
    "    PollAnalysisAlgorithm VARCHAR(50) NOT NULL\n",
    "    )\"\"\""
   ]
  },
  {
   "cell_type": "code",
   "execution_count": 26,
   "id": "a3d56b6a",
   "metadata": {},
   "outputs": [
    {
     "data": {
      "text/plain": [
       "<sqlalchemy.engine.cursor.LegacyCursorResult at 0x22899ec4640>"
      ]
     },
     "execution_count": 26,
     "metadata": {},
     "output_type": "execute_result"
    }
   ],
   "source": [
    "engine.execute(CreatePollAnalysisMeta)"
   ]
  },
  {
   "cell_type": "code",
   "execution_count": 27,
   "id": "ce8cd0a3",
   "metadata": {},
   "outputs": [],
   "source": [
    "CreatePollAnalysisRegions = \"\"\"Create Table PollAnalysisRegions\n",
    "    (\n",
    "    PollAnalysisRegionID AS PollDetailsID + PollAnalysisID PERSISTED PRIMARY KEY,\n",
    "    PollDetailsID VARCHAR(241) FOREIGN KEY REFERENCES PollDetails(PollDetailsID) NOT NULL,\n",
    "    PollAnalysisID VARCHAR(241) FOREIGN KEY REFERENCES PollAnalysisMeta(PollAnalysisID) NOT NULL,\n",
    "    Swing DECIMAL(9,8) NOT NULL\n",
    "    )\"\"\""
   ]
  },
  {
   "cell_type": "code",
   "execution_count": 28,
   "id": "36a6acdc",
   "metadata": {},
   "outputs": [
    {
     "data": {
      "text/plain": [
       "<sqlalchemy.engine.cursor.LegacyCursorResult at 0x22899add790>"
      ]
     },
     "execution_count": 28,
     "metadata": {},
     "output_type": "execute_result"
    }
   ],
   "source": [
    "engine.execute(CreatePollAnalysisRegions)"
   ]
  },
  {
   "cell_type": "code",
   "execution_count": 29,
   "id": "24e9d339",
   "metadata": {},
   "outputs": [],
   "source": [
    "CreatePollAnalysisConstituencies = \"\"\"Create Table PollAnalysisConstituencies\n",
    "    (\n",
    "    PollAnalysisRegionID VARCHAR(482) FOREIGN KEY REFERENCES PollAnalysisRegions(PollAnalysisRegionID) NOT NULL,\n",
    "    CandidateID VARCHAR(58) FOREIGN KEY REFERENCES Candidates(CandidateID) NOT NULL,\n",
    "    PollAnalysisConstituenciesID AS PollAnalysisRegionID + CandidateID PERSISTED PRIMARY KEY,    \n",
    "    VoteShare DECIMAL(9,8) NOT NULL\n",
    "    )\"\"\""
   ]
  },
  {
   "cell_type": "code",
   "execution_count": 30,
   "id": "29078875",
   "metadata": {},
   "outputs": [
    {
     "data": {
      "text/plain": [
       "<sqlalchemy.engine.cursor.LegacyCursorResult at 0x22899a23460>"
      ]
     },
     "execution_count": 30,
     "metadata": {},
     "output_type": "execute_result"
    }
   ],
   "source": [
    "engine.execute(CreatePollAnalysisConstituencies)"
   ]
  },
  {
   "cell_type": "code",
   "execution_count": 31,
   "id": "bb91ffe9",
   "metadata": {},
   "outputs": [],
   "source": [
    "CreateElectionPredictionMeta = \"\"\"Create Table ElectionPredictionMeta\n",
    "    (\n",
    "    ElectionPredictionID AS CONVERT(CHAR(8),ElectionAnalysisDate,112)  + CONVERT(CHAR(8),ElectionPredictionDate,112) + ElectionAnalysisAlgorithm PERSISTED PRIMARY KEY,\n",
    "    ElectionAnalysisDate Date NOT NULL,\n",
    "    ElectionPredictionDate Date NOT NULL,\n",
    "    ElectionAnalysisAlgorithm VARCHAR(50) NOT NULL\n",
    "    )\"\"\""
   ]
  },
  {
   "cell_type": "code",
   "execution_count": 32,
   "id": "8c0daee0",
   "metadata": {},
   "outputs": [
    {
     "data": {
      "text/plain": [
       "<sqlalchemy.engine.cursor.LegacyCursorResult at 0x2289843c790>"
      ]
     },
     "execution_count": 32,
     "metadata": {},
     "output_type": "execute_result"
    }
   ],
   "source": [
    "engine.execute(CreateElectionPredictionMeta)"
   ]
  },
  {
   "cell_type": "code",
   "execution_count": 33,
   "id": "30dbe205",
   "metadata": {},
   "outputs": [],
   "source": [
    "CreateElectionPredictionPollsUsed = \"\"\"Create Table ElectionPredictionPollsUsed\n",
    "    (\n",
    "    EPPUID AS PollID + ElectionPredictionID PERSISTED PRIMARY KEY,\n",
    "    PollID VARCHAR(183) FOREIGN KEY REFERENCES PollMeta(PollID) NOT NULL,\n",
    "    ElectionPredictionID VARCHAR(66) FOREIGN KEY REFERENCES ElectionPredictionMeta(ElectionPredictionID) NOT NULL\n",
    "    )\"\"\""
   ]
  },
  {
   "cell_type": "code",
   "execution_count": 34,
   "id": "f331801f",
   "metadata": {},
   "outputs": [
    {
     "data": {
      "text/plain": [
       "<sqlalchemy.engine.cursor.LegacyCursorResult at 0x22899b09280>"
      ]
     },
     "execution_count": 34,
     "metadata": {},
     "output_type": "execute_result"
    }
   ],
   "source": [
    "engine.execute(CreateElectionPredictionPollsUsed)"
   ]
  },
  {
   "cell_type": "code",
   "execution_count": 35,
   "id": "ba7fb2f7",
   "metadata": {},
   "outputs": [],
   "source": [
    "CreateElectionPredictionCandidates = \"\"\"Create Table ElectionPredictionCandidates\n",
    "    (\n",
    "    ElectionPredictionCandID AS ElectionPredictionID + CandidateID PERSISTED PRIMARY KEY,\n",
    "    ElectionPredictionID VARCHAR(66) FOREIGN KEY REFERENCES ElectionPredictionMeta(ElectionPredictionID) NOT NULL,\n",
    "    CandidateID VARCHAR(58) FOREIGN KEY REFERENCES Candidates(CandidateID) NOT NULL,\n",
    "    VoteShare DECIMAL(9,8) NOT NULL\n",
    "    )\"\"\""
   ]
  },
  {
   "cell_type": "code",
   "execution_count": 36,
   "id": "fa14edc2",
   "metadata": {
    "scrolled": true
   },
   "outputs": [
    {
     "data": {
      "text/plain": [
       "<sqlalchemy.engine.cursor.LegacyCursorResult at 0x22899addac0>"
      ]
     },
     "execution_count": 36,
     "metadata": {},
     "output_type": "execute_result"
    }
   ],
   "source": [
    "engine.execute(CreateElectionPredictionCandidates)"
   ]
  },
  {
   "cell_type": "code",
   "execution_count": 37,
   "id": "527fe0e9",
   "metadata": {},
   "outputs": [],
   "source": [
    "CreateElectionPredictionConstituencies = \"\"\"Create Table ElectionPredictionConstituencies\n",
    "    (\n",
    "    ElectionPredictionConsID AS ElectionPredictionID + Constituency PERSISTED PRIMARY KEY,\n",
    "    ElectionPredictionID VARCHAR(66) FOREIGN KEY REFERENCES ElectionPredictionMeta(ElectionPredictionID) NOT NULL,\n",
    "    Constituency VARCHAR(50) FOREIGN KEY REFERENCES Constituencies(ConstituencyName) NOT NULL,\n",
    "    WinningParty VARCHAR(8) FOREIGN KEY REFERENCES Parties(PartyAbbreviation) NOT NULL,\n",
    "    SecondParty VARCHAR(8) FOREIGN KEY REFERENCES Parties(PartyAbbreviation) NOT NULL,\n",
    "    VoteShare DECIMAL(9,8) NOT NULL,\n",
    "    Majority DECIMAL(9,8) NOT NULL,\n",
    "    PreviousWinner VARCHAR(8) FOREIGN KEY REFERENCES Parties(PartyAbbreviation) NOT NULL,\n",
    "    GAIN VARCHAR(13) NOT NULL,\n",
    "    LOSS VARCHAR(13) NOT NULL,\n",
    "    Swing DECIMAL(9,8) NOT NULL\n",
    "    )\"\"\""
   ]
  },
  {
   "cell_type": "code",
   "execution_count": 38,
   "id": "4ba64d87",
   "metadata": {},
   "outputs": [
    {
     "data": {
      "text/plain": [
       "<sqlalchemy.engine.cursor.LegacyCursorResult at 0x22899ec4940>"
      ]
     },
     "execution_count": 38,
     "metadata": {},
     "output_type": "execute_result"
    }
   ],
   "source": [
    "engine.execute(CreateElectionPredictionConstituencies)"
   ]
  },
  {
   "cell_type": "code",
   "execution_count": 39,
   "id": "86f8f491",
   "metadata": {},
   "outputs": [],
   "source": [
    "CreateElectionPredictionOverall = \"\"\"Create Table ElectionPredictionOverall\n",
    "    (\n",
    "    ElectionPredictionOverID AS ElectionPredictionID + Party PERSISTED PRIMARY KEY,\n",
    "    ElectionPredictionID VARCHAR(66) FOREIGN KEY REFERENCES ElectionPredictionMeta(ElectionPredictionID) NOT NULL,\n",
    "    Party VARCHAR(8) FOREIGN KEY REFERENCES Parties(PartyAbbreviation) NOT NULL,\n",
    "    VoteShare DECIMAL(9,8) NOT NULL,\n",
    "    Constituencies INT NOT NULL\n",
    "    )\"\"\""
   ]
  },
  {
   "cell_type": "code",
   "execution_count": 40,
   "id": "7187a1a5",
   "metadata": {},
   "outputs": [
    {
     "data": {
      "text/plain": [
       "<sqlalchemy.engine.cursor.LegacyCursorResult at 0x22899ec4fd0>"
      ]
     },
     "execution_count": 40,
     "metadata": {},
     "output_type": "execute_result"
    }
   ],
   "source": [
    "engine.execute(CreateElectionPredictionOverall)"
   ]
  },
  {
   "cell_type": "code",
   "execution_count": 41,
   "id": "64625f7e",
   "metadata": {},
   "outputs": [
    {
     "name": "stdout",
     "output_type": "stream",
     "text": [
      "['Candidates', 'Constituencies', 'ElectionPredictionCandidates', 'ElectionPredictionConstituencies', 'ElectionPredictionMeta', 'ElectionPredictionOverall', 'ElectionPredictionPollsUsed', 'Parties', 'PollAnalysisConstituencies', 'PollAnalysisMeta', 'PollAnalysisRegions', 'PollDetails', 'PollMeta', 'Pollsters', 'RegionConstituencies', 'RegionRegionTypes', 'Regions', 'RegionTypes']\n"
     ]
    }
   ],
   "source": [
    "#Get the table names currently in the database\n",
    "insp = sqlalchemy.inspect(engine)\n",
    "print(insp.get_table_names())"
   ]
  },
  {
   "cell_type": "code",
   "execution_count": 42,
   "id": "5bdf20ff",
   "metadata": {},
   "outputs": [],
   "source": [
    "conn.close()"
   ]
  }
 ],
 "metadata": {
  "kernelspec": {
   "display_name": "Python 3 (ipykernel)",
   "language": "python",
   "name": "python3"
  },
  "language_info": {
   "codemirror_mode": {
    "name": "ipython",
    "version": 3
   },
   "file_extension": ".py",
   "mimetype": "text/x-python",
   "name": "python",
   "nbconvert_exporter": "python",
   "pygments_lexer": "ipython3",
   "version": "3.9.12"
  }
 },
 "nbformat": 4,
 "nbformat_minor": 5
}
