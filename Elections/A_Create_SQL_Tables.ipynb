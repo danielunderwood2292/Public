{
 "cells": [
  {
   "cell_type": "markdown",
   "id": "8089c3a7",
   "metadata": {},
   "source": [
    "This Python Jupyter Notebook creates the SQL Server tables for the UK General Election model, in accordance with the entity-relationship diagram shown below."
   ]
  },
  {
   "cell_type": "code",
   "execution_count": null,
   "id": "5f8d972c",
   "metadata": {},
   "outputs": [],
   "source": [
    "#Import required packages\n",
    "import pyodbc\n",
    "import sqlalchemy\n",
    "from sqlalchemy import create_engine\n",
    "import urllib"
   ]
  },
  {
   "cell_type": "code",
   "execution_count": null,
   "id": "3c7b53bc",
   "metadata": {},
   "outputs": [],
   "source": [
    "#Connect to database 'UK_General_Election' using SQlAlchemy\n",
    "connection_str = \"DRIVER={SQL SERVER};SERVER=DANZPOOTA;DATABASE=UK_General_Election;TRUSTED_CONNECTION=YES\"\n",
    "params = urllib.parse.quote_plus(connection_str)\n",
    "engine = create_engine('mssql+pyodbc:///?odbc_connect=%s' % params)\n",
    "conn = engine.connect()"
   ]
  },
  {
   "cell_type": "code",
   "execution_count": null,
   "id": "26340483",
   "metadata": {},
   "outputs": [],
   "source": [
    "CreateRegionTypes = \"\"\"Create Table RegionTypes\n",
    "    (RegionType VARCHAR(25) PRIMARY KEY NOT NULL)\"\"\""
   ]
  },
  {
   "cell_type": "code",
   "execution_count": null,
   "id": "e2367c62",
   "metadata": {},
   "outputs": [],
   "source": [
    "engine.execute(CreateRegionTypes)"
   ]
  },
  {
   "cell_type": "code",
   "execution_count": null,
   "id": "27e76174",
   "metadata": {},
   "outputs": [],
   "source": [
    "CreatePollsters = \"\"\"Create Table Pollsters\n",
    "    (\n",
    "    PollsterName VARCHAR(100) PRIMARY KEY NOT NULL,\n",
    "    DefaultRegionType VARCHAR(25) FOREIGN KEY REFERENCES RegionTypes(RegionType)\n",
    "    )\"\"\""
   ]
  },
  {
   "cell_type": "code",
   "execution_count": null,
   "id": "2de0d199",
   "metadata": {},
   "outputs": [],
   "source": [
    "engine.execute(CreatePollsters)"
   ]
  },
  {
   "cell_type": "code",
   "execution_count": null,
   "id": "b5f09e32",
   "metadata": {},
   "outputs": [],
   "source": [
    "CreateRegions = \"\"\"Create Table Regions\n",
    "    (\n",
    "    RegionID AS RegionType + RegionName PERSISTED PRIMARY KEY NOT NULL,\n",
    "    RegionName VARCHAR(50) NOT NULL UNIQUE,\n",
    "    RegionType VARCHAR(25) FOREIGN KEY REFERENCES RegionTypes(RegionType) NOT NULL\t\n",
    "    )\"\"\""
   ]
  },
  {
   "cell_type": "code",
   "execution_count": null,
   "id": "d803a149",
   "metadata": {},
   "outputs": [],
   "source": [
    "engine.execute(CreateRegions)"
   ]
  },
  {
   "cell_type": "code",
   "execution_count": null,
   "id": "f1488586",
   "metadata": {},
   "outputs": [],
   "source": [
    "CreateParties = \"\"\"Create Table Parties\n",
    "    (\n",
    "    PartyAbbreviation VARCHAR(7) PRIMARY KEY NOT NULL,\n",
    "    PartyFullName VARCHAR(25)\n",
    "    )\"\"\""
   ]
  },
  {
   "cell_type": "code",
   "execution_count": null,
   "id": "261ded81",
   "metadata": {},
   "outputs": [],
   "source": [
    "engine.execute(CreateParties)"
   ]
  },
  {
   "cell_type": "code",
   "execution_count": null,
   "id": "15f9ed44",
   "metadata": {},
   "outputs": [],
   "source": [
    "CreateConstituencies = \"\"\"Create Table Constituencies\n",
    "    (\n",
    "    ONSID CHAR(9) NOT NULL,\n",
    "    ConstituencyName VARCHAR(50) PRIMARY KEY NOT NULL,\n",
    "    County VARCHAR(25) NOT NULL,\n",
    "    Nation VARCHAR(20) NOT NULL,\n",
    "    ConstituencyType VARCHAR(10) NOT NULL,\n",
    "    ITL1Region VARCHAR(25) NOT NULL,\n",
    "    Latitude DECIMAL(10,8),\n",
    "    Longitude DECIMAL(10,8),\n",
    "    FirstParty VARCHAR(7) FOREIGN KEY REFERENCES Parties(PartyAbbreviation) NOT NULL,\n",
    "    SecondParty VARCHAR(7) FOREIGN KEY REFERENCES Parties(PartyAbbreviation) NOT NULL,\n",
    "    PreviousFirstParty VARCHAR(7) FOREIGN KEY REFERENCES Parties(PartyAbbreviation) NOT NULL,\n",
    "    Electorate INT NOT NULL,\n",
    "    ValidVotes INT NOT NULL,\n",
    "    MajorityVotes INT NOT NULL,\n",
    "    MajorityShare DECIMAL(9,8) NOT NULL,\n",
    "    MPFirstName VARCHAR(25),\n",
    "    MPSurname VARCHAR(25),\n",
    "    MPGender VARCHAR(6),\n",
    "    DeclarationTime datetime\n",
    "    )\"\"\""
   ]
  },
  {
   "cell_type": "code",
   "execution_count": null,
   "id": "9133aadf",
   "metadata": {},
   "outputs": [],
   "source": [
    "engine.execute(CreateConstituencies)"
   ]
  },
  {
   "cell_type": "code",
   "execution_count": null,
   "id": "cf6e30c8",
   "metadata": {},
   "outputs": [],
   "source": [
    "CreateRegionConstituencies = \"\"\"Create Table RegionConstituencies\n",
    "    (\n",
    "    RegionConsID AS RegionID + ConstituencyName PERSISTED PRIMARY KEY NOT NULL,\n",
    "    ConstituencyName VARCHAR(50) FOREIGN KEY REFERENCES Constituencies(ConstituencyName) NOT NULL,\n",
    "    RegionID VARCHAR(75) FOREIGN KEY REFERENCES Regions(RegionID) NOT NULL \n",
    "    )\"\"\""
   ]
  },
  {
   "cell_type": "code",
   "execution_count": null,
   "id": "48a084a4",
   "metadata": {},
   "outputs": [],
   "source": [
    "engine.execute(CreateRegionConstituencies)"
   ]
  },
  {
   "cell_type": "code",
   "execution_count": null,
   "id": "7e2e6b53",
   "metadata": {},
   "outputs": [],
   "source": [
    "# Example constraint: https://stackoverflow.com/questions/7844460/foreign-key-to-multiple-tables\n",
    "CreatePollMeta = \"\"\"Create Table PollMeta\n",
    "    (\n",
    "    PollID AS CONVERT(CHAR(8),PollDate,112) + Pollster + PollType + PollScope PERSISTED PRIMARY KEY,\n",
    "    Pollster VARCHAR(100) FOREIGN KEY REFERENCES Pollsters(PollsterName) NOT NULL,\n",
    "    PollType VARCHAR(25) FOREIGN KEY REFERENCES RegionTypes(RegionType) NOT NULL,\n",
    "    PollDate DATE NOT NULL,\n",
    "    PollScope VARCHAR(50) NOT NULL,\n",
    "    PollScopeAll BIT NOT NULL,\n",
    "    PollScopeRegion VARCHAR(75) FOREIGN KEY REFERENCES Regions(RegionID),\n",
    "    PollScopeConst VARCHAR(50) FOREIGN KEY REFERENCES Constituencies(ConstituencyName),\n",
    "    SampleSize INT,\n",
    "    CONSTRAINT CheckPollScope CHECK(\n",
    "        PollScopeAll +\n",
    "        CASE WHEN PollScopeRegion IS NULL THEN 0 ELSE 1 END +\n",
    "        CASE WHEN PollScopeConst IS NULL THEN 0 ELSE 1 END\n",
    "        = 1)    \n",
    "    )\"\"\""
   ]
  },
  {
   "cell_type": "code",
   "execution_count": null,
   "id": "9353ab9e",
   "metadata": {},
   "outputs": [],
   "source": [
    "engine.execute(CreatePollMeta)"
   ]
  },
  {
   "cell_type": "code",
   "execution_count": null,
   "id": "b7efc35f",
   "metadata": {},
   "outputs": [],
   "source": [
    "CreatePollDetails = \"\"\"Create Table PollDetails\n",
    "    (\n",
    "    PollDetailsID AS PollID + RegionID + Party PERSISTED PRIMARY KEY,\n",
    "    PollID VARCHAR(183) FOREIGN KEY REFERENCES PollMeta(PollID) NOT NULL,\n",
    "    RegionID VARCHAR(75) FOREIGN KEY REFERENCES Regions(RegionID) NOT NULL,\n",
    "    Party VARCHAR(7) FOREIGN KEY REFERENCES Parties(PartyAbbreviation) NOT NULL,\n",
    "    VoteShare DECIMAL(9,8) NOT NULL\n",
    "    )\"\"\""
   ]
  },
  {
   "cell_type": "code",
   "execution_count": null,
   "id": "db791922",
   "metadata": {},
   "outputs": [],
   "source": [
    "engine.execute(CreatePollDetails)"
   ]
  },
  {
   "cell_type": "code",
   "execution_count": null,
   "id": "9a71252d",
   "metadata": {},
   "outputs": [],
   "source": [
    "CreateCandidates = \"\"\"Create Table Candidates\n",
    "    (\n",
    "    CandidateID AS Constituency + Party PERSISTED PRIMARY KEY,\n",
    "    Constituency VARCHAR(50) FOREIGN KEY REFERENCES Constituencies(ConstituencyName) NOT NULL,\n",
    "    Party VARCHAR(7) FOREIGN KEY REFERENCES Parties(PartyAbbreviation) NOT NULL,\n",
    "    SittingMP BIT,\n",
    "    FormerMP BIT,\n",
    "    FirstName VARCHAR(25),\n",
    "    Surname VARCHAR(25)\n",
    "    )\"\"\""
   ]
  },
  {
   "cell_type": "code",
   "execution_count": null,
   "id": "381fec05",
   "metadata": {},
   "outputs": [],
   "source": [
    "engine.execute(CreateCandidates)"
   ]
  },
  {
   "cell_type": "code",
   "execution_count": null,
   "id": "ab373b9c",
   "metadata": {},
   "outputs": [],
   "source": [
    "CreatePollAnalysisMeta = \"\"\"Create Table PollAnalysisMeta\n",
    "    (\n",
    "    PollAnalysisID AS CONVERT(CHAR(8),PollAnalysisDate,112) + PollID + PollAnalysisAlgorithm PERSISTED PRIMARY KEY,\n",
    "    PollAnalysisDate DATE NOT NULL,\n",
    "    PollID VARCHAR(183) FOREIGN KEY REFERENCES PollMeta(PollID) NOT NULL,\n",
    "    PollAnalysisAlgorithm VARCHAR(50) NOT NULL\n",
    "    )\"\"\""
   ]
  },
  {
   "cell_type": "code",
   "execution_count": null,
   "id": "a3d56b6a",
   "metadata": {},
   "outputs": [],
   "source": [
    "engine.execute(CreatePollAnalysisMeta)"
   ]
  },
  {
   "cell_type": "code",
   "execution_count": null,
   "id": "ce8cd0a3",
   "metadata": {},
   "outputs": [],
   "source": [
    "CreatePollAnalysisRegions = \"\"\"Create Table PollAnalysisRegions\n",
    "    (\n",
    "    PollAnalysisRegionID AS PollDetailsID + PollAnalysisID PERSISTED PRIMARY KEY,\n",
    "    PollDetailsID VARCHAR(265) FOREIGN KEY REFERENCES PollDetails(PollDetailsID) NOT NULL,\n",
    "    PollAnalysisID VARCHAR(241) FOREIGN KEY REFERENCES PollAnalysisMeta(PollAnalysisID) NOT NULL,\n",
    "    Swing DECIMAL(9,8) NOT NULL\n",
    "    )\"\"\""
   ]
  },
  {
   "cell_type": "code",
   "execution_count": null,
   "id": "36a6acdc",
   "metadata": {},
   "outputs": [],
   "source": [
    "engine.execute(CreatePollAnalysisRegions)"
   ]
  },
  {
   "cell_type": "code",
   "execution_count": null,
   "id": "24e9d339",
   "metadata": {},
   "outputs": [],
   "source": [
    "CreatePollAnalysisConstituencies = \"\"\"Create Table PollAnalysisConstituencies\n",
    "    (\n",
    "    PollAnalysisRegionID VARCHAR(506) FOREIGN KEY REFERENCES PollAnalysisRegions(PollAnalysisRegionID) NOT NULL,\n",
    "    CandidateID VARCHAR(57) FOREIGN KEY REFERENCES Candidates(CandidateID) NOT NULL,\n",
    "    PollAnalysisConstituenciesID AS PollAnalysisRegionID + CandidateID PERSISTED PRIMARY KEY,    \n",
    "    VoteShare DECIMAL(9,8) NOT NULL\n",
    "    )\"\"\""
   ]
  },
  {
   "cell_type": "code",
   "execution_count": null,
   "id": "29078875",
   "metadata": {},
   "outputs": [],
   "source": [
    "engine.execute(CreatePollAnalysisConstituencies)"
   ]
  },
  {
   "cell_type": "code",
   "execution_count": null,
   "id": "bb91ffe9",
   "metadata": {},
   "outputs": [],
   "source": [
    "CreateElectionPredictionMeta = \"\"\"Create Table ElectionPredictionMeta\n",
    "    (\n",
    "    ElectionPredictionID AS CONVERT(CHAR(8),AnalysisRunDate,112)  + CONVERT(CHAR(8),ElectionPredictionDate,112) + ElectionAlgorithm PERSISTED PRIMARY KEY,\n",
    "    AnalysisRunDate Date NOT NULL,\n",
    "    ElectionPredictionDate Date NOT NULL,\n",
    "    ElectionAlgorithm VARCHAR(50) NOT NULL\n",
    "    )\"\"\""
   ]
  },
  {
   "cell_type": "code",
   "execution_count": null,
   "id": "8c0daee0",
   "metadata": {},
   "outputs": [],
   "source": [
    "engine.execute(CreateElectionPredictionMeta)"
   ]
  },
  {
   "cell_type": "code",
   "execution_count": null,
   "id": "30dbe205",
   "metadata": {},
   "outputs": [],
   "source": [
    "CreateElectionPredictionPollsUsed = \"\"\"Create Table ElectionPredictionPollsUsed\n",
    "    (\n",
    "    EPPUID AS PollID + ElectionPredictionID PERSISTED PRIMARY KEY,\n",
    "    PollID VARCHAR(183) FOREIGN KEY REFERENCES PollMeta(PollID) NOT NULL,\n",
    "    ElectionPredictionID VARCHAR(66) FOREIGN KEY REFERENCES ElectionPredictionMeta(ElectionPredictionID) NOT NULL\n",
    "    )\"\"\""
   ]
  },
  {
   "cell_type": "code",
   "execution_count": null,
   "id": "f331801f",
   "metadata": {},
   "outputs": [],
   "source": [
    "engine.execute(CreateElectionPredictionPollsUsed)"
   ]
  },
  {
   "cell_type": "code",
   "execution_count": null,
   "id": "ba7fb2f7",
   "metadata": {},
   "outputs": [],
   "source": [
    "CreateElectionPredictionData = \"\"\"Create Table ElectionPredictionData\n",
    "    (\n",
    "    ElectionPredictionDataID AS ElectionPredictionID + RegionID + Party PERSISTED PRIMARY KEY,\n",
    "    ElectionPredictionID VARCHAR(66) FOREIGN KEY REFERENCES ElectionPredictionMeta(ElectionPredictionID) NOT NULL,\n",
    "    RegionID VARCHAR(75) REFERENCES Regions(RegionID) NOT NULL,\n",
    "    Party VARCHAR(7) REFERENCES Parties(PartyAbbreviation) NOT NULL,\n",
    "    VoteShare DECIMAL(9,8) NOT NULL\n",
    "    )\"\"\""
   ]
  },
  {
   "cell_type": "code",
   "execution_count": null,
   "id": "fa14edc2",
   "metadata": {},
   "outputs": [],
   "source": [
    "engine.execute(CreateElectionPredictionData)"
   ]
  },
  {
   "cell_type": "code",
   "execution_count": null,
   "id": "64625f7e",
   "metadata": {},
   "outputs": [],
   "source": [
    "#Get the table names currently in the database\n",
    "insp = sqlalchemy.inspect(engine)\n",
    "print(insp.get_table_names())"
   ]
  },
  {
   "cell_type": "code",
   "execution_count": null,
   "id": "a5635545",
   "metadata": {},
   "outputs": [],
   "source": [
    "conn.close()"
   ]
  }
 ],
 "metadata": {
  "kernelspec": {
   "display_name": "Python 3 (ipykernel)",
   "language": "python",
   "name": "python3"
  },
  "language_info": {
   "codemirror_mode": {
    "name": "ipython",
    "version": 3
   },
   "file_extension": ".py",
   "mimetype": "text/x-python",
   "name": "python",
   "nbconvert_exporter": "python",
   "pygments_lexer": "ipython3",
   "version": "3.9.12"
  }
 },
 "nbformat": 4,
 "nbformat_minor": 5
}
