{
 "cells": [
  {
   "cell_type": "markdown",
   "id": "8089c3a7",
   "metadata": {},
   "source": [
    "Jupyter notebook that creates a user-interface to allow the input of polling data to a local Microsoft SQL Server database"
   ]
  },
  {
   "cell_type": "code",
   "execution_count": 1,
   "id": "4fbbe9a6",
   "metadata": {},
   "outputs": [],
   "source": [
    "# GE Add Poll\n",
    "# Examples of python inputs in jupyter notebooks:\n",
    "# Basics: https://queirozf.com/entries/interactive-controls-for-jupyter-notebooks-python-examples\n",
    "# Loops and data validation: https://vegibit.com/python-input-function/\n",
    "# Widgets 1: https://medium.com/convergence-tech/ux-in-jupyter-user-input-essentials-779c9b449f2d\n",
    "# Widgets 2: https://medium.com/@technologger/how-to-interact-with-jupyter-33a98686f24e"
   ]
  },
  {
   "cell_type": "code",
   "execution_count": 2,
   "id": "91256c9c",
   "metadata": {},
   "outputs": [],
   "source": [
    "# Import required modules\n",
    "import pandas as pd\n",
    "import datetime\n",
    "import ipywidgets as widgets\n",
    "\n",
    "#Modules required for \n",
    "import pyodbc\n",
    "import sqlalchemy\n",
    "from sqlalchemy import create_engine\n",
    "import urllib"
   ]
  },
  {
   "cell_type": "code",
   "execution_count": 3,
   "id": "4b1e6ad9",
   "metadata": {},
   "outputs": [],
   "source": [
    "#Connect to database 'UK_General_Election' using SQlAlchemy\n",
    "connection_str = \"DRIVER={SQL SERVER};SERVER=DANZPOOTA;DATABASE=UK_General_Election;TRUSTED_CONNECTION=YES\"\n",
    "params = urllib.parse.quote_plus(connection_str)\n",
    "engine = create_engine('mssql+pyodbc:///?odbc_connect=%s' % params)\n",
    "conn = engine.connect()"
   ]
  },
  {
   "cell_type": "code",
   "execution_count": 34,
   "id": "f33d4cb7",
   "metadata": {},
   "outputs": [],
   "source": [
    "# create pollsters_list from database\n",
    "pollsters_list = [i[0] for i in engine.execute(\"select PollsterName from Pollsters\")]\n",
    "polltypes_list = [i[0] for i in engine.execute(\"select RegionType from RegionTypes\")]\n",
    "pollscopes_list = [i[0] for i in engine.execute(\"select RegionName from Regions\")]"
   ]
  },
  {
   "cell_type": "code",
   "execution_count": 40,
   "id": "7157dbdb",
   "metadata": {},
   "outputs": [
    {
     "data": {
      "application/vnd.jupyter.widget-view+json": {
       "model_id": "de82e8c4ca5a4c178f52808f9130618c",
       "version_major": 2,
       "version_minor": 0
      },
      "text/plain": [
       "RadioButtons(description='Pollster:', options=('BMG', 'Deltapoll', 'FindOutNow', 'Focaldata', 'ICM', 'Ipsos', …"
      ]
     },
     "metadata": {},
     "output_type": "display_data"
    },
    {
     "data": {
      "application/vnd.jupyter.widget-view+json": {
       "model_id": "30626a7e757a4564beaa89fb09f9cd48",
       "version_major": 2,
       "version_minor": 0
      },
      "text/plain": [
       "DatePicker(value=datetime.date(2023, 5, 15), description='Poll date:')"
      ]
     },
     "metadata": {},
     "output_type": "display_data"
    },
    {
     "data": {
      "application/vnd.jupyter.widget-view+json": {
       "model_id": "fbc0182c8829432e859e26c921c305db",
       "version_major": 2,
       "version_minor": 0
      },
      "text/plain": [
       "RadioButtons(description='Poll Type:', options=('Constituency', 'GB', 'ICM', 'ITL1Region', 'Nation', 'Scotland…"
      ]
     },
     "metadata": {},
     "output_type": "display_data"
    },
    {
     "data": {
      "application/vnd.jupyter.widget-view+json": {
       "model_id": "e0b7a7f89b58456993bc6792d68547f6",
       "version_major": 2,
       "version_minor": 0
      },
      "text/plain": [
       "Dropdown(description='Poll Scope:', options=('Cardiff and South Central Wales', 'Central Scotland', 'East Engl…"
      ]
     },
     "metadata": {},
     "output_type": "display_data"
    }
   ],
   "source": [
    "# pollsters selection widget\n",
    "pollster_widget = widgets.RadioButtons(\n",
    "    options = pollsters_list,\n",
    "    rows = len(pollsters_list),\n",
    "    description = 'Pollster:'\n",
    "    )\n",
    "display(pollster_widget)\n",
    "\n",
    "# Polldate widget\n",
    "polldate_widget = widgets.DatePicker(\n",
    "    description = 'Poll date:',\n",
    "    value = datetime.date.today()\n",
    "    )\n",
    "display(polldate_widget)\n",
    "\n",
    "polltype_widget = widgets.RadioButtons(\n",
    "    options = polltypes_list,\n",
    "    rows = len(polltypes_list),\n",
    "    description = 'Poll Type:'\n",
    "    )\n",
    "display(polltype_widget)\n",
    "\n",
    "pollscope_widget = widgets.Dropdown(\n",
    "    options = pollscopes_list,\n",
    "    rows = len(pollscopes_list),\n",
    "    description = 'Poll Scope:'\n",
    "    )\n",
    "display(pollscope_widget)"
   ]
  },
  {
   "cell_type": "code",
   "execution_count": 42,
   "id": "7e597fd6",
   "metadata": {},
   "outputs": [
    {
     "name": "stdout",
     "output_type": "stream",
     "text": [
      "ICM\n",
      "2023-05-15\n"
     ]
    }
   ],
   "source": [
    "# New cell\n",
    "pollster = pollster_widget.value\n",
    "polldate = polldate_widget.value\n",
    "print(pollster)\n",
    "print(polldate)"
   ]
  },
  {
   "cell_type": "code",
   "execution_count": null,
   "id": "60c0c52d",
   "metadata": {},
   "outputs": [],
   "source": [
    "#New cell\n",
    "\n",
    "# Find the number of regions for a particular poll/region type\n",
    "no_regions_query = \"select count(*) from Regions where RegionName = \"<polltype>\"\"\n",
    "\n",
    "#generate list of region names applicable to this poll type\n",
    "regionnames_list = []\n",
    "\n",
    "# Need to find a way to variable-ise the party vote share questions\n",
    "# Initialise variables for vote shares\n",
    "con_share = float(-0.1)\n",
    "lab_share = float(-0.1)\n",
    "ld_share = float(-0.1)\n",
    "snp_share = float(-0.1)\n",
    "pc_share = float(-0.1)\n",
    "green_share = float(-0.1)\n",
    "ref_share = float(-0.1)\n",
    "other_share = float(-0.1)\n",
    "total_share = float(-0.1)\n",
    "\n",
    "# Jupyter dialogue box for adding vote shares\n",
    "while True:\n",
    "    con_share = float(input = \"Enter the Con share between 0 and 1:\")\n",
    "    if con_share > 0 and con_share < 1\n",
    "        break\n",
    "    else:\n",
    "        print(\"Incorrect entry, please try again.\")\n",
    "\n",
    "# Jupyter dialogue box using just while\n",
    "while con_share < 0 or con_share > 1:\n",
    "    con_share = float(input = \"Enter the Con share between 0 and 1:\")\n",
    "    \n",
    "if total_share > 1.01 or total_share < 0.99:\n",
    "    print(\"The sum of party vote shares falls outside of the range 0.99 to 1.01.\")\n",
    "    \n",
    "# Loop around each region in the region types\n",
    "for i in range(1,no_regions):\n",
    "    current_region_name = regionnames_list[i-1]\n",
    "    while total_share > 1.01 or total_share < 0.99:\n",
    "        total_share = con_share + lab_share + ld_share + snp_share + pc_share + green_share + ref_share + other_share\n",
    "        print(\"The sum of party vote shares falls outside of the range 0.99 to 1.01. Let's try this again.\")"
   ]
  },
  {
   "cell_type": "code",
   "execution_count": 43,
   "id": "8cf346b8",
   "metadata": {},
   "outputs": [],
   "source": [
    "#Close the connection with the database\n",
    "conn.close()"
   ]
  }
 ],
 "metadata": {
  "kernelspec": {
   "display_name": "Python 3 (ipykernel)",
   "language": "python",
   "name": "python3"
  },
  "language_info": {
   "codemirror_mode": {
    "name": "ipython",
    "version": 3
   },
   "file_extension": ".py",
   "mimetype": "text/x-python",
   "name": "python",
   "nbconvert_exporter": "python",
   "pygments_lexer": "ipython3",
   "version": "3.9.12"
  }
 },
 "nbformat": 4,
 "nbformat_minor": 5
}
