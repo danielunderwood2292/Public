{
 "cells": [
  {
   "cell_type": "markdown",
   "id": "8089c3a7",
   "metadata": {},
   "source": [
    "This Python Jupyter Notebook is used to import election poll details from Excel spreadsheets into the UK General Elections Model.\n",
    "\n",
    "It also then checks to see if there are any polls on the Wikipedia page of UK general election opinion polling that have not been incorporated in the model using webscraping technqiues with the Beautiful Soup Python package\n",
    "\n",
    "Wikipedia Opinion Polling page:\n",
    "https://en.wikipedia.org/wiki/Opinion_polling_for_the_2024_United_Kingdom_general_election"
   ]
  },
  {
   "cell_type": "code",
   "execution_count": 1,
   "id": "5f8d972c",
   "metadata": {},
   "outputs": [],
   "source": [
    "#Import required Python packages\n",
    "import pyodbc\n",
    "import sqlalchemy\n",
    "from sqlalchemy import create_engine\n",
    "import urllib\n",
    "import pandas as pd\n",
    "import numpy as np\n",
    "import requests\n",
    "from bs4 import BeautifulSoup\n",
    "from datetime import datetime"
   ]
  },
  {
   "cell_type": "code",
   "execution_count": 2,
   "id": "3c7b53bc",
   "metadata": {},
   "outputs": [],
   "source": [
    "#Connect to database 'UK_General_Election' using SQlAlchemy\n",
    "connection_str = \"DRIVER={SQL SERVER};SERVER=DANZPOOTA;DATABASE=UK_General_Election;TRUSTED_CONNECTION=YES\"\n",
    "params = urllib.parse.quote_plus(connection_str)\n",
    "engine = create_engine('mssql+pyodbc:///?odbc_connect=%s' % params)\n",
    "conn = engine.connect()"
   ]
  },
  {
   "cell_type": "code",
   "execution_count": 3,
   "id": "90536ef4",
   "metadata": {},
   "outputs": [],
   "source": [
    "# Create a list of Excel file names to check for polls in:\n",
    "Excelfiles = [\"Constituency_Polls_Import\",\"RedBlueWall_Polls_Import\",\"London_Polls_Import\",\"NI_Polls_Import_Actual\",\"Scotland_Polls_Import\",\"Wales_Polls_Import\",\"UK_Polls_Import_2023_December\",\"UK_Polls_Import_2024\",\"MRP_Import\"]"
   ]
  },
  {
   "cell_type": "code",
   "execution_count": 4,
   "id": "75d2b043",
   "metadata": {},
   "outputs": [],
   "source": [
    "# Loop around all of the files in the list created above\n",
    "for filename in Excelfiles:\n",
    "    # Location of file to be used\n",
    "    xls_path = \"C:\\\\Users\\\\danmu\\\\Documents\\\\Elections\\\\2024_Python\\\\Polls_Imports\\\\<filename>.xlsx\"\n",
    "    xls_path = xls_path.replace('<filename>',filename)\n",
    "    \n",
    "    # Read the 'PollMeta' worksheet from Excel into a dataframe\n",
    "    xls_pollmeta_df = pd.read_excel(xls_path, sheet_name='PollMeta', usecols = \"A:I,K\")\n",
    "    \n",
    "    # Delete any rows in the poll data that contains the default ID\n",
    "    cond = xls_pollmeta_df['PollID']=='19000100ERROR'\n",
    "    xls_pollmeta_df.drop(xls_pollmeta_df[cond].index, inplace = True)\n",
    "    xls_pollmeta_df\n",
    "    \n",
    "    # Read the 'PollDetails' worksheet from Excel into a dataframe\n",
    "    xls_polldetails_df = pd.read_excel(xls_path, sheet_name='PollDetails', usecols = \"A:E\")\n",
    "    \n",
    "    # Pull details of Polls already in database\n",
    "    DBPollsQuery = \"\"\"SELECT PollID FROM PollMeta\"\"\"\n",
    "    DB_Polls_df = pd.read_sql(DBPollsQuery,conn)\n",
    "    \n",
    "    # Find which polls are in the database by merging the pulled information with the excel information\n",
    "    pollsindb_df = xls_pollmeta_df.merge(DB_Polls_df['PollID'], how='inner', on='PollID')\n",
    "    \n",
    "    # Copy the Excel import poll meta information into a new dataframe that can be edited inplace\n",
    "    import_pollmeta_df = xls_pollmeta_df.copy()\n",
    "\n",
    "    # Copy the Excel import poll details information into a new dataframe that can be edited inplace\n",
    "    import_polldetails_df = xls_polldetails_df.copy()\n",
    "\n",
    "    # Set the index to 'PollID' so the polls in the database can be dropped\n",
    "    import_pollmeta_df.set_index('PollID',inplace=True)\n",
    "    import_pollmeta_df.drop(index=pollsindb_df['PollID'],axis=0,inplace=True)\n",
    "    \n",
    "    # Delete from poll details using a condition\n",
    "    # The method used above for the poll meta data cannot be used as errors arise from duplicate indices\n",
    "    cond = import_polldetails_df['PollID'].isin(pollsindb_df['PollID'])\n",
    "    import_polldetails_df.drop(import_polldetails_df[cond].index, inplace = True)\n",
    "    import_polldetails_df\n",
    "    \n",
    "    # The 'PollID' column is dropped from the meta df as this is automatically generated in the database\n",
    "    import_pollmeta_df.reset_index(drop=True,inplace=True)\n",
    "    \n",
    "    # Insert the PollMeta info into the database\n",
    "    import_pollmeta_df.to_sql('PollMeta', conn, if_exists='append', index=False)\n",
    "    \n",
    "    # Insert the PollDetails info into the database\n",
    "    import_polldetails_df.to_sql('PollDetails', conn, if_exists='append', index=False)"
   ]
  },
  {
   "cell_type": "code",
   "execution_count": 5,
   "id": "6082888d",
   "metadata": {
    "scrolled": false
   },
   "outputs": [
    {
     "data": {
      "text/html": [
       "<div>\n",
       "<style scoped>\n",
       "    .dataframe tbody tr th:only-of-type {\n",
       "        vertical-align: middle;\n",
       "    }\n",
       "\n",
       "    .dataframe tbody tr th {\n",
       "        vertical-align: top;\n",
       "    }\n",
       "\n",
       "    .dataframe thead th {\n",
       "        text-align: right;\n",
       "    }\n",
       "</style>\n",
       "<table border=\"1\" class=\"dataframe\">\n",
       "  <thead>\n",
       "    <tr style=\"text-align: right;\">\n",
       "      <th></th>\n",
       "      <th>Pollster</th>\n",
       "      <th>PollDate</th>\n",
       "      <th>SampleSize</th>\n",
       "      <th>PollType</th>\n",
       "      <th>PollScopeAll</th>\n",
       "      <th>PollScopeRegion</th>\n",
       "      <th>PollScopeConst</th>\n",
       "      <th>PollScope</th>\n",
       "      <th>PollLink</th>\n",
       "    </tr>\n",
       "  </thead>\n",
       "  <tbody>\n",
       "  </tbody>\n",
       "</table>\n",
       "</div>"
      ],
      "text/plain": [
       "Empty DataFrame\n",
       "Columns: [Pollster, PollDate, SampleSize, PollType, PollScopeAll, PollScopeRegion, PollScopeConst, PollScope, PollLink]\n",
       "Index: []"
      ]
     },
     "execution_count": 5,
     "metadata": {},
     "output_type": "execute_result"
    }
   ],
   "source": [
    "import_pollmeta_df"
   ]
  },
  {
   "cell_type": "code",
   "execution_count": 6,
   "id": "ac83bfe1",
   "metadata": {
    "scrolled": true
   },
   "outputs": [
    {
     "data": {
      "text/html": [
       "<div>\n",
       "<style scoped>\n",
       "    .dataframe tbody tr th:only-of-type {\n",
       "        vertical-align: middle;\n",
       "    }\n",
       "\n",
       "    .dataframe tbody tr th {\n",
       "        vertical-align: top;\n",
       "    }\n",
       "\n",
       "    .dataframe thead th {\n",
       "        text-align: right;\n",
       "    }\n",
       "</style>\n",
       "<table border=\"1\" class=\"dataframe\">\n",
       "  <thead>\n",
       "    <tr style=\"text-align: right;\">\n",
       "      <th></th>\n",
       "      <th>PollID</th>\n",
       "      <th>RegionName</th>\n",
       "      <th>Constituency</th>\n",
       "      <th>Party</th>\n",
       "      <th>VoteShare</th>\n",
       "    </tr>\n",
       "  </thead>\n",
       "  <tbody>\n",
       "  </tbody>\n",
       "</table>\n",
       "</div>"
      ],
      "text/plain": [
       "Empty DataFrame\n",
       "Columns: [PollID, RegionName, Constituency, Party, VoteShare]\n",
       "Index: []"
      ]
     },
     "execution_count": 6,
     "metadata": {},
     "output_type": "execute_result"
    }
   ],
   "source": [
    "import_polldetails_df"
   ]
  },
  {
   "cell_type": "code",
   "execution_count": 7,
   "id": "4c3366a7",
   "metadata": {},
   "outputs": [
    {
     "data": {
      "text/html": [
       "<div>\n",
       "<style scoped>\n",
       "    .dataframe tbody tr th:only-of-type {\n",
       "        vertical-align: middle;\n",
       "    }\n",
       "\n",
       "    .dataframe tbody tr th {\n",
       "        vertical-align: top;\n",
       "    }\n",
       "\n",
       "    .dataframe thead th {\n",
       "        text-align: right;\n",
       "    }\n",
       "</style>\n",
       "<table border=\"1\" class=\"dataframe\">\n",
       "  <thead>\n",
       "    <tr style=\"text-align: right;\">\n",
       "      <th></th>\n",
       "      <th>PollID</th>\n",
       "    </tr>\n",
       "  </thead>\n",
       "  <tbody>\n",
       "  </tbody>\n",
       "</table>\n",
       "</div>"
      ],
      "text/plain": [
       "Empty DataFrame\n",
       "Columns: [PollID]\n",
       "Index: []"
      ]
     },
     "execution_count": 7,
     "metadata": {},
     "output_type": "execute_result"
    }
   ],
   "source": [
    "# Check to confirm that all polls in the database have both PollMeta and PollDetails populated\n",
    "PollInfoQuery = \"\"\"SELECT A.PollID from PollMeta A LEFT JOIN PollDetails B ON A.PollID = B.PollID WHERE B.PollID IS NULL\"\"\"\n",
    "PollInfoQuery_df = pd.read_sql(PollInfoQuery,conn)\n",
    "PollInfoQuery_df"
   ]
  },
  {
   "cell_type": "code",
   "execution_count": 8,
   "id": "a78d58a2",
   "metadata": {},
   "outputs": [],
   "source": [
    "# Get a list of the pollsters names stored in the database\n",
    "pollsters_list = [i[0] for i in engine.execute(\"select PollsterName from Pollsters\")]"
   ]
  },
  {
   "cell_type": "code",
   "execution_count": 9,
   "id": "ce9e9c2a",
   "metadata": {},
   "outputs": [],
   "source": [
    "# List of tags for the different types of polls that are assessed against the web page\n",
    "Tags = ['GB','London','Northern Ireland','Scotland','Wales','JLPRedWall', 'RWRedWall', 'RWBlueWall', 'MICBlueWall']"
   ]
  },
  {
   "cell_type": "code",
   "execution_count": 10,
   "id": "03c7db0b",
   "metadata": {},
   "outputs": [
    {
     "name": "stdout",
     "output_type": "stream",
     "text": [
      "UK: 2 London: 10 Scotland: 14 Wales: 15\n"
     ]
    }
   ],
   "source": [
    "# Find all of the table indices to be assessed\n",
    "\n",
    "#URL for UK general election polling\n",
    "url = \"https://en.wikipedia.org/wiki/Opinion_polling_for_the_2024_United_Kingdom_general_election\"\n",
    "\n",
    "# Get the contents of the webpage in text format and store in a variable called data\n",
    "data  = requests.get(url).text\n",
    "\n",
    "# Parse using BeautifulSoup to make the data more manageable\n",
    "soup = BeautifulSoup(data,\"html.parser\")\n",
    "\n",
    "# Find all the tables in the page\n",
    "tables = soup.find_all('table')\n",
    "\n",
    "# The UK polling table uses the UK party names in the table headings, unlike the other tables on the page\n",
    "for index,thead in enumerate(tables):\n",
    "    if (\"Conservative Party (UK)\" in str(thead)):\n",
    "        uk_table_index = index\n",
    "        break #Need a break to stop searching for the UK party as multiple tables have this in\n",
    "        \n",
    "for index,thead in enumerate(tables):\n",
    "    if (\"London Labour\" in str(thead)):\n",
    "        london_table_index = index\n",
    "        \n",
    "    if (\"Democratic Unionist Party\" in str(thead)):\n",
    "        ni_table_index = index\n",
    "    \n",
    "    if (\"Scottish Conservatives\" in str(thead)):\n",
    "        scotland_table_index = index\n",
    "        \n",
    "    if (\"Welsh Labour\" in str(thead)):\n",
    "        wales_table_index = index\n",
    "        \n",
    "print(\"UK:\",uk_table_index,\"London:\",london_table_index,\"Scotland:\",scotland_table_index,\"Wales:\",wales_table_index)"
   ]
  },
  {
   "cell_type": "code",
   "execution_count": 11,
   "id": "35f4d5e9",
   "metadata": {},
   "outputs": [],
   "source": [
    "# Additional table indices that are not automatically found from the scraped web page\n",
    "JLPRedWall_index = 36\n",
    "RWRedWall_index = 37\n",
    "MICBlueWall_index = 40\n",
    "RWBlueWall_index = 42"
   ]
  },
  {
   "cell_type": "code",
   "execution_count": 12,
   "id": "0fe3fddf",
   "metadata": {},
   "outputs": [],
   "source": [
    "# Put all of the table indices into a list to be cycled through\n",
    "TableIndices = [uk_table_index, london_table_index, ni_table_index, scotland_table_index, wales_table_index,JLPRedWall_index, RWRedWall_index, RWBlueWall_index, MICBlueWall_index]"
   ]
  },
  {
   "cell_type": "code",
   "execution_count": 13,
   "id": "8abd30fb",
   "metadata": {},
   "outputs": [],
   "source": [
    "# SQL queries for each type of poll\n",
    "SelectGBPollsQuery = \"\"\"SELECT PollDate, Pollster FROM PollMeta\n",
    "WHERE PollType = 'GB' OR PollType = 'Nation-NINA' OR PollType = 'ITL1Region-NINA'\n",
    "OR PollType = 'GBFiveLonSouth' OR PollType = 'GBFiveMidWales' OR PollType = 'GBSix'\n",
    "AND PollScope = 'All'\n",
    "ORDER BY PollDate DESC\"\"\"\n",
    "\n",
    "SelectLondonPollsQuery = \"SELECT PollDate, Pollster FROM PollMeta WHERE PollType Like '%London%' OR PollScope = 'London' ORDER BY PollDate DESC\"\n",
    "\n",
    "SelectNIPollsQuery = \"SELECT PollDate, Pollster FROM PollMeta WHERE PollScope = 'Northern Ireland' ORDER BY PollDate DESC\"\n",
    "\n",
    "SelectScotPollsQuery = \"SELECT PollDate, Pollster FROM PollMeta WHERE PollType = 'ScotlandRegion' OR PollScope = 'Scotland' ORDER BY PollDate DESC\"\n",
    "\n",
    "SelectWalesPollsQuery = \"SELECT PollDate, Pollster FROM PollMeta WHERE PollType = 'WalesRegion' OR PollScope = 'Wales' ORDER BY PollDate DESC\"\n",
    "\n",
    "SelectJLPRWPollsQuery = \"SELECT PollDate, Pollster FROM PollMeta WHERE PollType = 'JLPRedWall' ORDER BY PollDate DESC\"\n",
    "\n",
    "SelectRWRWPollsQuery = \"SELECT PollDate, Pollster FROM PollMeta WHERE PollType = 'R&WRedWall' ORDER BY PollDate DESC\"\n",
    "\n",
    "SelectRWBWPollsQuery = \"SELECT PollDate, Pollster FROM PollMeta WHERE PollType = 'R&WBlueWall' ORDER BY PollDate DESC\"\n",
    "\n",
    "SelectMICBWPollsQuery = \"SELECT PollDate, Pollster FROM PollMeta WHERE PollType = 'MICBlueWall' ORDER BY PollDate DESC\"\n",
    "\n",
    "Queries = [SelectGBPollsQuery, SelectLondonPollsQuery, SelectNIPollsQuery, SelectScotPollsQuery, SelectWalesPollsQuery, SelectJLPRWPollsQuery, SelectRWRWPollsQuery, SelectRWBWPollsQuery, SelectMICBWPollsQuery]"
   ]
  },
  {
   "cell_type": "code",
   "execution_count": 14,
   "id": "66bddbfb",
   "metadata": {},
   "outputs": [],
   "source": [
    "# Create a dataframe with: [Tag, Table Index, Database polls query]\n",
    "loop_df = pd.DataFrame(columns=[\"Tag\", \"TableIndex\", \"Query\"])\n",
    "loop_df['Tag'] = Tags\n",
    "loop_df['TableIndex'] = TableIndices\n",
    "loop_df ['Query'] = Queries"
   ]
  },
  {
   "cell_type": "code",
   "execution_count": 15,
   "id": "9136bc3d",
   "metadata": {
    "scrolled": true
   },
   "outputs": [],
   "source": [
    "NewPolls_df = pd.DataFrame(columns=[\"Pollster\", \"PollDate\",\"Tag\"])\n",
    "\n",
    "# Main loop that goes through every poll type, scrapes the polls from the webpage and then comapres to the polls in the database\n",
    "for i in range(0, len(loop_df)):\n",
    "    TableIndex = loop_df.loc[i,'TableIndex']\n",
    "    \n",
    "    # Create a new webdata dataframe for each poll type\n",
    "    WebData_df = pd.DataFrame(columns=[\"Pollster\", \"PollDate\",\"Tag\"])\n",
    "    \n",
    "    # Determine the maximum number of columns in the table\n",
    "    for row in tables[TableIndex].tbody.find_all(\"tr\"):\n",
    "        col = row.find_all(\"th\")\n",
    "        no_cols = len(col)\n",
    "        if no_cols > 0:\n",
    "            break\n",
    "            \n",
    "    for row in tables[TableIndex].tbody.find_all(\"tr\"):\n",
    "        col = row.find_all(\"td\")\n",
    "        if (col != [] and len(col) == no_cols):\n",
    "            \n",
    "            # Scrape the date\n",
    "            rawdate = col[0].text.strip()\n",
    "            \n",
    "            # Check if the end of the rawdate is a year or not by checking if its an integer\n",
    "            try:\n",
    "                int(int(rawdate[len(rawdate)-3:len(rawdate)]))                \n",
    "            except:\n",
    "                rawdate = rawdate + ' 2024'\n",
    "            \n",
    "            calcdate = rawdate\n",
    "                \n",
    "            # Modify the raw date into a usuable date form\n",
    "            for ipos in range(0,len(rawdate)):             \n",
    "                if rawdate[ipos:ipos+1] == '–' or rawdate[ipos:ipos+1] == '-':\n",
    "                    if rawdate[ipos+1:ipos+2] == ' ':\n",
    "                        calcdate = rawdate[ipos+2:len(rawdate)]\n",
    "                    else:\n",
    "                        calcdate = rawdate[ipos+1:len(rawdate)]\n",
    "                    break\n",
    "                    \n",
    "            calcdate = datetime.strptime(calcdate.replace(\" \",\"\"), '%d%b%Y')        \n",
    "            calcdate = datetime.strftime(calcdate, '%Y-%m-%d')  \n",
    "            \n",
    "            # Scrape the pollster\n",
    "            pollster = col[1].text.strip()\n",
    "            \n",
    "            # Determine whether poll is an MRP one or not\n",
    "            if \"MRP\" in pollster or \"SRP\" in pollster:\n",
    "                tag = \"MRP\"\n",
    "            else:\n",
    "                tag = loop_df.loc[i,'Tag']\n",
    "            \n",
    "            for j in pollsters_list:          \n",
    "                    \n",
    "                if j in pollster:\n",
    "                    pollster = j            \n",
    "   \n",
    "            NewWebData_df = pd.DataFrame({\"Pollster\":pollster, \"PollDate\":calcdate, \"Tag\":tag},index = [0])\n",
    "            WebData_df = pd.concat([WebData_df,NewWebData_df],axis=0)\n",
    "    \n",
    "    # Read the polls already in the database\n",
    "    Database_df = pd.read_sql(loop_df.loc[i,'Query'],conn)\n",
    "    Database_df['Tag'] = loop_df.loc[i,'Tag']\n",
    "    \n",
    "    # Reset the index of the web data to enable true comparison of the dataframes\n",
    "    WebData_df.reset_index(drop=True,inplace=True)\n",
    "          \n",
    "    # Compare the two dataframes for any differences   \n",
    "    Diff_df = pd.concat([WebData_df,Database_df]).drop_duplicates(keep=False)\n",
    "    NewPolls_df = pd.concat([NewPolls_df,Diff_df],axis=0)\n",
    "    #print(len(Diff_df),\"new\",loop_df.loc[i,'Tag'],\"polls found?\")\n",
    "\n",
    "    NewPolls_df.reset_index(drop=True,inplace=True)\n",
    "    WebData_df.reset_index(drop=True,inplace=True)\n",
    "\n",
    "NewPolls_df.reset_index(drop=True,inplace=True)\n",
    "WebData_df.reset_index(drop=True,inplace=True)"
   ]
  },
  {
   "cell_type": "code",
   "execution_count": 16,
   "id": "a2d31e2f",
   "metadata": {},
   "outputs": [
    {
     "data": {
      "text/plain": [
       "40"
      ]
     },
     "execution_count": 16,
     "metadata": {},
     "output_type": "execute_result"
    }
   ],
   "source": [
    "TableIndex"
   ]
  },
  {
   "cell_type": "code",
   "execution_count": 17,
   "id": "54f28e51",
   "metadata": {
    "scrolled": false
   },
   "outputs": [
    {
     "data": {
      "text/html": [
       "<div>\n",
       "<style scoped>\n",
       "    .dataframe tbody tr th:only-of-type {\n",
       "        vertical-align: middle;\n",
       "    }\n",
       "\n",
       "    .dataframe tbody tr th {\n",
       "        vertical-align: top;\n",
       "    }\n",
       "\n",
       "    .dataframe thead th {\n",
       "        text-align: right;\n",
       "    }\n",
       "</style>\n",
       "<table border=\"1\" class=\"dataframe\">\n",
       "  <thead>\n",
       "    <tr style=\"text-align: right;\">\n",
       "      <th></th>\n",
       "      <th>Pollster</th>\n",
       "      <th>PollDate</th>\n",
       "      <th>Tag</th>\n",
       "    </tr>\n",
       "  </thead>\n",
       "  <tbody>\n",
       "    <tr>\n",
       "      <th>0</th>\n",
       "      <td>Survation</td>\n",
       "      <td>2024-07-03</td>\n",
       "      <td>MRP</td>\n",
       "    </tr>\n",
       "  </tbody>\n",
       "</table>\n",
       "</div>"
      ],
      "text/plain": [
       "    Pollster    PollDate  Tag\n",
       "0  Survation  2024-07-03  MRP"
      ]
     },
     "execution_count": 17,
     "metadata": {},
     "output_type": "execute_result"
    }
   ],
   "source": [
    "# Show the MRP polls not found in the database\n",
    "SelectMRPsQuery = \"SELECT PollDate, Pollster FROM PollMeta WHERE PollType Like '%MRP%' ORDER BY PollDate DESC\"\n",
    "Database_df = pd.read_sql(SelectMRPsQuery,conn)\n",
    "Database_df['Tag'] = 'MRP'\n",
    "Database_df.replace(to_replace='FindOutNow',value='Electoral Calculus',inplace=True)\n",
    "Diff_df = pd.concat([NewPolls_df[(NewPolls_df['Tag'] == 'MRP')],Database_df]).drop_duplicates(keep=False)\n",
    "Diff_df"
   ]
  },
  {
   "cell_type": "code",
   "execution_count": 18,
   "id": "a85b5b4f",
   "metadata": {
    "scrolled": false
   },
   "outputs": [
    {
     "data": {
      "text/html": [
       "<div>\n",
       "<style scoped>\n",
       "    .dataframe tbody tr th:only-of-type {\n",
       "        vertical-align: middle;\n",
       "    }\n",
       "\n",
       "    .dataframe tbody tr th {\n",
       "        vertical-align: top;\n",
       "    }\n",
       "\n",
       "    .dataframe thead th {\n",
       "        text-align: right;\n",
       "    }\n",
       "</style>\n",
       "<table border=\"1\" class=\"dataframe\">\n",
       "  <thead>\n",
       "    <tr style=\"text-align: right;\">\n",
       "      <th></th>\n",
       "      <th>Pollster</th>\n",
       "      <th>PollDate</th>\n",
       "      <th>Tag</th>\n",
       "    </tr>\n",
       "  </thead>\n",
       "  <tbody>\n",
       "    <tr>\n",
       "      <th>0</th>\n",
       "      <td>2024 general election</td>\n",
       "      <td>2024-07-04</td>\n",
       "      <td>GB</td>\n",
       "    </tr>\n",
       "  </tbody>\n",
       "</table>\n",
       "</div>"
      ],
      "text/plain": [
       "                Pollster    PollDate Tag\n",
       "0  2024 general election  2024-07-04  GB"
      ]
     },
     "execution_count": 18,
     "metadata": {},
     "output_type": "execute_result"
    }
   ],
   "source": [
    "# Show the GB polls not found in the database\n",
    "NewPolls_df[(NewPolls_df['PollDate'] > '2023-12-31') & (NewPolls_df['Tag'] == 'GB')]"
   ]
  },
  {
   "cell_type": "code",
   "execution_count": 19,
   "id": "74daba32",
   "metadata": {
    "scrolled": false
   },
   "outputs": [
    {
     "data": {
      "text/html": [
       "<div>\n",
       "<style scoped>\n",
       "    .dataframe tbody tr th:only-of-type {\n",
       "        vertical-align: middle;\n",
       "    }\n",
       "\n",
       "    .dataframe tbody tr th {\n",
       "        vertical-align: top;\n",
       "    }\n",
       "\n",
       "    .dataframe thead th {\n",
       "        text-align: right;\n",
       "    }\n",
       "</style>\n",
       "<table border=\"1\" class=\"dataframe\">\n",
       "  <thead>\n",
       "    <tr style=\"text-align: right;\">\n",
       "      <th></th>\n",
       "      <th>Pollster</th>\n",
       "      <th>PollDate</th>\n",
       "      <th>Tag</th>\n",
       "    </tr>\n",
       "  </thead>\n",
       "  <tbody>\n",
       "  </tbody>\n",
       "</table>\n",
       "</div>"
      ],
      "text/plain": [
       "Empty DataFrame\n",
       "Columns: [Pollster, PollDate, Tag]\n",
       "Index: []"
      ]
     },
     "execution_count": 19,
     "metadata": {},
     "output_type": "execute_result"
    }
   ],
   "source": [
    "# Show the London polls not found in the database\n",
    "NewPolls_df[(NewPolls_df['Tag'] == 'London')]"
   ]
  },
  {
   "cell_type": "code",
   "execution_count": 20,
   "id": "a2419948",
   "metadata": {
    "scrolled": true
   },
   "outputs": [
    {
     "data": {
      "text/html": [
       "<div>\n",
       "<style scoped>\n",
       "    .dataframe tbody tr th:only-of-type {\n",
       "        vertical-align: middle;\n",
       "    }\n",
       "\n",
       "    .dataframe tbody tr th {\n",
       "        vertical-align: top;\n",
       "    }\n",
       "\n",
       "    .dataframe thead th {\n",
       "        text-align: right;\n",
       "    }\n",
       "</style>\n",
       "<table border=\"1\" class=\"dataframe\">\n",
       "  <thead>\n",
       "    <tr style=\"text-align: right;\">\n",
       "      <th></th>\n",
       "      <th>Pollster</th>\n",
       "      <th>PollDate</th>\n",
       "      <th>Tag</th>\n",
       "    </tr>\n",
       "  </thead>\n",
       "  <tbody>\n",
       "  </tbody>\n",
       "</table>\n",
       "</div>"
      ],
      "text/plain": [
       "Empty DataFrame\n",
       "Columns: [Pollster, PollDate, Tag]\n",
       "Index: []"
      ]
     },
     "execution_count": 20,
     "metadata": {},
     "output_type": "execute_result"
    }
   ],
   "source": [
    "# Show the Northern Ireland polls not found in the database\n",
    "NewPolls_df[(NewPolls_df['Tag'] == 'Northern Ireland')]"
   ]
  },
  {
   "cell_type": "code",
   "execution_count": 21,
   "id": "41d7d26c",
   "metadata": {
    "scrolled": true
   },
   "outputs": [
    {
     "data": {
      "text/html": [
       "<div>\n",
       "<style scoped>\n",
       "    .dataframe tbody tr th:only-of-type {\n",
       "        vertical-align: middle;\n",
       "    }\n",
       "\n",
       "    .dataframe tbody tr th {\n",
       "        vertical-align: top;\n",
       "    }\n",
       "\n",
       "    .dataframe thead th {\n",
       "        text-align: right;\n",
       "    }\n",
       "</style>\n",
       "<table border=\"1\" class=\"dataframe\">\n",
       "  <thead>\n",
       "    <tr style=\"text-align: right;\">\n",
       "      <th></th>\n",
       "      <th>Pollster</th>\n",
       "      <th>PollDate</th>\n",
       "      <th>Tag</th>\n",
       "    </tr>\n",
       "  </thead>\n",
       "  <tbody>\n",
       "  </tbody>\n",
       "</table>\n",
       "</div>"
      ],
      "text/plain": [
       "Empty DataFrame\n",
       "Columns: [Pollster, PollDate, Tag]\n",
       "Index: []"
      ]
     },
     "execution_count": 21,
     "metadata": {},
     "output_type": "execute_result"
    }
   ],
   "source": [
    "# Show the Scotland polls not found in the database\n",
    "NewPolls_df[(NewPolls_df['PollDate'] > '2023-12-31') & (NewPolls_df['Tag'] == 'Scotland')]"
   ]
  },
  {
   "cell_type": "code",
   "execution_count": 22,
   "id": "68170ebb",
   "metadata": {},
   "outputs": [
    {
     "data": {
      "text/html": [
       "<div>\n",
       "<style scoped>\n",
       "    .dataframe tbody tr th:only-of-type {\n",
       "        vertical-align: middle;\n",
       "    }\n",
       "\n",
       "    .dataframe tbody tr th {\n",
       "        vertical-align: top;\n",
       "    }\n",
       "\n",
       "    .dataframe thead th {\n",
       "        text-align: right;\n",
       "    }\n",
       "</style>\n",
       "<table border=\"1\" class=\"dataframe\">\n",
       "  <thead>\n",
       "    <tr style=\"text-align: right;\">\n",
       "      <th></th>\n",
       "      <th>Pollster</th>\n",
       "      <th>PollDate</th>\n",
       "      <th>Tag</th>\n",
       "    </tr>\n",
       "  </thead>\n",
       "  <tbody>\n",
       "  </tbody>\n",
       "</table>\n",
       "</div>"
      ],
      "text/plain": [
       "Empty DataFrame\n",
       "Columns: [Pollster, PollDate, Tag]\n",
       "Index: []"
      ]
     },
     "execution_count": 22,
     "metadata": {},
     "output_type": "execute_result"
    }
   ],
   "source": [
    "# Show the Wales polls not found in the database\n",
    "NewPolls_df[(NewPolls_df['Tag'] == 'Wales')]"
   ]
  },
  {
   "cell_type": "code",
   "execution_count": 23,
   "id": "3909e610",
   "metadata": {
    "scrolled": false
   },
   "outputs": [
    {
     "data": {
      "text/html": [
       "<div>\n",
       "<style scoped>\n",
       "    .dataframe tbody tr th:only-of-type {\n",
       "        vertical-align: middle;\n",
       "    }\n",
       "\n",
       "    .dataframe tbody tr th {\n",
       "        vertical-align: top;\n",
       "    }\n",
       "\n",
       "    .dataframe thead th {\n",
       "        text-align: right;\n",
       "    }\n",
       "</style>\n",
       "<table border=\"1\" class=\"dataframe\">\n",
       "  <thead>\n",
       "    <tr style=\"text-align: right;\">\n",
       "      <th></th>\n",
       "      <th>Pollster</th>\n",
       "      <th>PollDate</th>\n",
       "      <th>Tag</th>\n",
       "    </tr>\n",
       "  </thead>\n",
       "  <tbody>\n",
       "  </tbody>\n",
       "</table>\n",
       "</div>"
      ],
      "text/plain": [
       "Empty DataFrame\n",
       "Columns: [Pollster, PollDate, Tag]\n",
       "Index: []"
      ]
     },
     "execution_count": 23,
     "metadata": {},
     "output_type": "execute_result"
    }
   ],
   "source": [
    "# Show the JL Partners Red Wall polls not found in the database\n",
    "NewPolls_df[(NewPolls_df['Tag'] == 'JLPRedWall')]"
   ]
  },
  {
   "cell_type": "code",
   "execution_count": 24,
   "id": "bfb286b7",
   "metadata": {},
   "outputs": [
    {
     "data": {
      "text/html": [
       "<div>\n",
       "<style scoped>\n",
       "    .dataframe tbody tr th:only-of-type {\n",
       "        vertical-align: middle;\n",
       "    }\n",
       "\n",
       "    .dataframe tbody tr th {\n",
       "        vertical-align: top;\n",
       "    }\n",
       "\n",
       "    .dataframe thead th {\n",
       "        text-align: right;\n",
       "    }\n",
       "</style>\n",
       "<table border=\"1\" class=\"dataframe\">\n",
       "  <thead>\n",
       "    <tr style=\"text-align: right;\">\n",
       "      <th></th>\n",
       "      <th>Pollster</th>\n",
       "      <th>PollDate</th>\n",
       "      <th>Tag</th>\n",
       "    </tr>\n",
       "  </thead>\n",
       "  <tbody>\n",
       "  </tbody>\n",
       "</table>\n",
       "</div>"
      ],
      "text/plain": [
       "Empty DataFrame\n",
       "Columns: [Pollster, PollDate, Tag]\n",
       "Index: []"
      ]
     },
     "execution_count": 24,
     "metadata": {},
     "output_type": "execute_result"
    }
   ],
   "source": [
    "# Show the R&W Red Wall polls not found in the database\n",
    "NewPolls_df[(NewPolls_df['Tag'] == 'RWRedWall')]"
   ]
  },
  {
   "cell_type": "code",
   "execution_count": 25,
   "id": "86c27a7d",
   "metadata": {},
   "outputs": [
    {
     "data": {
      "text/html": [
       "<div>\n",
       "<style scoped>\n",
       "    .dataframe tbody tr th:only-of-type {\n",
       "        vertical-align: middle;\n",
       "    }\n",
       "\n",
       "    .dataframe tbody tr th {\n",
       "        vertical-align: top;\n",
       "    }\n",
       "\n",
       "    .dataframe thead th {\n",
       "        text-align: right;\n",
       "    }\n",
       "</style>\n",
       "<table border=\"1\" class=\"dataframe\">\n",
       "  <thead>\n",
       "    <tr style=\"text-align: right;\">\n",
       "      <th></th>\n",
       "      <th>Pollster</th>\n",
       "      <th>PollDate</th>\n",
       "      <th>Tag</th>\n",
       "    </tr>\n",
       "  </thead>\n",
       "  <tbody>\n",
       "  </tbody>\n",
       "</table>\n",
       "</div>"
      ],
      "text/plain": [
       "Empty DataFrame\n",
       "Columns: [Pollster, PollDate, Tag]\n",
       "Index: []"
      ]
     },
     "execution_count": 25,
     "metadata": {},
     "output_type": "execute_result"
    }
   ],
   "source": [
    "# Show the R&W Blue Wall polls not found in the database\n",
    "NewPolls_df[(NewPolls_df['Tag'] == 'RWBlueWall')]"
   ]
  },
  {
   "cell_type": "code",
   "execution_count": 26,
   "id": "b2abf053",
   "metadata": {
    "scrolled": false
   },
   "outputs": [
    {
     "data": {
      "text/html": [
       "<div>\n",
       "<style scoped>\n",
       "    .dataframe tbody tr th:only-of-type {\n",
       "        vertical-align: middle;\n",
       "    }\n",
       "\n",
       "    .dataframe tbody tr th {\n",
       "        vertical-align: top;\n",
       "    }\n",
       "\n",
       "    .dataframe thead th {\n",
       "        text-align: right;\n",
       "    }\n",
       "</style>\n",
       "<table border=\"1\" class=\"dataframe\">\n",
       "  <thead>\n",
       "    <tr style=\"text-align: right;\">\n",
       "      <th></th>\n",
       "      <th>Pollster</th>\n",
       "      <th>PollDate</th>\n",
       "      <th>Tag</th>\n",
       "    </tr>\n",
       "  </thead>\n",
       "  <tbody>\n",
       "  </tbody>\n",
       "</table>\n",
       "</div>"
      ],
      "text/plain": [
       "Empty DataFrame\n",
       "Columns: [Pollster, PollDate, Tag]\n",
       "Index: []"
      ]
     },
     "execution_count": 26,
     "metadata": {},
     "output_type": "execute_result"
    }
   ],
   "source": [
    "# Show the More In Common Blue Wall polls not found in the database\n",
    "NewPolls_df[(NewPolls_df['Tag'] == 'MICBlueWall')]"
   ]
  },
  {
   "cell_type": "code",
   "execution_count": 27,
   "id": "a5635545",
   "metadata": {},
   "outputs": [],
   "source": [
    "conn.close()"
   ]
  }
 ],
 "metadata": {
  "kernelspec": {
   "display_name": "Python 3 (ipykernel)",
   "language": "python",
   "name": "python3"
  },
  "language_info": {
   "codemirror_mode": {
    "name": "ipython",
    "version": 3
   },
   "file_extension": ".py",
   "mimetype": "text/x-python",
   "name": "python",
   "nbconvert_exporter": "python",
   "pygments_lexer": "ipython3",
   "version": "3.9.12"
  }
 },
 "nbformat": 4,
 "nbformat_minor": 5
}
