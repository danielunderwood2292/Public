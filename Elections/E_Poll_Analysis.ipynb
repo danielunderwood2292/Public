{
 "cells": [
  {
   "cell_type": "code",
   "execution_count": 1,
   "id": "8acf157f",
   "metadata": {},
   "outputs": [],
   "source": [
    "# Algorithm details\n",
    "AlgorithmName = \"PollAnalysisAlogrithm\"\n",
    "AlgorithmVersion = \"1_0\"\n",
    "AlgorithmDate = \"20230602\"\n",
    "\n",
    "# Construct PollAnalysisAlogrithm string\n",
    "PollAnalysisAlgorithm = AlgorithmName + \"_\" + AlgorithmVersion + \"_\" + AlgorithmDate"
   ]
  },
  {
   "cell_type": "code",
   "execution_count": 2,
   "id": "76f9782b",
   "metadata": {},
   "outputs": [],
   "source": [
    "# Import required modules\n",
    "import pandas as pd\n",
    "import datetime\n",
    "import ipywidgets as widgets\n",
    "import numpy as np\n",
    "\n",
    "#Modules required for database access\n",
    "import pyodbc\n",
    "import sqlalchemy\n",
    "from sqlalchemy import create_engine\n",
    "import urllib"
   ]
  },
  {
   "cell_type": "code",
   "execution_count": 3,
   "id": "9b58c6f7",
   "metadata": {},
   "outputs": [],
   "source": [
    "#Connect to database 'UK_General_Election' using SQlAlchemy\n",
    "connection_str = \"DRIVER={SQL SERVER};SERVER=DANZPOOTA;DATABASE=UK_General_Election;TRUSTED_CONNECTION=YES\"\n",
    "params = urllib.parse.quote_plus(connection_str)\n",
    "engine = create_engine('mssql+pyodbc:///?odbc_connect=%s' % params)\n",
    "conn = engine.connect()"
   ]
  },
  {
   "cell_type": "code",
   "execution_count": 4,
   "id": "aecfba44",
   "metadata": {},
   "outputs": [
    {
     "data": {
      "application/vnd.jupyter.widget-view+json": {
       "model_id": "840bdb94c77944d4994e678115551e60",
       "version_major": 2,
       "version_minor": 0
      },
      "text/plain": [
       "Dropdown(description='Select poll to be analysed:', options=('20210916YouGovNationAll', '20211001YouGovNationW…"
      ]
     },
     "metadata": {},
     "output_type": "display_data"
    }
   ],
   "source": [
    "# Request PollID from user - pull list of unanalysed polls from database\n",
    "PollsListQuery = \"SELECT A.PollID from PollMeta A LEFT JOIN PollAnalysisMeta B ON A.PollID = B.PollID WHERE B.PollID IS NULL\"\n",
    "PollsList = [i[0] for i in engine.execute(PollsListQuery)]\n",
    "\n",
    "PollWidget = widgets.Dropdown(\n",
    "    options = PollsList,\n",
    "    rows = len(PollsList),\n",
    "    description = 'Select poll to be analysed:'\n",
    "    )\n",
    "display(PollWidget)"
   ]
  },
  {
   "cell_type": "code",
   "execution_count": 8,
   "id": "737a5ced",
   "metadata": {},
   "outputs": [],
   "source": [
    "# Get the Poll Meta data from the database\n",
    "PollID = PollWidget.value\n",
    "PollMetaQuery = \"SELECT * From PollMeta WHERE PollID = '<PollID>'\"\n",
    "PollMetaQuery = PollMetaQuery.replace(\"<PollID>\",PollID)\n",
    "PollMeta_df = pd.read_sql(PollMetaQuery,conn)"
   ]
  },
  {
   "cell_type": "code",
   "execution_count": 9,
   "id": "6319d671",
   "metadata": {},
   "outputs": [
    {
     "data": {
      "text/html": [
       "<div>\n",
       "<style scoped>\n",
       "    .dataframe tbody tr th:only-of-type {\n",
       "        vertical-align: middle;\n",
       "    }\n",
       "\n",
       "    .dataframe tbody tr th {\n",
       "        vertical-align: top;\n",
       "    }\n",
       "\n",
       "    .dataframe thead th {\n",
       "        text-align: right;\n",
       "    }\n",
       "</style>\n",
       "<table border=\"1\" class=\"dataframe\">\n",
       "  <thead>\n",
       "    <tr style=\"text-align: right;\">\n",
       "      <th></th>\n",
       "      <th>PollID</th>\n",
       "      <th>Pollster</th>\n",
       "      <th>PollType</th>\n",
       "      <th>PollDate</th>\n",
       "      <th>PollScope</th>\n",
       "      <th>PollScopeAll</th>\n",
       "      <th>PollScopeRegion</th>\n",
       "      <th>PollScopeConst</th>\n",
       "      <th>SampleSize</th>\n",
       "      <th>PollLink</th>\n",
       "    </tr>\n",
       "  </thead>\n",
       "  <tbody>\n",
       "    <tr>\n",
       "      <th>0</th>\n",
       "      <td>20221201BMGITL1RegionAll</td>\n",
       "      <td>BMG</td>\n",
       "      <td>ITL1Region</td>\n",
       "      <td>2022-12-01</td>\n",
       "      <td>All</td>\n",
       "      <td>True</td>\n",
       "      <td>None</td>\n",
       "      <td>None</td>\n",
       "      <td>1571</td>\n",
       "      <td>https://www.bmgresearch.co.uk/wp-content/uploa...</td>\n",
       "    </tr>\n",
       "  </tbody>\n",
       "</table>\n",
       "</div>"
      ],
      "text/plain": [
       "                     PollID Pollster    PollType    PollDate PollScope  \\\n",
       "0  20221201BMGITL1RegionAll      BMG  ITL1Region  2022-12-01       All   \n",
       "\n",
       "   PollScopeAll PollScopeRegion PollScopeConst  SampleSize  \\\n",
       "0          True            None           None        1571   \n",
       "\n",
       "                                            PollLink  \n",
       "0  https://www.bmgresearch.co.uk/wp-content/uploa...  "
      ]
     },
     "execution_count": 9,
     "metadata": {},
     "output_type": "execute_result"
    }
   ],
   "source": [
    "PollMeta_df"
   ]
  },
  {
   "cell_type": "code",
   "execution_count": 10,
   "id": "5af9389c",
   "metadata": {},
   "outputs": [
    {
     "name": "stdout",
     "output_type": "stream",
     "text": [
      "ITL1Region All\n"
     ]
    }
   ],
   "source": [
    "# Get key variables for polls\n",
    "PollType = PollMeta_df.at[0,'PollType']\n",
    "PollScope = PollMeta_df.at[0,'PollScope']\n",
    "print(PollType,PollScope)"
   ]
  },
  {
   "cell_type": "code",
   "execution_count": 11,
   "id": "c3a412e9",
   "metadata": {},
   "outputs": [],
   "source": [
    "#Queries for generating list of applicable poll regions\n",
    "AllQuery = \"SELECT RegionName FROM RegionRegionTypes WHERE RegionType = '<PollType>'\""
   ]
  },
  {
   "cell_type": "code",
   "execution_count": 12,
   "id": "76e0001b",
   "metadata": {},
   "outputs": [
    {
     "name": "stdout",
     "output_type": "stream",
     "text": [
      "['East England', 'East Midlands', 'London', 'North East England', 'North West England', 'Northern Ireland', 'Scotland', 'South East England', 'South West England', 'Wales', 'West Midlands', 'Yorkshire and The Humber']\n"
     ]
    }
   ],
   "source": [
    "# Generate a list of all of the regions applicable to a poll\n",
    "if PollScope == \"All\":\n",
    "    AllQuery = AllQuery.replace(\"<PollType>\",PollType)\n",
    "    RegionsList = [i[0] for i in engine.execute(AllQuery)]\n",
    "else:\n",
    "    RegionsList = [PollScope]\n",
    "\n",
    "print(RegionsList)"
   ]
  },
  {
   "cell_type": "code",
   "execution_count": 13,
   "id": "6692c4fd",
   "metadata": {},
   "outputs": [
    {
     "data": {
      "text/html": [
       "<div>\n",
       "<style scoped>\n",
       "    .dataframe tbody tr th:only-of-type {\n",
       "        vertical-align: middle;\n",
       "    }\n",
       "\n",
       "    .dataframe tbody tr th {\n",
       "        vertical-align: top;\n",
       "    }\n",
       "\n",
       "    .dataframe thead th {\n",
       "        text-align: right;\n",
       "    }\n",
       "</style>\n",
       "<table border=\"1\" class=\"dataframe\">\n",
       "  <thead>\n",
       "    <tr style=\"text-align: right;\">\n",
       "      <th></th>\n",
       "      <th>PollDetailsID</th>\n",
       "      <th>RegionName</th>\n",
       "      <th>Party</th>\n",
       "      <th>PollShare</th>\n",
       "    </tr>\n",
       "  </thead>\n",
       "  <tbody>\n",
       "    <tr>\n",
       "      <th>83</th>\n",
       "      <td>20221201BMGITL1RegionAllYorkshire and The Humb...</td>\n",
       "      <td>Yorkshire and The Humber</td>\n",
       "      <td>LD</td>\n",
       "      <td>0.144110</td>\n",
       "    </tr>\n",
       "    <tr>\n",
       "      <th>84</th>\n",
       "      <td>20221201BMGITL1RegionAllYorkshire and The Humb...</td>\n",
       "      <td>Yorkshire and The Humber</td>\n",
       "      <td>Other</td>\n",
       "      <td>0.013917</td>\n",
       "    </tr>\n",
       "    <tr>\n",
       "      <th>85</th>\n",
       "      <td>20221201BMGITL1RegionAllYorkshire and The Humb...</td>\n",
       "      <td>Yorkshire and The Humber</td>\n",
       "      <td>PC</td>\n",
       "      <td>0.000000</td>\n",
       "    </tr>\n",
       "    <tr>\n",
       "      <th>86</th>\n",
       "      <td>20221201BMGITL1RegionAllYorkshire and The Humb...</td>\n",
       "      <td>Yorkshire and The Humber</td>\n",
       "      <td>Reform</td>\n",
       "      <td>0.087008</td>\n",
       "    </tr>\n",
       "    <tr>\n",
       "      <th>87</th>\n",
       "      <td>20221201BMGITL1RegionAllYorkshire and The Humb...</td>\n",
       "      <td>Yorkshire and The Humber</td>\n",
       "      <td>SNP</td>\n",
       "      <td>0.000000</td>\n",
       "    </tr>\n",
       "  </tbody>\n",
       "</table>\n",
       "</div>"
      ],
      "text/plain": [
       "                                        PollDetailsID  \\\n",
       "83  20221201BMGITL1RegionAllYorkshire and The Humb...   \n",
       "84  20221201BMGITL1RegionAllYorkshire and The Humb...   \n",
       "85  20221201BMGITL1RegionAllYorkshire and The Humb...   \n",
       "86  20221201BMGITL1RegionAllYorkshire and The Humb...   \n",
       "87  20221201BMGITL1RegionAllYorkshire and The Humb...   \n",
       "\n",
       "                  RegionName   Party  PollShare  \n",
       "83  Yorkshire and The Humber      LD   0.144110  \n",
       "84  Yorkshire and The Humber   Other   0.013917  \n",
       "85  Yorkshire and The Humber      PC   0.000000  \n",
       "86  Yorkshire and The Humber  Reform   0.087008  \n",
       "87  Yorkshire and The Humber     SNP   0.000000  "
      ]
     },
     "execution_count": 13,
     "metadata": {},
     "output_type": "execute_result"
    }
   ],
   "source": [
    "# Get from database all of the region vote shares relating to the PollID\n",
    "PollRegionSharesQuery = \"SELECT PollDetailsID, RegionName, Party, VoteShare AS PollShare FROM PollDetails WHERE PollID = '<PollID>' ORDER BY RegionName, Party\"\n",
    "PollRegionSharesQuery = PollRegionSharesQuery.replace(\"<PollID>\",PollID)\n",
    "PollRegionShares_df = pd.read_sql(PollRegionSharesQuery,conn)\n",
    "PollRegionShares_df.tail()"
   ]
  },
  {
   "cell_type": "code",
   "execution_count": 14,
   "id": "691c619b",
   "metadata": {},
   "outputs": [],
   "source": [
    "# Query for the region vote shares from the previous election\n",
    "PreviousRegionSharesQuery = \"\"\"SELECT r.RegionName, can.Party, SUM(can.PreviousVotes) AS 'TotalVotes',\n",
    "CAST(SUM(can.PreviousVotes) AS FLOAT) / SUM(SUM(can.PreviousVotes)) OVER() AS 'RawPreviousShare',\n",
    "SUM(can.PreviousStanding) AS 'PreviousCandidates',\n",
    "SUM(can.CurrentStanding) AS 'CurrentCandidates'\n",
    "FROM Candidates AS can\n",
    "INNER JOIN Constituencies as con ON con.ConstituencyName = can.Constituency\n",
    "INNER JOIN RegionConstituencies AS rc ON  rc.ConstituencyName = con.ConstituencyName\n",
    "INNER JOIN Regions AS r ON r.RegionName = rc.RegionName\n",
    "INNER JOIN RegionRegionTypes AS rrt ON rrt.RegionName = r.RegionName\n",
    "WHERE r.RegionName = '<RegionName>' AND rrt.RegionType = '<RegionType>'\n",
    "GROUP BY r.RegionName, can.Party\n",
    "ORDER BY r.RegionName, can.Party\"\"\"\n",
    "\n",
    "PreviousRegionSharesQuery = PreviousRegionSharesQuery.replace(\"<RegionType>\",PollType)"
   ]
  },
  {
   "cell_type": "code",
   "execution_count": 15,
   "id": "74f11b4d",
   "metadata": {},
   "outputs": [
    {
     "data": {
      "text/html": [
       "<div>\n",
       "<style scoped>\n",
       "    .dataframe tbody tr th:only-of-type {\n",
       "        vertical-align: middle;\n",
       "    }\n",
       "\n",
       "    .dataframe tbody tr th {\n",
       "        vertical-align: top;\n",
       "    }\n",
       "\n",
       "    .dataframe thead th {\n",
       "        text-align: right;\n",
       "    }\n",
       "</style>\n",
       "<table border=\"1\" class=\"dataframe\">\n",
       "  <thead>\n",
       "    <tr style=\"text-align: right;\">\n",
       "      <th></th>\n",
       "      <th>RegionName</th>\n",
       "      <th>Party</th>\n",
       "      <th>TotalVotes</th>\n",
       "      <th>RawPreviousShare</th>\n",
       "      <th>PreviousCandidates</th>\n",
       "      <th>CurrentCandidates</th>\n",
       "      <th>PreviousShare</th>\n",
       "    </tr>\n",
       "  </thead>\n",
       "  <tbody>\n",
       "    <tr>\n",
       "      <th>71</th>\n",
       "      <td>Yorkshire and The Humber</td>\n",
       "      <td>Green</td>\n",
       "      <td>57362</td>\n",
       "      <td>0.022522</td>\n",
       "      <td>42</td>\n",
       "      <td>54</td>\n",
       "      <td>0.028957</td>\n",
       "    </tr>\n",
       "    <tr>\n",
       "      <th>72</th>\n",
       "      <td>Yorkshire and The Humber</td>\n",
       "      <td>Lab</td>\n",
       "      <td>989787</td>\n",
       "      <td>0.388622</td>\n",
       "      <td>54</td>\n",
       "      <td>54</td>\n",
       "      <td>0.388622</td>\n",
       "    </tr>\n",
       "    <tr>\n",
       "      <th>73</th>\n",
       "      <td>Yorkshire and The Humber</td>\n",
       "      <td>LD</td>\n",
       "      <td>205225</td>\n",
       "      <td>0.080578</td>\n",
       "      <td>54</td>\n",
       "      <td>54</td>\n",
       "      <td>0.080578</td>\n",
       "    </tr>\n",
       "    <tr>\n",
       "      <th>74</th>\n",
       "      <td>Yorkshire and The Humber</td>\n",
       "      <td>Other</td>\n",
       "      <td>46604</td>\n",
       "      <td>0.018298</td>\n",
       "      <td>39</td>\n",
       "      <td>54</td>\n",
       "      <td>0.025336</td>\n",
       "    </tr>\n",
       "    <tr>\n",
       "      <th>75</th>\n",
       "      <td>Yorkshire and The Humber</td>\n",
       "      <td>Reform</td>\n",
       "      <td>150561</td>\n",
       "      <td>0.059115</td>\n",
       "      <td>37</td>\n",
       "      <td>54</td>\n",
       "      <td>0.086276</td>\n",
       "    </tr>\n",
       "  </tbody>\n",
       "</table>\n",
       "</div>"
      ],
      "text/plain": [
       "                  RegionName   Party TotalVotes RawPreviousShare  \\\n",
       "71  Yorkshire and The Humber   Green      57362         0.022522   \n",
       "72  Yorkshire and The Humber     Lab     989787         0.388622   \n",
       "73  Yorkshire and The Humber      LD     205225         0.080578   \n",
       "74  Yorkshire and The Humber   Other      46604         0.018298   \n",
       "75  Yorkshire and The Humber  Reform     150561         0.059115   \n",
       "\n",
       "   PreviousCandidates CurrentCandidates PreviousShare  \n",
       "71                 42                54      0.028957  \n",
       "72                 54                54      0.388622  \n",
       "73                 54                54      0.080578  \n",
       "74                 39                54      0.025336  \n",
       "75                 37                54      0.086276  "
      ]
     },
     "execution_count": 15,
     "metadata": {},
     "output_type": "execute_result"
    }
   ],
   "source": [
    "# Get from database all of the vote shares for the poll regions from the previous election\n",
    "PreviousRegionShares_df = pd.DataFrame(columns=[\"RegionName\",\"Party\",\"TotalVotes\",\"RawPreviousShare\",\"PreviousCandidates\",\"CurrentCandidates\"])\n",
    "\n",
    "# Loop through all regions applicable to this particular poll\n",
    "for Region in RegionsList:\n",
    "    # Run query for the raw previous region shares\n",
    "    ModRegionSharesQuery = PreviousRegionSharesQuery.replace(\"<RegionName>\",Region)\n",
    "    IndRegionShares_df = pd.read_sql(ModRegionSharesQuery,conn)  \n",
    "    \n",
    "    # Join this particular region's numbers to the overall dataframe for this poll\n",
    "    PreviousRegionShares_df = pd.concat([PreviousRegionShares_df,IndRegionShares_df],axis=0)\n",
    "\n",
    "# Reset the index column\n",
    "PreviousRegionShares_df.reset_index(drop=True,inplace=True)\n",
    "\n",
    "# Replace all 0 values with 1000 to ensure the new vote share can be calculated without dividing by zero\n",
    "PreviousRegionShares_df['PreviousCandidates'].replace(0,1000,inplace=True)\n",
    "\n",
    "#Calculated the adjusted previous share based on the number of candidates actually standing\n",
    "PreviousRegionShares_df['PreviousShare'] = PreviousRegionShares_df['RawPreviousShare'] * PreviousRegionShares_df['CurrentCandidates']/PreviousRegionShares_df['PreviousCandidates']\n",
    "\n",
    "# Revert previous candidates back to zero\n",
    "PreviousRegionShares_df['PreviousCandidates'].replace(1000,0,inplace=True)\n",
    "\n",
    "PreviousRegionShares_df.tail()"
   ]
  },
  {
   "cell_type": "code",
   "execution_count": 16,
   "id": "13b60c4e",
   "metadata": {},
   "outputs": [
    {
     "name": "stdout",
     "output_type": "stream",
     "text": [
      "NO MATCH!\n",
      "Differences:\n",
      "                  RegionName     Party\n",
      "5               East England        PC\n",
      "7               East England       SNP\n",
      "13             East Midlands        PC\n",
      "15             East Midlands       SNP\n",
      "21                    London        PC\n",
      "23                    London       SNP\n",
      "29        North East England        PC\n",
      "31        North East England       SNP\n",
      "37        North West England        PC\n",
      "39        North West England       SNP\n",
      "45                  Scotland        PC\n",
      "53        South East England        PC\n",
      "55        South East England       SNP\n",
      "61        South West England        PC\n",
      "63        South West England       SNP\n",
      "71                     Wales       SNP\n",
      "77             West Midlands        PC\n",
      "79             West Midlands       SNP\n",
      "85  Yorkshire and The Humber        PC\n",
      "87  Yorkshire and The Humber       SNP\n",
      "30          Northern Ireland  Alliance\n",
      "31          Northern Ireland       Con\n",
      "32          Northern Ireland       DUP\n",
      "33          Northern Ireland     Green\n",
      "34          Northern Ireland     Other\n",
      "35          Northern Ireland      SDLP\n",
      "36          Northern Ireland        SF\n",
      "37          Northern Ireland       UUP\n"
     ]
    }
   ],
   "source": [
    "# Compare previous election votes shares to poll votes shares to determine swings\n",
    "# Check the 2 extracted dataframes match\n",
    "if PollRegionShares_df[['RegionName','Party']].equals(PreviousRegionShares_df[['RegionName','Party']]) == True:\n",
    "    PollRegionShares_df['PreviousShare'] = PreviousRegionShares_df['PreviousShare'].values\n",
    "    PollRegionShares_df['Swing'] = PollRegionShares_df['PollShare'] - PollRegionShares_df['PreviousShare']\n",
    "else:\n",
    "    print(\"NO MATCH!\")\n",
    "    print(\"Differences:\")\n",
    "    df_diff = pd.concat([PollRegionShares_df[['RegionName','Party']],PreviousRegionShares_df[['RegionName','Party']]]).drop_duplicates(keep=False)\n",
    "    print(df_diff)"
   ]
  },
  {
   "cell_type": "code",
   "execution_count": 17,
   "id": "e6314f6a",
   "metadata": {},
   "outputs": [
    {
     "data": {
      "text/html": [
       "<div>\n",
       "<style scoped>\n",
       "    .dataframe tbody tr th:only-of-type {\n",
       "        vertical-align: middle;\n",
       "    }\n",
       "\n",
       "    .dataframe tbody tr th {\n",
       "        vertical-align: top;\n",
       "    }\n",
       "\n",
       "    .dataframe thead th {\n",
       "        text-align: right;\n",
       "    }\n",
       "</style>\n",
       "<table border=\"1\" class=\"dataframe\">\n",
       "  <thead>\n",
       "    <tr style=\"text-align: right;\">\n",
       "      <th></th>\n",
       "      <th>PollDetailsID</th>\n",
       "      <th>RegionName</th>\n",
       "      <th>Party</th>\n",
       "      <th>PollShare</th>\n",
       "    </tr>\n",
       "  </thead>\n",
       "  <tbody>\n",
       "    <tr>\n",
       "      <th>83</th>\n",
       "      <td>20221201BMGITL1RegionAllYorkshire and The Humb...</td>\n",
       "      <td>Yorkshire and The Humber</td>\n",
       "      <td>LD</td>\n",
       "      <td>0.144110</td>\n",
       "    </tr>\n",
       "    <tr>\n",
       "      <th>84</th>\n",
       "      <td>20221201BMGITL1RegionAllYorkshire and The Humb...</td>\n",
       "      <td>Yorkshire and The Humber</td>\n",
       "      <td>Other</td>\n",
       "      <td>0.013917</td>\n",
       "    </tr>\n",
       "    <tr>\n",
       "      <th>85</th>\n",
       "      <td>20221201BMGITL1RegionAllYorkshire and The Humb...</td>\n",
       "      <td>Yorkshire and The Humber</td>\n",
       "      <td>PC</td>\n",
       "      <td>0.000000</td>\n",
       "    </tr>\n",
       "    <tr>\n",
       "      <th>86</th>\n",
       "      <td>20221201BMGITL1RegionAllYorkshire and The Humb...</td>\n",
       "      <td>Yorkshire and The Humber</td>\n",
       "      <td>Reform</td>\n",
       "      <td>0.087008</td>\n",
       "    </tr>\n",
       "    <tr>\n",
       "      <th>87</th>\n",
       "      <td>20221201BMGITL1RegionAllYorkshire and The Humb...</td>\n",
       "      <td>Yorkshire and The Humber</td>\n",
       "      <td>SNP</td>\n",
       "      <td>0.000000</td>\n",
       "    </tr>\n",
       "  </tbody>\n",
       "</table>\n",
       "</div>"
      ],
      "text/plain": [
       "                                        PollDetailsID  \\\n",
       "83  20221201BMGITL1RegionAllYorkshire and The Humb...   \n",
       "84  20221201BMGITL1RegionAllYorkshire and The Humb...   \n",
       "85  20221201BMGITL1RegionAllYorkshire and The Humb...   \n",
       "86  20221201BMGITL1RegionAllYorkshire and The Humb...   \n",
       "87  20221201BMGITL1RegionAllYorkshire and The Humb...   \n",
       "\n",
       "                  RegionName   Party  PollShare  \n",
       "83  Yorkshire and The Humber      LD   0.144110  \n",
       "84  Yorkshire and The Humber   Other   0.013917  \n",
       "85  Yorkshire and The Humber      PC   0.000000  \n",
       "86  Yorkshire and The Humber  Reform   0.087008  \n",
       "87  Yorkshire and The Humber     SNP   0.000000  "
      ]
     },
     "execution_count": 17,
     "metadata": {},
     "output_type": "execute_result"
    }
   ],
   "source": [
    "PollRegionShares_df.tail()"
   ]
  },
  {
   "cell_type": "code",
   "execution_count": null,
   "id": "1f6d7983",
   "metadata": {},
   "outputs": [],
   "source": [
    "# Create PollAnalysisMeta details for inserting into database\n",
    "PollAnalysisMeta_df = pd.DataFrame(columns=[\"PollID\",\"PollAnalysisDate\",\"PollAnalysisAlgorithm\"])\n",
    "\n",
    "PollAnalysisMeta_df.at[0,\"PollID\"] = PollID\n",
    "PollAnalysisMeta_df.at[0,\"PollAnalysisAlgorithm\"] = PollAnalysisAlgorithm\n",
    "\n",
    "# The date of the analysis is always today's date\n",
    "PollAnalysisMeta_df.at[0,\"PollAnalysisDate\"] = datetime.date.today()\n",
    "\n",
    "PollAnalysisMeta_df.to_sql('PollAnalysisMeta', conn, if_exists='append', index=False)"
   ]
  },
  {
   "cell_type": "code",
   "execution_count": null,
   "id": "5de3189b",
   "metadata": {},
   "outputs": [],
   "source": [
    "# Initial poll analysis values are now inserted into the database to allow these to be queried for the constituency shares\n",
    "PollAnalysisRegions_df = PollRegionShares_df[['PollDetailsID','Swing']]\n",
    "\n",
    "# Get the recently inserted PollAnalysis ID from the database\n",
    "PollAnalysisIDQuery = \"SELECT PollAnalysisID FROM PollAnalysisMeta WHERE PollID = '<PollID>'\"\n",
    "PollAnalysisIDQuery = PollAnalysisIDQuery.replace(\"<PollID>\",PollID)\n",
    "\n",
    "PollAnalysisID = [i[0] for i in engine.execute(PollAnalysisIDQuery)][0]\n",
    "PollAnalysisRegions_df['PollAnalysisID'] = PollAnalysisID\n",
    "\n",
    "PollAnalysisRegions_df.to_sql('PollAnalysisRegions', conn, if_exists='append', index=False)"
   ]
  },
  {
   "cell_type": "code",
   "execution_count": null,
   "id": "b33b8fae",
   "metadata": {},
   "outputs": [],
   "source": [
    "# Query for pulling out previous election shares for applicable constituencies\n",
    "CandidatesQuery = \"\"\"SELECT can.CandidateID, r.RegionName, can.Constituency, can.Party, can.PreviousShare\n",
    "FROM Candidates AS can\n",
    "INNER JOIN Constituencies as con ON con.ConstituencyName = can.Constituency\n",
    "INNER JOIN RegionConstituencies AS rc ON  rc.ConstituencyName = con.ConstituencyName\n",
    "INNER JOIN Regions AS r ON r.RegionName = rc.RegionName\n",
    "INNER JOIN RegionRegionTypes AS rrt ON rrt.RegionName = r.RegionName\n",
    "WHERE r.RegionName = '<RegionName>' AND rrt.RegionType = '<RegionType>'\n",
    "AND can.CurrentStanding = 1\n",
    "ORDER BY can.Constituency, can.Party\"\"\"\n",
    "\n",
    "CandidatesQuery = CandidatesQuery.replace(\"<RegionType>\",PollType)"
   ]
  },
  {
   "cell_type": "code",
   "execution_count": null,
   "id": "f1146ec6",
   "metadata": {},
   "outputs": [],
   "source": [
    "# Query for getting applicable swings for current party and region\n",
    "SwingQuery = \"\"\"SELECT par.PollAnalysisRegionID, par.Swing FROM PollAnalysisRegions AS par\n",
    "INNER JOIN PollAnalysisMeta AS pam ON pam.PollAnalysisID = par.PollAnalysisID\n",
    "INNER JOIN PollDetails AS pd ON pd.PollDetailsID = par.PollDetailsID\n",
    "WHERE pd.Party = '<Party>' AND pd.RegionName = '<RegionName>'\n",
    "AND pam.PollAnalysisID = '<PollAnalysisID>'\"\"\"\n",
    "\n",
    "SwingQuery = SwingQuery.replace('<PollAnalysisID>',PollAnalysisID)"
   ]
  },
  {
   "cell_type": "code",
   "execution_count": null,
   "id": "1679e3c8",
   "metadata": {},
   "outputs": [],
   "source": [
    "# Calculate the swings for every candidate in every constituency\n",
    "ConstituencyShares_df = pd.DataFrame(columns=[\"CandidateID\",\"RegionName\",\"Constituency\",\"Party\",\"PreviousShare\",\"Swing\",\"NewShareRaw\",\"VoteShare\"])\n",
    "IndConstituencyShares_df = pd.DataFrame(columns=[\"CandidateID\",\"RegionName\",\"Constituency\",\"Party\",\"PreviousShare\",\"Swing\",\"NewShareRaw\",\"VoteShare\"])\n",
    "\n",
    "# Need to cycle through every region to pull out the candidates for each in turn, then get the swing for each\n",
    "for Region in RegionsList:\n",
    "    \n",
    "    ModCandidatesQuery = CandidatesQuery.replace(\"<RegionName>\",Region)\n",
    "    IndConstituencyShares_df = pd.read_sql(ModCandidatesQuery,conn)\n",
    "    \n",
    "    RegionSwingQuery = SwingQuery.replace(\"<RegionName>\",Region)\n",
    "    \n",
    "    # Now cycle through each row of the IndConstituencyShares_df to get the relevant swings\n",
    "    for i in range(0,len(IndConstituencyShares_df)):\n",
    "        Party = IndConstituencyShares_df.iloc[i][\"Party\"]\n",
    "        PartySwingQuery = RegionSwingQuery.replace(\"<Party>\",Party)\n",
    "        Swing = [i[1] for i in engine.execute(PartySwingQuery)][0]\n",
    "        PollAnalysisRegionID = [i[0] for i in engine.execute(PartySwingQuery)][0]\n",
    "        IndConstituencyShares_df.at[i,\"Swing\"] = Swing\n",
    "        IndConstituencyShares_df.at[i,\"PollAnalysisRegionID\"] = PollAnalysisRegionID\n",
    "    \n",
    "\n",
    "    ConstituencyShares_df = pd.concat([ConstituencyShares_df,IndConstituencyShares_df],axis=0)\n",
    "        \n",
    "ConstituencyShares_df.reset_index(drop=True,inplace=True)\n",
    "\n",
    "# Ensure the datatypes are numeric of the columns to be used in the calculation\n",
    "ConstituencyShares_df[\"PreviousShare\"] = pd.to_numeric(ConstituencyShares_df[\"PreviousShare\"])\n",
    "ConstituencyShares_df[\"Swing\"] = pd.to_numeric(ConstituencyShares_df[\"Swing\"])\n",
    "\n",
    "ConstituencyShares_df[\"NewShareRaw\"] = ConstituencyShares_df[\"PreviousShare\"] + ConstituencyShares_df[\"Swing\"] \n",
    "ConstituencyShares_df[\"NewShareRaw\"] = np.where(ConstituencyShares_df[\"NewShareRaw\"] < 0, 0,ConstituencyShares_df[\"NewShareRaw\"])\n",
    "\n",
    "# Determine the factor needed to ensure vote shares for each constituency sum to 1\n",
    "ConstituencyShares_df['ConstRawShareTotals'] = ConstituencyShares_df['NewShareRaw'].groupby(ConstituencyShares_df['Constituency']).transform('sum')\n",
    "\n",
    "# Modify the raw vote shares to ensure they sum to 1\n",
    "ConstituencyShares_df['VoteShare'] = ConstituencyShares_df['NewShareRaw']/ConstituencyShares_df['ConstRawShareTotals']\n",
    "\n",
    "ConstituencyShares_df['VoteShareCheck'] = ConstituencyShares_df['VoteShare'].groupby(ConstituencyShares_df['Constituency']).transform('sum')\n",
    "\n",
    "ConstituencyShares_df.tail()"
   ]
  },
  {
   "cell_type": "code",
   "execution_count": null,
   "id": "9c418d1e",
   "metadata": {},
   "outputs": [],
   "source": [
    "# Create the dataframe for insertion into the database and insert\n",
    "PollAnalysisConstituencies_df = ConstituencyShares_df[['PollAnalysisRegionID','CandidateID','VoteShare']]\n",
    "PollAnalysisConstituencies_df.to_sql('PollAnalysisConstituencies', conn, if_exists='append', index=False)"
   ]
  },
  {
   "cell_type": "code",
   "execution_count": null,
   "id": "c2add402",
   "metadata": {},
   "outputs": [],
   "source": [
    "#Close the connection with the database\n",
    "conn.close()"
   ]
  },
  {
   "cell_type": "code",
   "execution_count": null,
   "id": "cdd86331",
   "metadata": {},
   "outputs": [],
   "source": []
  }
 ],
 "metadata": {
  "kernelspec": {
   "display_name": "Python 3 (ipykernel)",
   "language": "python",
   "name": "python3"
  },
  "language_info": {
   "codemirror_mode": {
    "name": "ipython",
    "version": 3
   },
   "file_extension": ".py",
   "mimetype": "text/x-python",
   "name": "python",
   "nbconvert_exporter": "python",
   "pygments_lexer": "ipython3",
   "version": "3.9.12"
  }
 },
 "nbformat": 4,
 "nbformat_minor": 5
}
