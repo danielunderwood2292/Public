{
 "cells": [
  {
   "cell_type": "code",
   "execution_count": 1,
   "id": "8acf157f",
   "metadata": {},
   "outputs": [],
   "source": [
    "# Algorithm details\n",
    "AlgorithmName = \"PollAnalysisAlogrithm\"\n",
    "AlgorithmVersion = \"1_0\"\n",
    "AlgorithmDate = \"20230602\"\n",
    "\n",
    "# Construct PollAnalysisAlogrithm string\n",
    "PollAnalysisAlgorithm = AlgorithmName + \"_\" + AlgorithmVersion + \"_\" + AlgorithmDate"
   ]
  },
  {
   "cell_type": "code",
   "execution_count": 2,
   "id": "76f9782b",
   "metadata": {},
   "outputs": [],
   "source": [
    "# Import required modules\n",
    "import pandas as pd\n",
    "import datetime\n",
    "import ipywidgets as widgets\n",
    "import numpy as np\n",
    "\n",
    "#Modules required for database access\n",
    "import pyodbc\n",
    "import sqlalchemy\n",
    "from sqlalchemy import create_engine\n",
    "import urllib"
   ]
  },
  {
   "cell_type": "code",
   "execution_count": 3,
   "id": "9b58c6f7",
   "metadata": {},
   "outputs": [],
   "source": [
    "#Connect to database 'UK_General_Election' using SQlAlchemy\n",
    "connection_str = \"DRIVER={SQL SERVER};SERVER=DANZPOOTA;DATABASE=UK_General_Election;TRUSTED_CONNECTION=YES\"\n",
    "params = urllib.parse.quote_plus(connection_str)\n",
    "engine = create_engine('mssql+pyodbc:///?odbc_connect=%s' % params)\n",
    "conn = engine.connect()"
   ]
  },
  {
   "cell_type": "code",
   "execution_count": 4,
   "id": "aecfba44",
   "metadata": {},
   "outputs": [
    {
     "data": {
      "application/vnd.jupyter.widget-view+json": {
       "model_id": "71d0aae7938a4868a736ebb9880494a7",
       "version_major": 2,
       "version_minor": 0
      },
      "text/plain": [
       "Dropdown(description='Select poll to be analysed:', options=('20200126YouGovNationWales', '20200306YouGovLondo…"
      ]
     },
     "metadata": {},
     "output_type": "display_data"
    }
   ],
   "source": [
    "# Request PollID from user - pull list of unanalysed polls from database\n",
    "PollsListQuery = \"SELECT A.PollID from PollMeta A LEFT JOIN PollAnalysisMeta B ON A.PollID = B.PollID WHERE B.PollID IS NULL\"\n",
    "PollsList = [i[0] for i in engine.execute(PollsListQuery)]\n",
    "\n",
    "PollWidget = widgets.Dropdown(\n",
    "    options = PollsList,\n",
    "    rows = len(PollsList),\n",
    "    description = 'Select poll to be analysed:'\n",
    "    )\n",
    "display(PollWidget)"
   ]
  },
  {
   "cell_type": "code",
   "execution_count": 5,
   "id": "737a5ced",
   "metadata": {},
   "outputs": [],
   "source": [
    "# Get the Poll Meta data from the database\n",
    "PollID = PollWidget.value\n",
    "PollMetaQuery = \"SELECT * From PollMeta WHERE PollID = '<PollID>'\"\n",
    "PollMetaQuery = PollMetaQuery.replace(\"<PollID>\",PollID)\n",
    "PollMeta_df = pd.read_sql(PollMetaQuery,conn)"
   ]
  },
  {
   "cell_type": "code",
   "execution_count": 6,
   "id": "6319d671",
   "metadata": {},
   "outputs": [
    {
     "data": {
      "text/html": [
       "<div>\n",
       "<style scoped>\n",
       "    .dataframe tbody tr th:only-of-type {\n",
       "        vertical-align: middle;\n",
       "    }\n",
       "\n",
       "    .dataframe tbody tr th {\n",
       "        vertical-align: top;\n",
       "    }\n",
       "\n",
       "    .dataframe thead th {\n",
       "        text-align: right;\n",
       "    }\n",
       "</style>\n",
       "<table border=\"1\" class=\"dataframe\">\n",
       "  <thead>\n",
       "    <tr style=\"text-align: right;\">\n",
       "      <th></th>\n",
       "      <th>PollID</th>\n",
       "      <th>Pollster</th>\n",
       "      <th>PollType</th>\n",
       "      <th>PollDate</th>\n",
       "      <th>PollScope</th>\n",
       "      <th>PollScopeAll</th>\n",
       "      <th>PollScopeRegion</th>\n",
       "      <th>PollScopeConst</th>\n",
       "      <th>SampleSize</th>\n",
       "      <th>PollLink</th>\n",
       "    </tr>\n",
       "  </thead>\n",
       "  <tbody>\n",
       "    <tr>\n",
       "      <th>0</th>\n",
       "      <td>20200407YouGovWalesRegionAll</td>\n",
       "      <td>YouGov</td>\n",
       "      <td>WalesRegion</td>\n",
       "      <td>2020-04-07</td>\n",
       "      <td>All</td>\n",
       "      <td>True</td>\n",
       "      <td>None</td>\n",
       "      <td>None</td>\n",
       "      <td>1008</td>\n",
       "      <td>https://docs.cdn.yougov.com/kg4inoaeii/Results...</td>\n",
       "    </tr>\n",
       "  </tbody>\n",
       "</table>\n",
       "</div>"
      ],
      "text/plain": [
       "                         PollID Pollster     PollType    PollDate PollScope  \\\n",
       "0  20200407YouGovWalesRegionAll   YouGov  WalesRegion  2020-04-07       All   \n",
       "\n",
       "   PollScopeAll PollScopeRegion PollScopeConst  SampleSize  \\\n",
       "0          True            None           None        1008   \n",
       "\n",
       "                                            PollLink  \n",
       "0  https://docs.cdn.yougov.com/kg4inoaeii/Results...  "
      ]
     },
     "execution_count": 6,
     "metadata": {},
     "output_type": "execute_result"
    }
   ],
   "source": [
    "PollMeta_df"
   ]
  },
  {
   "cell_type": "code",
   "execution_count": 7,
   "id": "5af9389c",
   "metadata": {},
   "outputs": [
    {
     "name": "stdout",
     "output_type": "stream",
     "text": [
      "WalesRegion All\n"
     ]
    }
   ],
   "source": [
    "# Get key variables for polls\n",
    "PollType = PollMeta_df.at[0,'PollType']\n",
    "PollScope = PollMeta_df.at[0,'PollScope']\n",
    "print(PollType,PollScope)"
   ]
  },
  {
   "cell_type": "code",
   "execution_count": 8,
   "id": "c3a412e9",
   "metadata": {},
   "outputs": [],
   "source": [
    "#Queries for generating list of applicable poll regions\n",
    "AllQuery = \"SELECT RegionName FROM RegionRegionTypes WHERE RegionType = '<PollType>'\""
   ]
  },
  {
   "cell_type": "code",
   "execution_count": 9,
   "id": "76e0001b",
   "metadata": {},
   "outputs": [
    {
     "name": "stdout",
     "output_type": "stream",
     "text": [
      "['Cardiff and South Central Wales', 'Mid and West Wales', 'North Wales', 'South East Wales', 'South West Wales']\n"
     ]
    }
   ],
   "source": [
    "# Generate a list of all of the regions applicable to a poll\n",
    "if PollScope == \"All\":\n",
    "    AllQuery = AllQuery.replace(\"<PollType>\",PollType)\n",
    "    RegionsList = [i[0] for i in engine.execute(AllQuery)]\n",
    "else:\n",
    "    RegionsList = [PollScope]\n",
    "\n",
    "print(RegionsList)"
   ]
  },
  {
   "cell_type": "code",
   "execution_count": 10,
   "id": "6692c4fd",
   "metadata": {},
   "outputs": [
    {
     "data": {
      "text/html": [
       "<div>\n",
       "<style scoped>\n",
       "    .dataframe tbody tr th:only-of-type {\n",
       "        vertical-align: middle;\n",
       "    }\n",
       "\n",
       "    .dataframe tbody tr th {\n",
       "        vertical-align: top;\n",
       "    }\n",
       "\n",
       "    .dataframe thead th {\n",
       "        text-align: right;\n",
       "    }\n",
       "</style>\n",
       "<table border=\"1\" class=\"dataframe\">\n",
       "  <thead>\n",
       "    <tr style=\"text-align: right;\">\n",
       "      <th></th>\n",
       "      <th>PollDetailsID</th>\n",
       "      <th>RegionName</th>\n",
       "      <th>Party</th>\n",
       "      <th>PollShare</th>\n",
       "    </tr>\n",
       "  </thead>\n",
       "  <tbody>\n",
       "    <tr>\n",
       "      <th>30</th>\n",
       "      <td>20200407YouGovWalesRegionAllSouth West WalesLab</td>\n",
       "      <td>South West Wales</td>\n",
       "      <td>Lab</td>\n",
       "      <td>0.38</td>\n",
       "    </tr>\n",
       "    <tr>\n",
       "      <th>31</th>\n",
       "      <td>20200407YouGovWalesRegionAllSouth West WalesLD</td>\n",
       "      <td>South West Wales</td>\n",
       "      <td>LD</td>\n",
       "      <td>0.04</td>\n",
       "    </tr>\n",
       "    <tr>\n",
       "      <th>32</th>\n",
       "      <td>20200407YouGovWalesRegionAllSouth West WalesOther</td>\n",
       "      <td>South West Wales</td>\n",
       "      <td>Other</td>\n",
       "      <td>0.00</td>\n",
       "    </tr>\n",
       "    <tr>\n",
       "      <th>33</th>\n",
       "      <td>20200407YouGovWalesRegionAllSouth West WalesPC</td>\n",
       "      <td>South West Wales</td>\n",
       "      <td>PC</td>\n",
       "      <td>0.15</td>\n",
       "    </tr>\n",
       "    <tr>\n",
       "      <th>34</th>\n",
       "      <td>20200407YouGovWalesRegionAllSouth West WalesRe...</td>\n",
       "      <td>South West Wales</td>\n",
       "      <td>Reform</td>\n",
       "      <td>0.01</td>\n",
       "    </tr>\n",
       "  </tbody>\n",
       "</table>\n",
       "</div>"
      ],
      "text/plain": [
       "                                        PollDetailsID        RegionName  \\\n",
       "30    20200407YouGovWalesRegionAllSouth West WalesLab  South West Wales   \n",
       "31     20200407YouGovWalesRegionAllSouth West WalesLD  South West Wales   \n",
       "32  20200407YouGovWalesRegionAllSouth West WalesOther  South West Wales   \n",
       "33     20200407YouGovWalesRegionAllSouth West WalesPC  South West Wales   \n",
       "34  20200407YouGovWalesRegionAllSouth West WalesRe...  South West Wales   \n",
       "\n",
       "     Party  PollShare  \n",
       "30     Lab       0.38  \n",
       "31      LD       0.04  \n",
       "32   Other       0.00  \n",
       "33      PC       0.15  \n",
       "34  Reform       0.01  "
      ]
     },
     "execution_count": 10,
     "metadata": {},
     "output_type": "execute_result"
    }
   ],
   "source": [
    "# Get from database all of the region vote shares relating to the PollID\n",
    "PollRegionSharesQuery = \"SELECT PollDetailsID, RegionName, Party, VoteShare AS PollShare FROM PollDetails WHERE PollID = '<PollID>' ORDER BY RegionName, Party\"\n",
    "PollRegionSharesQuery = PollRegionSharesQuery.replace(\"<PollID>\",PollID)\n",
    "PollRegionShares_df = pd.read_sql(PollRegionSharesQuery,conn)\n",
    "PollRegionShares_df.tail()"
   ]
  },
  {
   "cell_type": "code",
   "execution_count": 11,
   "id": "691c619b",
   "metadata": {},
   "outputs": [],
   "source": [
    "# Query for the region vote shares from the previous election\n",
    "PreviousRegionSharesQuery = \"\"\"SELECT r.RegionName, can.Party, SUM(can.PreviousVotes) AS 'TotalVotes',\n",
    "CAST(SUM(can.PreviousVotes) AS FLOAT) / SUM(SUM(can.PreviousVotes)) OVER() AS 'RawPreviousShare',\n",
    "SUM(can.PreviousStanding) AS 'PreviousCandidates',\n",
    "SUM(can.CurrentStanding) AS 'CurrentCandidates'\n",
    "FROM Candidates AS can\n",
    "INNER JOIN Constituencies as con ON con.ConstituencyName = can.Constituency\n",
    "INNER JOIN RegionConstituencies AS rc ON  rc.ConstituencyName = con.ConstituencyName\n",
    "INNER JOIN Regions AS r ON r.RegionName = rc.RegionName\n",
    "INNER JOIN RegionRegionTypes AS rrt ON rrt.RegionName = r.RegionName\n",
    "WHERE r.RegionName = '<RegionName>' AND rrt.RegionType = '<RegionType>'\n",
    "GROUP BY r.RegionName, can.Party\n",
    "ORDER BY r.RegionName, can.Party\"\"\"\n",
    "\n",
    "PreviousRegionSharesQuery = PreviousRegionSharesQuery.replace(\"<RegionType>\",PollType)"
   ]
  },
  {
   "cell_type": "code",
   "execution_count": 12,
   "id": "74f11b4d",
   "metadata": {},
   "outputs": [
    {
     "data": {
      "text/html": [
       "<div>\n",
       "<style scoped>\n",
       "    .dataframe tbody tr th:only-of-type {\n",
       "        vertical-align: middle;\n",
       "    }\n",
       "\n",
       "    .dataframe tbody tr th {\n",
       "        vertical-align: top;\n",
       "    }\n",
       "\n",
       "    .dataframe thead th {\n",
       "        text-align: right;\n",
       "    }\n",
       "</style>\n",
       "<table border=\"1\" class=\"dataframe\">\n",
       "  <thead>\n",
       "    <tr style=\"text-align: right;\">\n",
       "      <th></th>\n",
       "      <th>RegionName</th>\n",
       "      <th>Party</th>\n",
       "      <th>TotalVotes</th>\n",
       "      <th>RawPreviousShare</th>\n",
       "      <th>PreviousCandidates</th>\n",
       "      <th>CurrentCandidates</th>\n",
       "      <th>PreviousShare</th>\n",
       "    </tr>\n",
       "  </thead>\n",
       "  <tbody>\n",
       "    <tr>\n",
       "      <th>30</th>\n",
       "      <td>South West Wales</td>\n",
       "      <td>Lab</td>\n",
       "      <td>139028</td>\n",
       "      <td>0.472529</td>\n",
       "      <td>8</td>\n",
       "      <td>8</td>\n",
       "      <td>0.472529</td>\n",
       "    </tr>\n",
       "    <tr>\n",
       "      <th>31</th>\n",
       "      <td>South West Wales</td>\n",
       "      <td>LD</td>\n",
       "      <td>14336</td>\n",
       "      <td>0.048725</td>\n",
       "      <td>8</td>\n",
       "      <td>8</td>\n",
       "      <td>0.048725</td>\n",
       "    </tr>\n",
       "    <tr>\n",
       "      <th>32</th>\n",
       "      <td>South West Wales</td>\n",
       "      <td>Other</td>\n",
       "      <td>1392</td>\n",
       "      <td>0.004731</td>\n",
       "      <td>2</td>\n",
       "      <td>8</td>\n",
       "      <td>0.018925</td>\n",
       "    </tr>\n",
       "    <tr>\n",
       "      <th>33</th>\n",
       "      <td>South West Wales</td>\n",
       "      <td>PC</td>\n",
       "      <td>20601</td>\n",
       "      <td>0.070019</td>\n",
       "      <td>8</td>\n",
       "      <td>8</td>\n",
       "      <td>0.070019</td>\n",
       "    </tr>\n",
       "    <tr>\n",
       "      <th>34</th>\n",
       "      <td>South West Wales</td>\n",
       "      <td>Reform</td>\n",
       "      <td>22132</td>\n",
       "      <td>0.075222</td>\n",
       "      <td>8</td>\n",
       "      <td>8</td>\n",
       "      <td>0.075222</td>\n",
       "    </tr>\n",
       "  </tbody>\n",
       "</table>\n",
       "</div>"
      ],
      "text/plain": [
       "          RegionName   Party TotalVotes RawPreviousShare  PreviousCandidates  \\\n",
       "30  South West Wales     Lab     139028         0.472529                   8   \n",
       "31  South West Wales      LD      14336         0.048725                   8   \n",
       "32  South West Wales   Other       1392         0.004731                   2   \n",
       "33  South West Wales      PC      20601         0.070019                   8   \n",
       "34  South West Wales  Reform      22132         0.075222                   8   \n",
       "\n",
       "   CurrentCandidates PreviousShare  \n",
       "30                 8      0.472529  \n",
       "31                 8      0.048725  \n",
       "32                 8      0.018925  \n",
       "33                 8      0.070019  \n",
       "34                 8      0.075222  "
      ]
     },
     "execution_count": 12,
     "metadata": {},
     "output_type": "execute_result"
    }
   ],
   "source": [
    "# Get from database all of the vote shares for the poll regions from the previous election\n",
    "PreviousRegionShares_df = pd.DataFrame(columns=[\"RegionName\",\"Party\",\"TotalVotes\",\"RawPreviousShare\",\"PreviousCandidates\",\"CurrentCandidates\"])\n",
    "\n",
    "# Loop through all regions applicable to this particular poll\n",
    "for Region in RegionsList:\n",
    "    # Run query for the raw previous region shares\n",
    "    ModRegionSharesQuery = PreviousRegionSharesQuery.replace(\"<RegionName>\",Region)\n",
    "    IndRegionShares_df = pd.read_sql(ModRegionSharesQuery,conn)  \n",
    "    \n",
    "    # Join this particular region's numbers to the overall dataframe for this poll\n",
    "    PreviousRegionShares_df = pd.concat([PreviousRegionShares_df,IndRegionShares_df],axis=0)\n",
    "\n",
    "# Reset the index column\n",
    "PreviousRegionShares_df.reset_index(drop=True,inplace=True)\n",
    "\n",
    "# Replace all 0 values with 1000 to ensure the new vote share can be calculated without dividing by zero\n",
    "PreviousRegionShares_df['PreviousCandidates'].replace(0,1000,inplace=True)\n",
    "\n",
    "#Calculated the adjusted previous share based on the number of candidates actually standing\n",
    "PreviousRegionShares_df['PreviousShare'] = PreviousRegionShares_df['RawPreviousShare'] * PreviousRegionShares_df['CurrentCandidates']/PreviousRegionShares_df['PreviousCandidates']\n",
    "\n",
    "# Revert previous candidates back to zero\n",
    "PreviousRegionShares_df['PreviousCandidates'].replace(1000,0,inplace=True)\n",
    "\n",
    "PreviousRegionShares_df.tail()"
   ]
  },
  {
   "cell_type": "code",
   "execution_count": 13,
   "id": "13b60c4e",
   "metadata": {},
   "outputs": [],
   "source": [
    "# Compare previous election votes shares to poll votes shares to determine swings\n",
    "# Check the 2 extracted dataframes match\n",
    "if PollRegionShares_df[['RegionName','Party']].equals(PreviousRegionShares_df[['RegionName','Party']]) == True:\n",
    "    PollRegionShares_df['PreviousShare'] = PreviousRegionShares_df['PreviousShare'].values\n",
    "    PollRegionShares_df['Swing'] = PollRegionShares_df['PollShare'] - PollRegionShares_df['PreviousShare']\n",
    "else:\n",
    "    print(\"NO MATCH!\")"
   ]
  },
  {
   "cell_type": "code",
   "execution_count": 14,
   "id": "e6314f6a",
   "metadata": {},
   "outputs": [
    {
     "data": {
      "text/html": [
       "<div>\n",
       "<style scoped>\n",
       "    .dataframe tbody tr th:only-of-type {\n",
       "        vertical-align: middle;\n",
       "    }\n",
       "\n",
       "    .dataframe tbody tr th {\n",
       "        vertical-align: top;\n",
       "    }\n",
       "\n",
       "    .dataframe thead th {\n",
       "        text-align: right;\n",
       "    }\n",
       "</style>\n",
       "<table border=\"1\" class=\"dataframe\">\n",
       "  <thead>\n",
       "    <tr style=\"text-align: right;\">\n",
       "      <th></th>\n",
       "      <th>PollDetailsID</th>\n",
       "      <th>RegionName</th>\n",
       "      <th>Party</th>\n",
       "      <th>PollShare</th>\n",
       "      <th>PreviousShare</th>\n",
       "      <th>Swing</th>\n",
       "    </tr>\n",
       "  </thead>\n",
       "  <tbody>\n",
       "    <tr>\n",
       "      <th>30</th>\n",
       "      <td>20200407YouGovWalesRegionAllSouth West WalesLab</td>\n",
       "      <td>South West Wales</td>\n",
       "      <td>Lab</td>\n",
       "      <td>0.38</td>\n",
       "      <td>0.472529</td>\n",
       "      <td>-0.092529</td>\n",
       "    </tr>\n",
       "    <tr>\n",
       "      <th>31</th>\n",
       "      <td>20200407YouGovWalesRegionAllSouth West WalesLD</td>\n",
       "      <td>South West Wales</td>\n",
       "      <td>LD</td>\n",
       "      <td>0.04</td>\n",
       "      <td>0.048725</td>\n",
       "      <td>-0.008725</td>\n",
       "    </tr>\n",
       "    <tr>\n",
       "      <th>32</th>\n",
       "      <td>20200407YouGovWalesRegionAllSouth West WalesOther</td>\n",
       "      <td>South West Wales</td>\n",
       "      <td>Other</td>\n",
       "      <td>0.00</td>\n",
       "      <td>0.018925</td>\n",
       "      <td>-0.018925</td>\n",
       "    </tr>\n",
       "    <tr>\n",
       "      <th>33</th>\n",
       "      <td>20200407YouGovWalesRegionAllSouth West WalesPC</td>\n",
       "      <td>South West Wales</td>\n",
       "      <td>PC</td>\n",
       "      <td>0.15</td>\n",
       "      <td>0.070019</td>\n",
       "      <td>0.079981</td>\n",
       "    </tr>\n",
       "    <tr>\n",
       "      <th>34</th>\n",
       "      <td>20200407YouGovWalesRegionAllSouth West WalesRe...</td>\n",
       "      <td>South West Wales</td>\n",
       "      <td>Reform</td>\n",
       "      <td>0.01</td>\n",
       "      <td>0.075222</td>\n",
       "      <td>-0.065222</td>\n",
       "    </tr>\n",
       "  </tbody>\n",
       "</table>\n",
       "</div>"
      ],
      "text/plain": [
       "                                        PollDetailsID        RegionName  \\\n",
       "30    20200407YouGovWalesRegionAllSouth West WalesLab  South West Wales   \n",
       "31     20200407YouGovWalesRegionAllSouth West WalesLD  South West Wales   \n",
       "32  20200407YouGovWalesRegionAllSouth West WalesOther  South West Wales   \n",
       "33     20200407YouGovWalesRegionAllSouth West WalesPC  South West Wales   \n",
       "34  20200407YouGovWalesRegionAllSouth West WalesRe...  South West Wales   \n",
       "\n",
       "     Party  PollShare PreviousShare     Swing  \n",
       "30     Lab       0.38      0.472529 -0.092529  \n",
       "31      LD       0.04      0.048725 -0.008725  \n",
       "32   Other       0.00      0.018925 -0.018925  \n",
       "33      PC       0.15      0.070019  0.079981  \n",
       "34  Reform       0.01      0.075222 -0.065222  "
      ]
     },
     "execution_count": 14,
     "metadata": {},
     "output_type": "execute_result"
    }
   ],
   "source": [
    "PollRegionShares_df.tail()"
   ]
  },
  {
   "cell_type": "code",
   "execution_count": 15,
   "id": "1f6d7983",
   "metadata": {},
   "outputs": [
    {
     "data": {
      "text/plain": [
       "1"
      ]
     },
     "execution_count": 15,
     "metadata": {},
     "output_type": "execute_result"
    }
   ],
   "source": [
    "# Create PollAnalysisMeta details for inserting into database\n",
    "PollAnalysisMeta_df = pd.DataFrame(columns=[\"PollID\",\"PollAnalysisDate\",\"PollAnalysisAlgorithm\"])\n",
    "\n",
    "PollAnalysisMeta_df.at[0,\"PollID\"] = PollID\n",
    "PollAnalysisMeta_df.at[0,\"PollAnalysisAlgorithm\"] = PollAnalysisAlgorithm\n",
    "\n",
    "# The date of the analysis is always today's date\n",
    "PollAnalysisMeta_df.at[0,\"PollAnalysisDate\"] = datetime.date.today()\n",
    "\n",
    "PollAnalysisMeta_df.to_sql('PollAnalysisMeta', conn, if_exists='append', index=False)"
   ]
  },
  {
   "cell_type": "code",
   "execution_count": 16,
   "id": "5de3189b",
   "metadata": {},
   "outputs": [
    {
     "name": "stderr",
     "output_type": "stream",
     "text": [
      "C:\\Users\\danmu\\AppData\\Local\\Temp\\ipykernel_55904\\1200481146.py:9: SettingWithCopyWarning: \n",
      "A value is trying to be set on a copy of a slice from a DataFrame.\n",
      "Try using .loc[row_indexer,col_indexer] = value instead\n",
      "\n",
      "See the caveats in the documentation: https://pandas.pydata.org/pandas-docs/stable/user_guide/indexing.html#returning-a-view-versus-a-copy\n",
      "  PollAnalysisRegions_df['PollAnalysisID'] = PollAnalysisID\n"
     ]
    },
    {
     "data": {
      "text/plain": [
       "-1"
      ]
     },
     "execution_count": 16,
     "metadata": {},
     "output_type": "execute_result"
    }
   ],
   "source": [
    "# Initial poll analysis values are now inserted into the database to allow these to be queried for the constituency shares\n",
    "PollAnalysisRegions_df = PollRegionShares_df[['PollDetailsID','Swing']]\n",
    "\n",
    "# Get the recently inserted PollAnalysis ID from the database\n",
    "PollAnalysisIDQuery = \"SELECT PollAnalysisID FROM PollAnalysisMeta WHERE PollID = '<PollID>'\"\n",
    "PollAnalysisIDQuery = PollAnalysisIDQuery.replace(\"<PollID>\",PollID)\n",
    "\n",
    "PollAnalysisID = [i[0] for i in engine.execute(PollAnalysisIDQuery)][0]\n",
    "PollAnalysisRegions_df['PollAnalysisID'] = PollAnalysisID\n",
    "\n",
    "PollAnalysisRegions_df.to_sql('PollAnalysisRegions', conn, if_exists='append', index=False)"
   ]
  },
  {
   "cell_type": "code",
   "execution_count": 17,
   "id": "b33b8fae",
   "metadata": {},
   "outputs": [],
   "source": [
    "# Query for pulling out previous election shares for applicable constituencies\n",
    "CandidatesQuery = \"\"\"SELECT can.CandidateID, r.RegionName, can.Constituency, can.Party, can.PreviousShare\n",
    "FROM Candidates AS can\n",
    "INNER JOIN Constituencies as con ON con.ConstituencyName = can.Constituency\n",
    "INNER JOIN RegionConstituencies AS rc ON  rc.ConstituencyName = con.ConstituencyName\n",
    "INNER JOIN Regions AS r ON r.RegionName = rc.RegionName\n",
    "INNER JOIN RegionRegionTypes AS rrt ON rrt.RegionName = r.RegionName\n",
    "WHERE r.RegionName = '<RegionName>' AND rrt.RegionType = '<RegionType>'\n",
    "AND can.CurrentStanding = 1\n",
    "ORDER BY can.Constituency, can.Party\"\"\"\n",
    "\n",
    "CandidatesQuery = CandidatesQuery.replace(\"<RegionType>\",PollType)"
   ]
  },
  {
   "cell_type": "code",
   "execution_count": 18,
   "id": "f1146ec6",
   "metadata": {},
   "outputs": [],
   "source": [
    "# Query for getting applicable swings for current party and region\n",
    "SwingQuery = \"\"\"SELECT par.PollAnalysisRegionID, par.Swing FROM PollAnalysisRegions AS par\n",
    "INNER JOIN PollAnalysisMeta AS pam ON pam.PollAnalysisID = par.PollAnalysisID\n",
    "INNER JOIN PollDetails AS pd ON pd.PollDetailsID = par.PollDetailsID\n",
    "WHERE pd.Party = '<Party>' AND pd.RegionName = '<RegionName>'\n",
    "AND pam.PollAnalysisID = '<PollAnalysisID>'\"\"\"\n",
    "\n",
    "SwingQuery = SwingQuery.replace('<PollAnalysisID>',PollAnalysisID)"
   ]
  },
  {
   "cell_type": "code",
   "execution_count": 19,
   "id": "1679e3c8",
   "metadata": {},
   "outputs": [
    {
     "data": {
      "text/html": [
       "<div>\n",
       "<style scoped>\n",
       "    .dataframe tbody tr th:only-of-type {\n",
       "        vertical-align: middle;\n",
       "    }\n",
       "\n",
       "    .dataframe tbody tr th {\n",
       "        vertical-align: top;\n",
       "    }\n",
       "\n",
       "    .dataframe thead th {\n",
       "        text-align: right;\n",
       "    }\n",
       "</style>\n",
       "<table border=\"1\" class=\"dataframe\">\n",
       "  <thead>\n",
       "    <tr style=\"text-align: right;\">\n",
       "      <th></th>\n",
       "      <th>CandidateID</th>\n",
       "      <th>RegionName</th>\n",
       "      <th>Constituency</th>\n",
       "      <th>Party</th>\n",
       "      <th>PreviousShare</th>\n",
       "      <th>Swing</th>\n",
       "      <th>NewShareRaw</th>\n",
       "      <th>VoteShare</th>\n",
       "      <th>PollAnalysisRegionID</th>\n",
       "      <th>ConstRawShareTotals</th>\n",
       "      <th>VoteShareCheck</th>\n",
       "    </tr>\n",
       "  </thead>\n",
       "  <tbody>\n",
       "    <tr>\n",
       "      <th>271</th>\n",
       "      <td>Swansea WestLab</td>\n",
       "      <td>South West Wales</td>\n",
       "      <td>Swansea West</td>\n",
       "      <td>Lab</td>\n",
       "      <td>0.516132</td>\n",
       "      <td>-0.092529</td>\n",
       "      <td>0.423603</td>\n",
       "      <td>0.419313</td>\n",
       "      <td>20200407YouGovWalesRegionAllSouth West WalesLa...</td>\n",
       "      <td>1.010229</td>\n",
       "      <td>1.0</td>\n",
       "    </tr>\n",
       "    <tr>\n",
       "      <th>272</th>\n",
       "      <td>Swansea WestLD</td>\n",
       "      <td>South West Wales</td>\n",
       "      <td>Swansea West</td>\n",
       "      <td>LD</td>\n",
       "      <td>0.083533</td>\n",
       "      <td>-0.008725</td>\n",
       "      <td>0.074808</td>\n",
       "      <td>0.074051</td>\n",
       "      <td>20200407YouGovWalesRegionAllSouth West WalesLD...</td>\n",
       "      <td>1.010229</td>\n",
       "      <td>1.0</td>\n",
       "    </tr>\n",
       "    <tr>\n",
       "      <th>273</th>\n",
       "      <td>Swansea WestOther</td>\n",
       "      <td>South West Wales</td>\n",
       "      <td>Swansea West</td>\n",
       "      <td>Other</td>\n",
       "      <td>0.000000</td>\n",
       "      <td>-0.018925</td>\n",
       "      <td>0.000000</td>\n",
       "      <td>0.000000</td>\n",
       "      <td>20200407YouGovWalesRegionAllSouth West WalesOt...</td>\n",
       "      <td>1.010229</td>\n",
       "      <td>1.0</td>\n",
       "    </tr>\n",
       "    <tr>\n",
       "      <th>274</th>\n",
       "      <td>Swansea WestPC</td>\n",
       "      <td>South West Wales</td>\n",
       "      <td>Swansea West</td>\n",
       "      <td>PC</td>\n",
       "      <td>0.055373</td>\n",
       "      <td>0.079981</td>\n",
       "      <td>0.135354</td>\n",
       "      <td>0.133983</td>\n",
       "      <td>20200407YouGovWalesRegionAllSouth West WalesPC...</td>\n",
       "      <td>1.010229</td>\n",
       "      <td>1.0</td>\n",
       "    </tr>\n",
       "    <tr>\n",
       "      <th>275</th>\n",
       "      <td>Swansea WestReform</td>\n",
       "      <td>South West Wales</td>\n",
       "      <td>Swansea West</td>\n",
       "      <td>Reform</td>\n",
       "      <td>0.055345</td>\n",
       "      <td>-0.065222</td>\n",
       "      <td>0.000000</td>\n",
       "      <td>0.000000</td>\n",
       "      <td>20200407YouGovWalesRegionAllSouth West WalesRe...</td>\n",
       "      <td>1.010229</td>\n",
       "      <td>1.0</td>\n",
       "    </tr>\n",
       "  </tbody>\n",
       "</table>\n",
       "</div>"
      ],
      "text/plain": [
       "            CandidateID        RegionName  Constituency   Party  \\\n",
       "271     Swansea WestLab  South West Wales  Swansea West     Lab   \n",
       "272      Swansea WestLD  South West Wales  Swansea West      LD   \n",
       "273   Swansea WestOther  South West Wales  Swansea West   Other   \n",
       "274      Swansea WestPC  South West Wales  Swansea West      PC   \n",
       "275  Swansea WestReform  South West Wales  Swansea West  Reform   \n",
       "\n",
       "     PreviousShare     Swing  NewShareRaw  VoteShare  \\\n",
       "271       0.516132 -0.092529     0.423603   0.419313   \n",
       "272       0.083533 -0.008725     0.074808   0.074051   \n",
       "273       0.000000 -0.018925     0.000000   0.000000   \n",
       "274       0.055373  0.079981     0.135354   0.133983   \n",
       "275       0.055345 -0.065222     0.000000   0.000000   \n",
       "\n",
       "                                  PollAnalysisRegionID  ConstRawShareTotals  \\\n",
       "271  20200407YouGovWalesRegionAllSouth West WalesLa...             1.010229   \n",
       "272  20200407YouGovWalesRegionAllSouth West WalesLD...             1.010229   \n",
       "273  20200407YouGovWalesRegionAllSouth West WalesOt...             1.010229   \n",
       "274  20200407YouGovWalesRegionAllSouth West WalesPC...             1.010229   \n",
       "275  20200407YouGovWalesRegionAllSouth West WalesRe...             1.010229   \n",
       "\n",
       "     VoteShareCheck  \n",
       "271             1.0  \n",
       "272             1.0  \n",
       "273             1.0  \n",
       "274             1.0  \n",
       "275             1.0  "
      ]
     },
     "execution_count": 19,
     "metadata": {},
     "output_type": "execute_result"
    }
   ],
   "source": [
    "# Calculate the swings for every candidate in every constituency\n",
    "ConstituencyShares_df = pd.DataFrame(columns=[\"CandidateID\",\"RegionName\",\"Constituency\",\"Party\",\"PreviousShare\",\"Swing\",\"NewShareRaw\",\"VoteShare\"])\n",
    "IndConstituencyShares_df = pd.DataFrame(columns=[\"CandidateID\",\"RegionName\",\"Constituency\",\"Party\",\"PreviousShare\",\"Swing\",\"NewShareRaw\",\"VoteShare\"])\n",
    "\n",
    "# Need to cycle through every region to pull out the candidates for each in turn, then get the swing for each\n",
    "for Region in RegionsList:\n",
    "    \n",
    "    ModCandidatesQuery = CandidatesQuery.replace(\"<RegionName>\",Region)\n",
    "    IndConstituencyShares_df = pd.read_sql(ModCandidatesQuery,conn)\n",
    "    \n",
    "    RegionSwingQuery = SwingQuery.replace(\"<RegionName>\",Region)\n",
    "    \n",
    "    # Now cycle through each row of the IndConstituencyShares_df to get the relevant swings\n",
    "    for i in range(0,len(IndConstituencyShares_df)):\n",
    "        Party = IndConstituencyShares_df.iloc[i][\"Party\"]\n",
    "        PartySwingQuery = RegionSwingQuery.replace(\"<Party>\",Party)\n",
    "        Swing = [i[1] for i in engine.execute(PartySwingQuery)][0]\n",
    "        PollAnalysisRegionID = [i[0] for i in engine.execute(PartySwingQuery)][0]\n",
    "        IndConstituencyShares_df.at[i,\"Swing\"] = Swing\n",
    "        IndConstituencyShares_df.at[i,\"PollAnalysisRegionID\"] = PollAnalysisRegionID\n",
    "    \n",
    "\n",
    "    ConstituencyShares_df = pd.concat([ConstituencyShares_df,IndConstituencyShares_df],axis=0)\n",
    "        \n",
    "ConstituencyShares_df.reset_index(drop=True,inplace=True)\n",
    "\n",
    "# Ensure the datatypes are numeric of the columns to be used in the calculation\n",
    "ConstituencyShares_df[\"PreviousShare\"] = pd.to_numeric(ConstituencyShares_df[\"PreviousShare\"])\n",
    "ConstituencyShares_df[\"Swing\"] = pd.to_numeric(ConstituencyShares_df[\"Swing\"])\n",
    "\n",
    "ConstituencyShares_df[\"NewShareRaw\"] = ConstituencyShares_df[\"PreviousShare\"] + ConstituencyShares_df[\"Swing\"] \n",
    "ConstituencyShares_df[\"NewShareRaw\"] = np.where(ConstituencyShares_df[\"NewShareRaw\"] < 0, 0,ConstituencyShares_df[\"NewShareRaw\"])\n",
    "\n",
    "# Determine the factor needed to ensure vote shares for each constituency sum to 1\n",
    "ConstituencyShares_df['ConstRawShareTotals'] = ConstituencyShares_df['NewShareRaw'].groupby(ConstituencyShares_df['Constituency']).transform('sum')\n",
    "\n",
    "# Modify the raw vote shares to ensure they sum to 1\n",
    "ConstituencyShares_df['VoteShare'] = ConstituencyShares_df['NewShareRaw']/ConstituencyShares_df['ConstRawShareTotals']\n",
    "\n",
    "ConstituencyShares_df['VoteShareCheck'] = ConstituencyShares_df['VoteShare'].groupby(ConstituencyShares_df['Constituency']).transform('sum')\n",
    "\n",
    "ConstituencyShares_df.tail()"
   ]
  },
  {
   "cell_type": "code",
   "execution_count": 20,
   "id": "9c418d1e",
   "metadata": {},
   "outputs": [
    {
     "data": {
      "text/plain": [
       "-1"
      ]
     },
     "execution_count": 20,
     "metadata": {},
     "output_type": "execute_result"
    }
   ],
   "source": [
    "# Create the dataframe for insertion into the database and insert\n",
    "PollAnalysisConstituencies_df = ConstituencyShares_df[['PollAnalysisRegionID','CandidateID','VoteShare']]\n",
    "PollAnalysisConstituencies_df.to_sql('PollAnalysisConstituencies', conn, if_exists='append', index=False)"
   ]
  },
  {
   "cell_type": "code",
   "execution_count": 21,
   "id": "c2add402",
   "metadata": {},
   "outputs": [],
   "source": [
    "#Close the connection with the database\n",
    "conn.close()"
   ]
  }
 ],
 "metadata": {
  "kernelspec": {
   "display_name": "Python 3 (ipykernel)",
   "language": "python",
   "name": "python3"
  },
  "language_info": {
   "codemirror_mode": {
    "name": "ipython",
    "version": 3
   },
   "file_extension": ".py",
   "mimetype": "text/x-python",
   "name": "python",
   "nbconvert_exporter": "python",
   "pygments_lexer": "ipython3",
   "version": "3.9.12"
  }
 },
 "nbformat": 4,
 "nbformat_minor": 5
}
