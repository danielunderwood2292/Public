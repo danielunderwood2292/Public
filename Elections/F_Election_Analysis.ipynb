{
 "cells": [
  {
   "cell_type": "code",
   "execution_count": null,
   "id": "8acf157f",
   "metadata": {},
   "outputs": [],
   "source": [
    "# Algorithm details\n",
    "AlgorithmName = \"ElectionAnalysisAlogrithm\"\n",
    "AlgorithmVersion = \"0_1\"\n",
    "AlgorithmDate = \"20230602\"\n",
    "\n",
    "# Construct PollAnalysisAlogrithm string\n",
    "ElectionAnalysisAlgorithm = AlgorithmName + \"_\" + AlgorithmVersion + \"_\" + AlgorithmDate"
   ]
  },
  {
   "cell_type": "code",
   "execution_count": null,
   "id": "76f9782b",
   "metadata": {},
   "outputs": [],
   "source": [
    "# Import required modules\n",
    "import pandas as pd\n",
    "import datetime\n",
    "import ipywidgets as widgets\n",
    "import numpy as np\n",
    "\n",
    "#Modules required for database access\n",
    "import pyodbc\n",
    "import sqlalchemy\n",
    "from sqlalchemy import create_engine\n",
    "import urllib"
   ]
  },
  {
   "cell_type": "code",
   "execution_count": null,
   "id": "27dc8155",
   "metadata": {},
   "outputs": [],
   "source": [
    "# Boolean to set whether an election has been called yet or not\n",
    "ElectionCalled = False"
   ]
  },
  {
   "cell_type": "code",
   "execution_count": null,
   "id": "db9403eb",
   "metadata": {},
   "outputs": [],
   "source": [
    "if ElectionCalled == True:\n",
    "    NationalValidPeriod = 7\n",
    "    DetailedValidPeriod = 30\n",
    "else:\n",
    "    NationalValidPeriod = 30\n",
    "    DetailedValidPeriod = 90    "
   ]
  },
  {
   "cell_type": "code",
   "execution_count": null,
   "id": "08b7993c",
   "metadata": {},
   "outputs": [],
   "source": [
    "# Set the date of the prediction\n",
    "ElectionPredictionDate_widget = widgets.DatePicker(\n",
    "    description = 'Date to be analysed:',\n",
    "    value = datetime.date.today()\n",
    "    )\n",
    "display(ElectionPredictionDate_widget)"
   ]
  },
  {
   "cell_type": "code",
   "execution_count": null,
   "id": "4924aa89",
   "metadata": {},
   "outputs": [],
   "source": [
    "ElectionPredictionDate = ElectionPredictionDate_widget.value"
   ]
  },
  {
   "cell_type": "code",
   "execution_count": null,
   "id": "9b58c6f7",
   "metadata": {},
   "outputs": [],
   "source": [
    "#Connect to database 'UK_General_Election' using SQlAlchemy\n",
    "connection_str = \"DRIVER={SQL SERVER};SERVER=DANZPOOTA;DATABASE=UK_General_Election;TRUSTED_CONNECTION=YES\"\n",
    "params = urllib.parse.quote_plus(connection_str)\n",
    "engine = create_engine('mssql+pyodbc:///?odbc_connect=%s' % params)\n",
    "conn = engine.connect()"
   ]
  },
  {
   "cell_type": "code",
   "execution_count": null,
   "id": "aecfba44",
   "metadata": {},
   "outputs": [],
   "source": [
    "# Get the list of polls that have actually been analysed and incorporated into the database\n",
    "AnalysedPollsQuery = \"\"\"SELECT pam.PollID, pm.PollType, pm.PollScope, pm.PollDate, rt.RegionTypeRank  FROM PollAnalysisMeta AS pam\n",
    "INNER JOIN PollMeta AS pm ON pm.PollID = pam.PollID\n",
    "INNER JOIN RegionTypes AS rt ON rt.RegionType = pm.PollType\"\"\"\n",
    "\n",
    "AnalysedPolls_df = pd.read_sql(AnalysedPollsQuery,conn)\n",
    "\n",
    "# Convert the date column to datetime type\n",
    "AnalysedPolls_df['PollDate'] = pd.to_datetime(AnalysedPolls_df['PollDate'])\n",
    "\n",
    "# Add prediction date and convert to datetime date so that it can be used in a calcualtion\n",
    "AnalysedPolls_df['PredictionDate'] = ElectionPredictionDate\n",
    "AnalysedPolls_df['PredictionDate'] = pd.to_datetime(AnalysedPolls_df['PredictionDate'])\n",
    "\n",
    "# Determine how many days from the prediction date a poll was taken\n",
    "AnalysedPolls_df['DateDelta'] = AnalysedPolls_df['PredictionDate'] - AnalysedPolls_df['PollDate']\n",
    "\n",
    "# Determine the applicability of each poll\n",
    "AnalysedPolls_df['PollApplicability'] = np.where(AnalysedPolls_df['DateDelta'] > pd.Timedelta(DetailedValidPeriod, unit=\"d\"),1,0)\n",
    "\n",
    "# Assign a rank to each poll\n",
    "AnalysedPolls_df['PollRank'] = np.where(AnalysedPolls_df['PollScope']=='All',AnalysedPolls_df['RegionTypeRank'],AnalysedPolls_df['RegionTypeRank']-1)\n",
    "\n",
    "AnalysedPolls_df"
   ]
  },
  {
   "cell_type": "code",
   "execution_count": null,
   "id": "dc403451",
   "metadata": {},
   "outputs": [],
   "source": [
    "delta = pd.Timedelta(90, unit=\"d\")\n",
    "print(delta)"
   ]
  },
  {
   "cell_type": "markdown",
   "id": "1c504d56",
   "metadata": {},
   "source": [
    "Division between new workbook F and old workbook E"
   ]
  },
  {
   "cell_type": "code",
   "execution_count": null,
   "id": "737a5ced",
   "metadata": {},
   "outputs": [],
   "source": [
    "# Get the Poll Meta data from the database\n",
    "PollID = PollWidget.value\n",
    "PollMetaQuery = \"SELECT * From PollMeta WHERE PollID = '<PollID>'\"\n",
    "PollMetaQuery = PollMetaQuery.replace(\"<PollID>\",PollID)\n",
    "PollMeta_df = pd.read_sql(PollMetaQuery,conn)"
   ]
  },
  {
   "cell_type": "code",
   "execution_count": null,
   "id": "6319d671",
   "metadata": {},
   "outputs": [],
   "source": [
    "PollMeta_df"
   ]
  },
  {
   "cell_type": "code",
   "execution_count": null,
   "id": "5af9389c",
   "metadata": {},
   "outputs": [],
   "source": [
    "# Get key variables for polls\n",
    "PollType = PollMeta_df.at[0,'PollType']\n",
    "PollScope = PollMeta_df.at[0,'PollScope']\n",
    "print(PollType,PollScope)"
   ]
  },
  {
   "cell_type": "code",
   "execution_count": null,
   "id": "c3a412e9",
   "metadata": {},
   "outputs": [],
   "source": [
    "#Queries for generating list of applicable poll regions\n",
    "AllQuery = \"SELECT RegionName FROM RegionRegionTypes WHERE RegionType = '<PollType>'\""
   ]
  },
  {
   "cell_type": "code",
   "execution_count": null,
   "id": "76e0001b",
   "metadata": {},
   "outputs": [],
   "source": [
    "# Generate a list of all of the regions applicable to a poll\n",
    "if PollScope == \"All\":\n",
    "    AllQuery = AllQuery.replace(\"<PollType>\",PollType)\n",
    "    RegionsList = [i[0] for i in engine.execute(AllQuery)]\n",
    "else:\n",
    "    RegionsList = [PollScope]\n",
    "\n",
    "print(RegionsList)"
   ]
  },
  {
   "cell_type": "code",
   "execution_count": null,
   "id": "6692c4fd",
   "metadata": {},
   "outputs": [],
   "source": [
    "# Get from database all of the region vote shares relating to the PollID\n",
    "PollRegionSharesQuery = \"SELECT PollDetailsID, RegionName, Party, VoteShare AS PollShare FROM PollDetails WHERE PollID = '<PollID>' ORDER BY RegionName, Party\"\n",
    "PollRegionSharesQuery = PollRegionSharesQuery.replace(\"<PollID>\",PollID)\n",
    "PollRegionShares_df = pd.read_sql(PollRegionSharesQuery,conn)\n",
    "PollRegionShares_df.tail()"
   ]
  },
  {
   "cell_type": "code",
   "execution_count": null,
   "id": "691c619b",
   "metadata": {},
   "outputs": [],
   "source": [
    "# Query for the region vote shares from the previous election\n",
    "PreviousRegionSharesQuery = \"\"\"SELECT r.RegionName, can.Party, SUM(can.PreviousVotes) AS 'TotalVotes',\n",
    "CAST(SUM(can.PreviousVotes) AS FLOAT) / SUM(SUM(can.PreviousVotes)) OVER() AS 'RawPreviousShare',\n",
    "SUM(can.PreviousStanding) AS 'PreviousCandidates',\n",
    "SUM(can.CurrentStanding) AS 'CurrentCandidates'\n",
    "FROM Candidates AS can\n",
    "INNER JOIN Constituencies as con ON con.ConstituencyName = can.Constituency\n",
    "INNER JOIN RegionConstituencies AS rc ON  rc.ConstituencyName = con.ConstituencyName\n",
    "INNER JOIN Regions AS r ON r.RegionName = rc.RegionName\n",
    "INNER JOIN RegionRegionTypes AS rrt ON rrt.RegionName = r.RegionName\n",
    "WHERE r.RegionName = '<RegionName>' AND rrt.RegionType = '<RegionType>'\n",
    "GROUP BY r.RegionName, can.Party\n",
    "ORDER BY r.RegionName, can.Party\"\"\"\n",
    "\n",
    "PreviousRegionSharesQuery = PreviousRegionSharesQuery.replace(\"<RegionType>\",PollType)"
   ]
  },
  {
   "cell_type": "code",
   "execution_count": null,
   "id": "74f11b4d",
   "metadata": {},
   "outputs": [],
   "source": [
    "# Get from database all of the vote shares for the poll regions from the previous election\n",
    "PreviousRegionShares_df = pd.DataFrame(columns=[\"RegionName\",\"Party\",\"TotalVotes\",\"RawPreviousShare\",\"PreviousCandidates\",\"CurrentCandidates\"])\n",
    "\n",
    "# Loop through all regions applicable to this particular poll\n",
    "for Region in RegionsList:\n",
    "    # Run query for the raw previous region shares\n",
    "    ModRegionSharesQuery = PreviousRegionSharesQuery.replace(\"<RegionName>\",Region)\n",
    "    IndRegionShares_df = pd.read_sql(ModRegionSharesQuery,conn)  \n",
    "    \n",
    "    # Join this particular region's numbers to the overall dataframe for this poll\n",
    "    PreviousRegionShares_df = pd.concat([PreviousRegionShares_df,IndRegionShares_df],axis=0)\n",
    "\n",
    "# Reset the index column\n",
    "PreviousRegionShares_df.reset_index(drop=True,inplace=True)\n",
    "\n",
    "# Replace all 0 values with 1000 to ensure the new vote share can be calculated without dividing by zero\n",
    "PreviousRegionShares_df['PreviousCandidates'].replace(0,1000,inplace=True)\n",
    "\n",
    "#Calculated the adjusted previous share based on the number of candidates actually standing\n",
    "PreviousRegionShares_df['PreviousShare'] = PreviousRegionShares_df['RawPreviousShare'] * PreviousRegionShares_df['CurrentCandidates']/PreviousRegionShares_df['PreviousCandidates']\n",
    "\n",
    "# Revert previous candidates back to zero\n",
    "PreviousRegionShares_df['PreviousCandidates'].replace(1000,0,inplace=True)\n",
    "\n",
    "PreviousRegionShares_df.tail()"
   ]
  },
  {
   "cell_type": "code",
   "execution_count": null,
   "id": "13b60c4e",
   "metadata": {},
   "outputs": [],
   "source": [
    "# Compare previous election votes shares to poll votes shares to determine swings\n",
    "# Check the 2 extracted dataframes match\n",
    "if PollRegionShares_df[['RegionName','Party']].equals(PreviousRegionShares_df[['RegionName','Party']]) == True:\n",
    "    PollRegionShares_df['PreviousShare'] = PreviousRegionShares_df['PreviousShare'].values\n",
    "    PollRegionShares_df['Swing'] = PollRegionShares_df['PollShare'] - PollRegionShares_df['PreviousShare']\n",
    "else:\n",
    "    print(\"NO MATCH!\")"
   ]
  },
  {
   "cell_type": "code",
   "execution_count": null,
   "id": "e6314f6a",
   "metadata": {},
   "outputs": [],
   "source": [
    "PollRegionShares_df.tail()"
   ]
  },
  {
   "cell_type": "code",
   "execution_count": null,
   "id": "1f6d7983",
   "metadata": {},
   "outputs": [],
   "source": [
    "# Create PollAnalysisMeta details for inserting into database\n",
    "PollAnalysisMeta_df = pd.DataFrame(columns=[\"PollID\",\"PollAnalysisDate\",\"PollAnalysisAlgorithm\"])\n",
    "\n",
    "PollAnalysisMeta_df.at[0,\"PollID\"] = PollID\n",
    "PollAnalysisMeta_df.at[0,\"PollAnalysisAlgorithm\"] = PollAnalysisAlgorithm\n",
    "\n",
    "# The date of the analysis is always today's date\n",
    "PollAnalysisMeta_df.at[0,\"PollAnalysisDate\"] = datetime.date.today()\n",
    "\n",
    "PollAnalysisMeta_df.to_sql('PollAnalysisMeta', conn, if_exists='append', index=False)"
   ]
  },
  {
   "cell_type": "code",
   "execution_count": null,
   "id": "5de3189b",
   "metadata": {},
   "outputs": [],
   "source": [
    "# Initial poll analysis values are now inserted into the database to allow these to be queried for the constituency shares\n",
    "PollAnalysisRegions_df = PollRegionShares_df[['PollDetailsID','Swing']]\n",
    "\n",
    "# Get the recently inserted PollAnalysis ID from the database\n",
    "PollAnalysisIDQuery = \"SELECT PollAnalysisID FROM PollAnalysisMeta WHERE PollID = '<PollID>'\"\n",
    "PollAnalysisIDQuery = PollAnalysisIDQuery.replace(\"<PollID>\",PollID)\n",
    "\n",
    "PollAnalysisID = [i[0] for i in engine.execute(PollAnalysisIDQuery)][0]\n",
    "PollAnalysisRegions_df['PollAnalysisID'] = PollAnalysisID\n",
    "\n",
    "PollAnalysisRegions_df.to_sql('PollAnalysisRegions', conn, if_exists='append', index=False)"
   ]
  },
  {
   "cell_type": "code",
   "execution_count": null,
   "id": "b33b8fae",
   "metadata": {},
   "outputs": [],
   "source": [
    "# Query for pulling out previous election shares for applicable constituencies\n",
    "CandidatesQuery = \"\"\"SELECT can.CandidateID, r.RegionName, can.Constituency, can.Party, can.PreviousShare\n",
    "FROM Candidates AS can\n",
    "INNER JOIN Constituencies as con ON con.ConstituencyName = can.Constituency\n",
    "INNER JOIN RegionConstituencies AS rc ON  rc.ConstituencyName = con.ConstituencyName\n",
    "INNER JOIN Regions AS r ON r.RegionName = rc.RegionName\n",
    "INNER JOIN RegionRegionTypes AS rrt ON rrt.RegionName = r.RegionName\n",
    "WHERE r.RegionName = '<RegionName>' AND rrt.RegionType = '<RegionType>'\n",
    "AND can.CurrentStanding = 1\n",
    "ORDER BY can.Constituency, can.Party\"\"\"\n",
    "\n",
    "CandidatesQuery = CandidatesQuery.replace(\"<RegionType>\",PollType)"
   ]
  },
  {
   "cell_type": "code",
   "execution_count": null,
   "id": "f1146ec6",
   "metadata": {},
   "outputs": [],
   "source": [
    "# Query for getting applicable swings for current party and region\n",
    "SwingQuery = \"\"\"SELECT par.PollAnalysisRegionID, par.Swing FROM PollAnalysisRegions AS par\n",
    "INNER JOIN PollAnalysisMeta AS pam ON pam.PollAnalysisID = par.PollAnalysisID\n",
    "INNER JOIN PollDetails AS pd ON pd.PollDetailsID = par.PollDetailsID\n",
    "WHERE pd.Party = '<Party>' AND pd.RegionName = '<RegionName>'\n",
    "AND pam.PollAnalysisID = '<PollAnalysisID>'\"\"\"\n",
    "\n",
    "SwingQuery = SwingQuery.replace('<PollAnalysisID>',PollAnalysisID)"
   ]
  },
  {
   "cell_type": "code",
   "execution_count": null,
   "id": "1679e3c8",
   "metadata": {},
   "outputs": [],
   "source": [
    "# Calculate the swings for every candidate in every constituency\n",
    "ConstituencyShares_df = pd.DataFrame(columns=[\"CandidateID\",\"RegionName\",\"Constituency\",\"Party\",\"PreviousShare\",\"Swing\",\"NewShareRaw\",\"VoteShare\"])\n",
    "IndConstituencyShares_df = pd.DataFrame(columns=[\"CandidateID\",\"RegionName\",\"Constituency\",\"Party\",\"PreviousShare\",\"Swing\",\"NewShareRaw\",\"VoteShare\"])\n",
    "\n",
    "# Need to cycle through every region to pull out the candidates for each in turn, then get the swing for each\n",
    "for Region in RegionsList:\n",
    "    \n",
    "    ModCandidatesQuery = CandidatesQuery.replace(\"<RegionName>\",Region)\n",
    "    IndConstituencyShares_df = pd.read_sql(ModCandidatesQuery,conn)\n",
    "    \n",
    "    RegionSwingQuery = SwingQuery.replace(\"<RegionName>\",Region)\n",
    "    \n",
    "    # Now cycle through each row of the IndConstituencyShares_df to get the relevant swings\n",
    "    for i in range(0,len(IndConstituencyShares_df)):\n",
    "        Party = IndConstituencyShares_df.iloc[i][\"Party\"]\n",
    "        PartySwingQuery = RegionSwingQuery.replace(\"<Party>\",Party)\n",
    "        Swing = [i[1] for i in engine.execute(PartySwingQuery)][0]\n",
    "        PollAnalysisRegionID = [i[0] for i in engine.execute(PartySwingQuery)][0]\n",
    "        IndConstituencyShares_df.at[i,\"Swing\"] = Swing\n",
    "        IndConstituencyShares_df.at[i,\"PollAnalysisRegionID\"] = PollAnalysisRegionID\n",
    "    \n",
    "\n",
    "    ConstituencyShares_df = pd.concat([ConstituencyShares_df,IndConstituencyShares_df],axis=0)\n",
    "        \n",
    "ConstituencyShares_df.reset_index(drop=True,inplace=True)\n",
    "\n",
    "# Ensure the datatypes are numeric of the columns to be used in the calculation\n",
    "ConstituencyShares_df[\"PreviousShare\"] = pd.to_numeric(ConstituencyShares_df[\"PreviousShare\"])\n",
    "ConstituencyShares_df[\"Swing\"] = pd.to_numeric(ConstituencyShares_df[\"Swing\"])\n",
    "\n",
    "ConstituencyShares_df[\"NewShareRaw\"] = ConstituencyShares_df[\"PreviousShare\"] + ConstituencyShares_df[\"Swing\"] \n",
    "ConstituencyShares_df[\"NewShareRaw\"] = np.where(ConstituencyShares_df[\"NewShareRaw\"] < 0, 0,ConstituencyShares_df[\"NewShareRaw\"])\n",
    "\n",
    "# Determine the factor needed to ensure vote shares for each constituency sum to 1\n",
    "ConstituencyShares_df['ConstRawShareTotals'] = ConstituencyShares_df['NewShareRaw'].groupby(ConstituencyShares_df['Constituency']).transform('sum')\n",
    "\n",
    "# Modify the raw vote shares to ensure they sum to 1\n",
    "ConstituencyShares_df['VoteShare'] = ConstituencyShares_df['NewShareRaw']/ConstituencyShares_df['ConstRawShareTotals']\n",
    "\n",
    "ConstituencyShares_df['VoteShareCheck'] = ConstituencyShares_df['VoteShare'].groupby(ConstituencyShares_df['Constituency']).transform('sum')\n",
    "\n",
    "ConstituencyShares_df.tail()"
   ]
  },
  {
   "cell_type": "code",
   "execution_count": null,
   "id": "9c418d1e",
   "metadata": {},
   "outputs": [],
   "source": [
    "# Create the dataframe for insertion into the database and insert\n",
    "PollAnalysisConstituencies_df = ConstituencyShares_df[['PollAnalysisRegionID','CandidateID','VoteShare']]\n",
    "PollAnalysisConstituencies_df.to_sql('PollAnalysisConstituencies', conn, if_exists='append', index=False)"
   ]
  },
  {
   "cell_type": "code",
   "execution_count": null,
   "id": "c2add402",
   "metadata": {},
   "outputs": [],
   "source": [
    "#Close the connection with the database\n",
    "conn.close()"
   ]
  },
  {
   "cell_type": "code",
   "execution_count": null,
   "id": "60bf69a0",
   "metadata": {},
   "outputs": [],
   "source": []
  }
 ],
 "metadata": {
  "kernelspec": {
   "display_name": "Python 3 (ipykernel)",
   "language": "python",
   "name": "python3"
  },
  "language_info": {
   "codemirror_mode": {
    "name": "ipython",
    "version": 3
   },
   "file_extension": ".py",
   "mimetype": "text/x-python",
   "name": "python",
   "nbconvert_exporter": "python",
   "pygments_lexer": "ipython3",
   "version": "3.9.12"
  }
 },
 "nbformat": 4,
 "nbformat_minor": 5
}
