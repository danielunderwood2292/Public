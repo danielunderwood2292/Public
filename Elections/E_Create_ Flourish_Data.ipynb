{
 "cells": [
  {
   "cell_type": "markdown",
   "id": "756bfcb9",
   "metadata": {},
   "source": [
    "Jupyter notebook for updating an Excel spreadsheet used to contain the data for the Flourish data visualisation of the model output"
   ]
  },
  {
   "cell_type": "code",
   "execution_count": 1,
   "id": "76f9782b",
   "metadata": {},
   "outputs": [],
   "source": [
    "# Import required modules\n",
    "import pandas as pd\n",
    "import datetime\n",
    "import ipywidgets as widgets\n",
    "import numpy as np\n",
    "\n",
    "#Modules required for database access\n",
    "import pyodbc\n",
    "import sqlalchemy\n",
    "from sqlalchemy import create_engine\n",
    "import urllib"
   ]
  },
  {
   "cell_type": "code",
   "execution_count": 2,
   "id": "9b58c6f7",
   "metadata": {},
   "outputs": [],
   "source": [
    "#Connect to database 'UK_General_Election' using SQlAlchemy\n",
    "connection_str = \"DRIVER={SQL SERVER};SERVER=DANZPOOTA;DATABASE=UK_General_Election;TRUSTED_CONNECTION=YES\"\n",
    "params = urllib.parse.quote_plus(connection_str)\n",
    "engine = create_engine('mssql+pyodbc:///?odbc_connect=%s' % params)\n",
    "conn = engine.connect()"
   ]
  },
  {
   "cell_type": "code",
   "execution_count": 3,
   "id": "5cb57090",
   "metadata": {},
   "outputs": [],
   "source": [
    "# Parties lists\n",
    "AllPartiesList = [i[0] for i in engine.execute(\"select PartyAbbreviation from Parties\")]\n",
    "GBPartiesList = ['Lab','Con','LD','Reform','Green','SNP','PC','Other']\n",
    "GBPartiesAtoZList = ['Con','Green','Lab','LD','Other','PC','Reform','SNP']\n",
    "UKPartiesList = ['Lab','Con','LD','Reform','SNP','PC','DUP','SF','SDLP','APNI','UUP','TUV','Green','Other']"
   ]
  },
  {
   "cell_type": "code",
   "execution_count": 4,
   "id": "33218f62",
   "metadata": {},
   "outputs": [],
   "source": [
    "# Regions lists\n",
    "ITL1RegionList = [i[0] for i in engine.execute(\"SELECT RegionName FROM RegionRegionTypes WHERE RegionType = 'ITL1Region'\")]\n",
    "GBRegionsList = ['East England', 'East Midlands', 'London', 'North East England', 'North West England', 'Scotland', 'South East England', 'South West England', 'Wales', 'West Midlands', 'Yorkshire and The Humber']"
   ]
  },
  {
   "cell_type": "code",
   "execution_count": 5,
   "id": "2567ebac",
   "metadata": {},
   "outputs": [],
   "source": [
    "ConLabBattlegroundYList = [1, 2, 3, 4, 5, 6, 1, 2, 3, 4, 5, 6, 7, 1, 2, 3, 4, 5, 6, 7, 8, 9, 10, 11, 12, 13, 14, 15, 1, 2, 3, 4, 5, 6, 7, 8, 9, 1, 2, 3, 4, 5, 6, 7, 8, 1, 2, 3, 4, 5, 6, 7, 8, 9, 10, 11, 1, 2, 3, 4, 5, 6, 7, 8, 9, 1, 2, 3, 4, 5, 6, 7, 8, 1, 2, 3, 4, 5, 6, 7, 8, 9, 10, 1, 2, 3, 4, 5, 6, 7, 1, 2, 3, 4, 5, 6, 7, 8, 9, 1, 2, 3, 4, 5, 6, 7, 8, 9, 10, 1, 2, 3, 4, 5, 6, 1, 2, 3, 4, 5, 6, 7, 8, 9, 10, 11, 12, 13, 14, 1, 2, 3, 4, 5, 6, 7, 8, 9, 10, 11, 12, 1, 2, 3, 4, 5, 6, 7, 8, 9, 10, 11, 1, 2, 3, 4, 5, 6, 7, 8, 9, 10, 11, 12, 13, 14, 15, 16, 1, 2, 3, 4, 5, 6, 7, 8, 9, 10, 11, 1, 2, 3, 4, 5, 6, 7, 8, 9, 10, 11, 12, 13, 14, 15, 1, 2, 3, 4, 5, 6, 7, 8, 9, 10, 11, 12, 13, 1, 2, 3, 4, 5, 6, 7, 8, 9, 10, 11, 12, 13, 1, 2, 3, 4, 5, 6, 7, 8, 9, 10, 11, 12, 13, 14, 15, 16, 17, 1, 2, 3, 4, 5, 6, 7, 1, 2, 3, 4, 5, 6, 7, 8, 9, 1, 2, 3, 4, 5, 6, 7, 8, 9, 1, 2, 3, 1, 2, 1, 2, 3, 4, 5, 1, 2, 1, 1]"
   ]
  },
  {
   "cell_type": "code",
   "execution_count": 6,
   "id": "bc73abb3",
   "metadata": {},
   "outputs": [],
   "source": [
    "ConLDBattlegroundYList = [1, 2, 1, 2, 1, 2, 3, 4, 1, 1, 2, 3, 1, 1, 2, 3, 1, 2, 3, 4, 1, 2, 3, 1, 1, 2, 3, 1, 2, 3, 4, 5, 6, 7, 1, 2, 3, 4, 5, 6, 7, 8, 1, 2, 3, 4, 5, 6, 1, 2, 3, 4, 5, 1, 2, 3, 4, 1, 2, 3, 4, 5, 1, 2, 1, 2, 3, 4, 1, 2, 3, 4, 5, 6, 7, 1, 2, 3, 4, 5, 1, 2, 3, 1, 2]"
   ]
  },
  {
   "cell_type": "code",
   "execution_count": 7,
   "id": "3e93d5dc",
   "metadata": {},
   "outputs": [],
   "source": [
    "SNPBattlegroundYList = [1, 1, 1, 2, 3, 4, 5, 1, 1, 2, 1, 2, 3, 4, 5, 6, 7, 8, 1, 2, 1, 2, 1, 2, 3, 1, 2, 3, 4, 1, 2, 3, 4, 1, 2, 3, 4, 5, 1, 2, 3, 4, 5, 6, 1, 2, 1, 1]"
   ]
  },
  {
   "cell_type": "code",
   "execution_count": 8,
   "id": "996d03c3",
   "metadata": {},
   "outputs": [],
   "source": [
    "# Determine when the latest CORE prediction was (date) and its ID in the database\n",
    "LatestPredictionDataQuery = \"SELECT TOP(1) ElectionPredictionDate, ElectionPredictionID FROM ElectionPredictionMeta WHERE ElectionPredictionID LIKE '%Core%' ORDER BY ElectionPredictionDate DESC\"\n",
    "LatestPrediction_df = pd.read_sql(LatestPredictionDataQuery,conn)\n",
    "PredictionDate = LatestPrediction_df.loc[0,'ElectionPredictionDate']\n",
    "PredictionID = LatestPrediction_df.loc[0,'ElectionPredictionID']"
   ]
  },
  {
   "cell_type": "code",
   "execution_count": 9,
   "id": "927d98e3",
   "metadata": {
    "scrolled": true
   },
   "outputs": [
    {
     "data": {
      "text/plain": [
       "'2024070420240703CoreComboPollElectionAlogrithm_1_0_20240703'"
      ]
     },
     "execution_count": 9,
     "metadata": {},
     "output_type": "execute_result"
    }
   ],
   "source": [
    "PredictionID"
   ]
  },
  {
   "cell_type": "code",
   "execution_count": 10,
   "id": "95f3ab00",
   "metadata": {},
   "outputs": [],
   "source": [
    "# Determine when the latest MRP prediction was (date) and its ID in the database\n",
    "LatestMRPPredictionDataQuery = \"SELECT TOP(1) ElectionPredictionDate, ElectionPredictionID FROM ElectionPredictionMeta WHERE ElectionPredictionID LIKE '%MRP%' ORDER BY ElectionPredictionDate DESC\"\n",
    "LatestMRPPrediction_df = pd.read_sql(LatestMRPPredictionDataQuery,conn)\n",
    "MRPPredictionDate = LatestMRPPrediction_df.loc[0,'ElectionPredictionDate']\n",
    "MRPPredictionID = LatestMRPPrediction_df.loc[0,'ElectionPredictionID']"
   ]
  },
  {
   "cell_type": "code",
   "execution_count": 11,
   "id": "4ad3a445",
   "metadata": {},
   "outputs": [
    {
     "data": {
      "text/plain": [
       "'2024070420240703MRPComboPollElectionAlogrithm_1_0_20240703'"
      ]
     },
     "execution_count": 11,
     "metadata": {},
     "output_type": "execute_result"
    }
   ],
   "source": [
    "MRPPredictionID"
   ]
  },
  {
   "cell_type": "code",
   "execution_count": 12,
   "id": "448c135b",
   "metadata": {},
   "outputs": [],
   "source": [
    "PredictionCandidatesQuery = \"\"\"SELECT con.ONSID, can.Constituency, Can.Party, epc.VoteShare*100 AS 'Predicted Share', epc.VoteShare*100-can.PreviousShare*100 As 'Change', can.PreviousShare*100 AS 'Previous Share' FROM ElectionPredictionCandidates AS epc\n",
    "INNER JOIN Candidates AS can ON can.CandidateID = epc.CandidateID\n",
    "INNER JOIN Constituencies AS con ON con.ConstituencyName = can.Constituency\n",
    "WHERE ElectionPredictionID = '<PredictionID>'\n",
    "ORDER BY can.Constituency ASC, epc.VoteShare DESC\"\"\""
   ]
  },
  {
   "cell_type": "code",
   "execution_count": 13,
   "id": "6131d7fb",
   "metadata": {},
   "outputs": [],
   "source": [
    "PredictionConstituenciesQuery = \"\"\"SELECT con.ONSID, epc.Constituency, epc.GAIN AS 'Gains', epc.LOSS AS 'Losses', epc.WinningParty AS 'Winning Party', epc.SecondParty AS 'Second Party',\n",
    "epc.VoteShare*100 AS 'Winning Vote Share', epc.Majority*100 As 'Majority', epc.PreviousWinner As '2019 Winner (Notional)', epc.Swing*100 As 'Swing'\n",
    "FROM ElectionPredictionConstituencies AS epc\n",
    "INNER JOIN Constituencies AS con ON con.ConstituencyName = epc.Constituency\n",
    "WHERE ElectionPredictionID = '<PredictionID>'\"\"\""
   ]
  },
  {
   "cell_type": "code",
   "execution_count": 14,
   "id": "bfad33ca",
   "metadata": {},
   "outputs": [],
   "source": [
    "PredictionCandidatesQuery = PredictionCandidatesQuery.replace(\"<PredictionID>\",PredictionID)\n",
    "PredictionConstituenciesQuery = PredictionConstituenciesQuery.replace(\"<PredictionID>\",PredictionID)"
   ]
  },
  {
   "cell_type": "code",
   "execution_count": 15,
   "id": "4c3d7915",
   "metadata": {},
   "outputs": [],
   "source": [
    "Candidates_df = pd.read_sql(PredictionCandidatesQuery,conn)\n",
    "Constituencies_df = pd.read_sql(PredictionConstituenciesQuery,conn)"
   ]
  },
  {
   "cell_type": "code",
   "execution_count": 16,
   "id": "103b3c72",
   "metadata": {},
   "outputs": [],
   "source": [
    "MRPPredictionConstituenciesQuery = \"\"\"SELECT epc.Constituency, epc.GAIN AS 'MRP Gains', epc.WinningParty AS 'MRP Winning Party' FROM ElectionPredictionConstituencies AS epc\n",
    "INNER JOIN Constituencies AS con ON con.ConstituencyName = epc.Constituency\n",
    "WHERE ElectionPredictionID = '<MRPPredictionID>'\"\"\""
   ]
  },
  {
   "cell_type": "code",
   "execution_count": 17,
   "id": "f63a11ef",
   "metadata": {},
   "outputs": [],
   "source": [
    "MRPPredictionConstituenciesQuery = MRPPredictionConstituenciesQuery.replace(\"<MRPPredictionID>\",MRPPredictionID)\n",
    "MRPConstituencies_df = pd.read_sql(MRPPredictionConstituenciesQuery,conn)\n",
    "Constituencies_df = Constituencies_df.merge(MRPConstituencies_df, how='left', on='Constituency')"
   ]
  },
  {
   "cell_type": "code",
   "execution_count": 18,
   "id": "84f1783f",
   "metadata": {},
   "outputs": [],
   "source": [
    "PredictionSeatsTimeseriesQuery = \"\"\"SELECT epm.ElectionPredictionDate, epo.Constituencies AS '<Party>' FROM ElectionPredictionOverall AS epo\n",
    "INNER JOIN ElectionPredictionMeta AS epm ON epm.ElectionPredictionID = epo.ElectionPredictionID\n",
    "WHERE epo.Party = '<Party>' AND epm.ElectionAnalysisAlgorithm LIKE '%Core%'\n",
    "ORDER BY epm.ElectionPredictionDate DESC\"\"\""
   ]
  },
  {
   "cell_type": "code",
   "execution_count": 19,
   "id": "333ee68f",
   "metadata": {},
   "outputs": [],
   "source": [
    "MRPPredictionSeatsTimeseriesQuery = \"\"\"SELECT epm.ElectionPredictionDate, epo.Constituencies AS 'MRP <Party>' FROM ElectionPredictionOverall AS epo\n",
    "INNER JOIN ElectionPredictionMeta AS epm ON epm.ElectionPredictionID = epo.ElectionPredictionID\n",
    "WHERE epo.Party = '<Party>' AND epm.ElectionAnalysisAlgorithm LIKE '%MRP%'\n",
    "ORDER BY epm.ElectionPredictionDate DESC\"\"\""
   ]
  },
  {
   "cell_type": "code",
   "execution_count": 20,
   "id": "af48ccdb",
   "metadata": {},
   "outputs": [],
   "source": [
    "PredictionShareTimeseriesQuery = \"\"\"SELECT epm.ElectionPredictionDate, epo.VoteShare*100 AS '<Party>' FROM ElectionPredictionOverall AS epo\n",
    "INNER JOIN ElectionPredictionMeta AS epm ON epm.ElectionPredictionID = epo.ElectionPredictionID\n",
    "WHERE epo.Party = '<Party>' AND epm.ElectionAnalysisAlgorithm LIKE '%Core%'\n",
    "ORDER BY epm.ElectionPredictionDate DESC\"\"\""
   ]
  },
  {
   "cell_type": "code",
   "execution_count": 21,
   "id": "1d52b5ba",
   "metadata": {},
   "outputs": [],
   "source": [
    "MRPPredictionShareTimeseriesQuery = \"\"\"SELECT epm.ElectionPredictionDate, epo.VoteShare*100 AS 'MRP <Party>' FROM ElectionPredictionOverall AS epo\n",
    "INNER JOIN ElectionPredictionMeta AS epm ON epm.ElectionPredictionID = epo.ElectionPredictionID\n",
    "WHERE epo.Party = '<Party>' AND epm.ElectionAnalysisAlgorithm LIKE '%MRP%'\n",
    "ORDER BY epm.ElectionPredictionDate DESC\"\"\""
   ]
  },
  {
   "cell_type": "code",
   "execution_count": 22,
   "id": "14fa915b",
   "metadata": {},
   "outputs": [],
   "source": [
    "# Create the SeatsTimeseries_df and ShareTimeseries_df\n",
    "\n",
    "# Create initial Timeseries_df just from the list of dates\n",
    "SeatsTimeseries_df = pd.read_sql(\"SELECT ElectionPredictionDate FROM ElectionPredictionMeta WHERE ElectionAnalysisAlgorithm LIKE '%Core%' ORDER BY ElectionPredictionDate DESC\",conn)\n",
    "ShareTimeseries_df = SeatsTimeseries_df.copy()\n",
    "\n",
    "for CurrentParty in GBPartiesList:\n",
    "    PredictionSeatsTimeseriesQueryParty = PredictionSeatsTimeseriesQuery.replace('<Party>',CurrentParty)\n",
    "    MergeSeatsTimeSeries_df = pd.read_sql(PredictionSeatsTimeseriesQueryParty,conn)\n",
    "    SeatsTimeseries_df = SeatsTimeseries_df.merge(MergeSeatsTimeSeries_df, how='left', on='ElectionPredictionDate')\n",
    "    \n",
    "    PredictionShareTimeseriesQueryParty = PredictionShareTimeseriesQuery.replace('<Party>',CurrentParty)\n",
    "    MergeShareTimeSeries_df = pd.read_sql(PredictionShareTimeseriesQueryParty,conn)\n",
    "    ShareTimeseries_df = ShareTimeseries_df.merge(MergeShareTimeSeries_df, how='left', on='ElectionPredictionDate')\n",
    "    \n",
    "ShareTimeseries_df['Con to Lab Swing'] = ((ShareTimeseries_df['Lab'] - 32.0766315637172) - (ShareTimeseries_df['Con'] - 43.6089495387957))/2\n",
    "\n",
    "SeatsTimeseries_df['Lab Majority'] = (SeatsTimeseries_df['Lab'] - 325) * 2"
   ]
  },
  {
   "cell_type": "code",
   "execution_count": 23,
   "id": "09c9fb0c",
   "metadata": {},
   "outputs": [],
   "source": [
    "# Create the MRP SeatsTimeseries_df and ShareTimeseries_df\n",
    "\n",
    "# Create initial Timeseries_df just from the list of dates\n",
    "MRPSeatsTimeseries_df = pd.read_sql(\"SELECT ElectionPredictionDate FROM ElectionPredictionMeta WHERE ElectionAnalysisAlgorithm LIKE '%MRP%' ORDER BY ElectionPredictionDate DESC\",conn)\n",
    "MRPShareTimeseries_df = MRPSeatsTimeseries_df.copy()\n",
    "\n",
    "for CurrentParty in GBPartiesList:\n",
    "    MRPPredictionSeatsTimeseriesQueryParty = MRPPredictionSeatsTimeseriesQuery.replace('<Party>',CurrentParty)\n",
    "    MRPMergeSeatsTimeSeries_df = pd.read_sql(MRPPredictionSeatsTimeseriesQueryParty,conn)\n",
    "    MRPSeatsTimeseries_df = MRPSeatsTimeseries_df.merge(MRPMergeSeatsTimeSeries_df, how='left', on='ElectionPredictionDate')\n",
    "    \n",
    "    MRPPredictionShareTimeseriesQueryParty = MRPPredictionShareTimeseriesQuery.replace('<Party>',CurrentParty)\n",
    "    MRPMergeShareTimeSeries_df = pd.read_sql(MRPPredictionShareTimeseriesQueryParty,conn)\n",
    "    MRPShareTimeseries_df = MRPShareTimeseries_df.merge(MRPMergeShareTimeSeries_df, how='left', on='ElectionPredictionDate')\n",
    "    \n",
    "MRPShareTimeseries_df['MRP Con to Lab Swing'] = ((MRPShareTimeseries_df['MRP Lab'] - 32.0766315637172) - (MRPShareTimeseries_df['MRP Con'] - 43.6089495387957))/2\n",
    "\n",
    "MRPSeatsTimeseries_df['MRP Lab Majority'] = (MRPSeatsTimeseries_df['MRP Lab'] - 325) * 2"
   ]
  },
  {
   "cell_type": "code",
   "execution_count": 24,
   "id": "aaadbcdf",
   "metadata": {},
   "outputs": [],
   "source": [
    "ShareTimeseries_df = ShareTimeseries_df.merge(MRPShareTimeseries_df, how='left', on='ElectionPredictionDate')\n",
    "SeatsTimeseries_df = SeatsTimeseries_df.merge(MRPSeatsTimeseries_df, how='left', on='ElectionPredictionDate')"
   ]
  },
  {
   "cell_type": "code",
   "execution_count": 25,
   "id": "905c4913",
   "metadata": {},
   "outputs": [],
   "source": [
    "UKShareQuery = \"\"\"SELECT can.Party,\n",
    "CAST(SUM(epcan.VoteShare)*100 AS FLOAT) / SUM(SUM(epcan.VoteShare)) OVER() AS 'VoteShare'\n",
    "FROM ElectionPredictionCandidates AS epcan\n",
    "INNER JOIN Candidates AS can ON can.CandidateID = epcan.CandidateID\n",
    "INNER JOIN Constituencies AS con ON con.ConstituencyName = can.Constituency\n",
    "WHERE ElectionPredictionID = '<ElectionPredictionID>'\n",
    "GROUP BY can.Party\n",
    "ORDER BY can.Party\"\"\"\n",
    "\n",
    "UKShareQuery = UKShareQuery.replace('<ElectionPredictionID>',PredictionID)"
   ]
  },
  {
   "cell_type": "code",
   "execution_count": 26,
   "id": "d58c630e",
   "metadata": {},
   "outputs": [],
   "source": [
    "UKSeatsQuery = \"\"\"SELECT par.PartyAbbreviation,\n",
    "Count(epcon.WinningParty) AS 'Seats'\n",
    "FROM Parties AS par\n",
    "LEFT JOIN ElectionPredictionConstituencies AS epcon ON par.PartyAbbreviation = epcon.WinningParty\n",
    "AND epcon.ElectionPredictionID = '<ElectionPredictionID>'\n",
    "GROUP BY par.PartyAbbreviation\n",
    "ORDER BY par.PartyAbbreviation\"\"\"\n",
    "\n",
    "UKSeatsQuery = UKSeatsQuery.replace('<ElectionPredictionID>',PredictionID)"
   ]
  },
  {
   "cell_type": "code",
   "execution_count": 27,
   "id": "8443bfa9",
   "metadata": {},
   "outputs": [],
   "source": [
    "GBShareQuery = \"\"\"SELECT can.Party,\n",
    "CAST(SUM(epcan.VoteShare)*100 AS FLOAT) / SUM(SUM(epcan.VoteShare)) OVER() AS 'VoteShare'\n",
    "FROM ElectionPredictionCandidates AS epcan\n",
    "INNER JOIN Candidates AS can ON can.CandidateID = epcan.CandidateID\n",
    "INNER JOIN Constituencies AS con ON con.ConstituencyName = can.Constituency\n",
    "WHERE ElectionPredictionID  = '<ElectionPredictionID>'\n",
    "AND con.ITL1Region != 'Northern Ireland'\n",
    "GROUP BY can.Party\n",
    "ORDER BY can.Party\"\"\"\n",
    "\n",
    "GBShareQuery = GBShareQuery.replace('<ElectionPredictionID>',PredictionID)"
   ]
  },
  {
   "cell_type": "code",
   "execution_count": 28,
   "id": "29771560",
   "metadata": {},
   "outputs": [],
   "source": [
    "GBSeatsQuery = \"\"\"SELECT par.PartyAbbreviation AS Party,\n",
    "Count(epcon.WinningParty) AS 'Seats'\n",
    "FROM ElectionPredictionConstituencies AS epcon\n",
    "INNER JOIN Parties AS par ON par.PartyAbbreviation = epcon.WinningParty\n",
    "INNER JOIN Constituencies AS con ON con.ConstituencyName = epcon.Constituency\n",
    "WHERE con.ITL1Region != 'Northern Ireland' AND epcon.ElectionPredictionID = '<ElectionPredictionID>'\n",
    "GROUP BY par.PartyAbbreviation\n",
    "ORDER BY par.PartyAbbreviation\"\"\"\n",
    "\n",
    "GBSeatsQuery = GBSeatsQuery.replace('<ElectionPredictionID>',PredictionID)"
   ]
  },
  {
   "cell_type": "code",
   "execution_count": 29,
   "id": "af4e00b4",
   "metadata": {},
   "outputs": [],
   "source": [
    "RegionalShareQuery = \"\"\"SELECT can.Party,\n",
    "CAST(SUM(epcan.VoteShare)*100 AS FLOAT) / SUM(SUM(epcan.VoteShare)) OVER() AS 'VoteShare'\n",
    "FROM ElectionPredictionCandidates AS epcan\n",
    "INNER JOIN Candidates AS can ON can.CandidateID = epcan.CandidateID\n",
    "INNER JOIN Constituencies AS con ON con.ConstituencyName = can.Constituency\n",
    "WHERE con.ITL1Region = '<Region>' AND ElectionPredictionID = '<ElectionPredictionID>'\n",
    "GROUP BY con.ITL1Region, can.Party\n",
    "ORDER BY can.Party\"\"\"\n",
    "\n",
    "RegionalShareQuery = RegionalShareQuery.replace('<ElectionPredictionID>',PredictionID)"
   ]
  },
  {
   "cell_type": "code",
   "execution_count": 30,
   "id": "ed740843",
   "metadata": {},
   "outputs": [],
   "source": [
    "RegionalSeatsQuery = \"\"\"SELECT par.PartyAbbreviation AS Party,\n",
    "Count(epcon.WinningParty) AS 'Seats'\n",
    "FROM ElectionPredictionConstituencies AS epcon\n",
    "INNER JOIN Parties AS par ON par.PartyAbbreviation = epcon.WinningParty\n",
    "INNER JOIN Constituencies AS con ON con.ConstituencyName = epcon.Constituency\n",
    "WHERE con.ITL1Region = '<Region>' AND epcon.ElectionPredictionID = '<ElectionPredictionID>'\n",
    "GROUP BY par.PartyAbbreviation\n",
    "ORDER BY par.PartyAbbreviation\"\"\"\n",
    "\n",
    "RegionalSeatsQuery = RegionalSeatsQuery.replace('<ElectionPredictionID>',PredictionID)"
   ]
  },
  {
   "cell_type": "code",
   "execution_count": 31,
   "id": "2df7a500",
   "metadata": {},
   "outputs": [],
   "source": [
    "UKSharePreT_df = pd.read_sql(UKShareQuery,conn)\n",
    "UKShareList = UKSharePreT_df['VoteShare'].tolist()\n",
    "\n",
    "UKSharePre_df = pd.DataFrame([UKShareList], columns=AllPartiesList)\n",
    "UKShare_df = pd.DataFrame(columns=UKPartiesList)\n",
    "\n",
    "UKShare_df = pd.concat([UKShare_df,UKSharePre_df],axis=0)\n",
    "UKShare_df['Region'] = 'UK'"
   ]
  },
  {
   "cell_type": "code",
   "execution_count": 32,
   "id": "40896fa5",
   "metadata": {},
   "outputs": [],
   "source": [
    "UKSeatsPreT_df = pd.read_sql(UKSeatsQuery,conn)\n",
    "UKSeatsList = UKSeatsPreT_df['Seats'].tolist()\n",
    "\n",
    "UKSeatsPre_df = pd.DataFrame([UKSeatsList], columns=AllPartiesList)\n",
    "UKSeats_df = pd.DataFrame(columns=UKPartiesList)\n",
    "\n",
    "UKSeats_df = pd.concat([UKSeats_df,UKSeatsPre_df],axis=0)\n",
    "UKSeats_df['Region'] = 'UK'"
   ]
  },
  {
   "cell_type": "code",
   "execution_count": 33,
   "id": "f192e0f8",
   "metadata": {},
   "outputs": [],
   "source": [
    "# Create GB share data\n",
    "GBSharePreT_df = pd.read_sql(GBShareQuery,conn)\n",
    "GBShareList = GBSharePreT_df['VoteShare'].tolist()\n",
    "GBQueryPartiesList = GBSharePreT_df['Party'].tolist()\n",
    "\n",
    "GBSharePre_df = pd.DataFrame([GBShareList], columns=GBQueryPartiesList)\n",
    "GBShare_df = pd.DataFrame(columns=GBPartiesList)\n",
    "\n",
    "GBShare_df = pd.concat([GBShare_df,GBSharePre_df],axis=0)\n",
    "GBShare_df['Region'] = 'GB'"
   ]
  },
  {
   "cell_type": "code",
   "execution_count": 34,
   "id": "7f3d1241",
   "metadata": {
    "scrolled": true
   },
   "outputs": [],
   "source": [
    "# Create GB seats data\n",
    "GBSeatsPreT_df = pd.read_sql(GBSeatsQuery,conn)\n",
    "GBSeatsList = GBSeatsPreT_df['Seats'].tolist()\n",
    "GBQueryPartiesList = GBSeatsPreT_df['Party'].tolist()\n",
    "\n",
    "GBSeatsPre_df = pd.DataFrame([GBSeatsList], columns=GBQueryPartiesList)\n",
    "GBSeats_df = pd.DataFrame(columns=GBPartiesList)\n",
    "\n",
    "GBSeats_df = pd.concat([GBSeats_df,GBSeatsPre_df],axis=0)\n",
    "GBSeats_df['Region'] = 'GB'"
   ]
  },
  {
   "cell_type": "code",
   "execution_count": 35,
   "id": "71440cac",
   "metadata": {},
   "outputs": [],
   "source": [
    "# Now cycle through every ITL1 region to get the vote shares\n",
    "\n",
    "#Create new df\n",
    "UKShare_df = pd.concat([UKShare_df,GBShare_df],axis=0)\n",
    "UKSeats_df = pd.concat([UKSeats_df,GBSeats_df],axis=0)\n",
    "\n",
    "AllRegionShare_df = UKShare_df.copy()\n",
    "AllRegionSeats_df = UKSeats_df.copy()\n",
    "\n",
    "for CurrentRegion in ITL1RegionList:\n",
    "    RegionalShareQueryReplaced = RegionalShareQuery.replace('<Region>',CurrentRegion)\n",
    "    RegionalSharePreT_df = pd.read_sql(RegionalShareQueryReplaced,conn)\n",
    "    RegionalSharePartiesList = RegionalSharePreT_df['Party'].tolist()\n",
    "    RegionalShareSharesList = RegionalSharePreT_df['VoteShare'].tolist()\n",
    "    RegionalShare_df = pd.DataFrame([RegionalShareSharesList],columns=RegionalSharePartiesList)\n",
    "    RegionalShare_df['Region'] = CurrentRegion\n",
    "    AllRegionShare_df = pd.concat([AllRegionShare_df,RegionalShare_df],axis=0)\n",
    "    \n",
    "    RegionalSeatsQueryReplaced = RegionalSeatsQuery.replace('<Region>',CurrentRegion)\n",
    "    RegionalSeatsPreT_df = pd.read_sql(RegionalSeatsQueryReplaced,conn)\n",
    "    RegionalSeatsPartiesList = RegionalSeatsPreT_df['Party'].tolist()\n",
    "    RegionalSeatsSeatssList = RegionalSeatsPreT_df['Seats'].tolist()\n",
    "    RegionalSeats_df = pd.DataFrame([RegionalSeatsSeatssList],columns=RegionalSeatsPartiesList)\n",
    "    RegionalSeats_df['Region'] = CurrentRegion\n",
    "    AllRegionSeats_df = pd.concat([AllRegionSeats_df,RegionalSeats_df],axis=0)\n",
    "\n",
    "AllRegionShare_df.reset_index(drop=True,inplace=True)\n",
    "AllRegionShare_df = AllRegionShare_df.fillna(0)\n",
    "\n",
    "AllRegionSeats_df.reset_index(drop=True,inplace=True)\n",
    "AllRegionSeats_df = AllRegionSeats_df.fillna(0)"
   ]
  },
  {
   "cell_type": "code",
   "execution_count": 36,
   "id": "cececf27",
   "metadata": {
    "scrolled": true
   },
   "outputs": [],
   "source": [
    "# Determine the swings between different parties\n",
    "filename = \"C:\\\\Users\\\\danmu\\\\Documents\\\\Elections\\\\2024_Python\\\\Flourish_Historical.xlsx\"\n",
    "HistoricalRegionShare_df = pd.read_excel(filename, sheet_name='Share')\n",
    "\n",
    "AllSwings_df = AllRegionShare_df.merge(HistoricalRegionShare_df, how='left', on='Region')\n",
    "AllSwings_df['Con To Lab Swing'] = ((AllSwings_df['Lab_x']-AllSwings_df['Lab_y'])-(AllSwings_df['Con_x']-AllSwings_df['Con_y']))/2\n",
    "AllSwings_df['Con To Reform Swing'] = ((AllSwings_df['Reform_x']-AllSwings_df['Reform_y'])-(AllSwings_df['Con_x']-AllSwings_df['Con_y']))/2\n",
    "AllSwings_df['Con To LD Swing'] = ((AllSwings_df['LD_x']-AllSwings_df['LD_y'])-(AllSwings_df['Con_x']-AllSwings_df['Con_y']))/2\n",
    "AllSwings_df['SNP To Lab Swing'] = ((AllSwings_df['Lab_x']-AllSwings_df['Lab_y'])-(AllSwings_df['SNP_x']-AllSwings_df['SNP_y']))/2\n",
    "\n",
    "ConToLabSwingPreT_df = AllSwings_df[['Region','Con To Lab Swing']].copy()\n",
    "ConToLabSwingPreT_df.set_index('Region',inplace=True)\n",
    "ConToLabSwing_df = ConToLabSwingPreT_df.transpose()\n",
    "\n",
    "ConToLDSwingPreT_df = AllSwings_df[['Region','Con To LD Swing']].copy()\n",
    "ConToLDSwingPreT_df.set_index('Region',inplace=True)\n",
    "ConToLDSwing_df = ConToLDSwingPreT_df.transpose()\n",
    "\n",
    "ConToReformSwingPreT_df = AllSwings_df[['Region','Con To Reform Swing']].copy()\n",
    "ConToReformSwingPreT_df.set_index('Region',inplace=True)\n",
    "ConToReformSwing_df = ConToReformSwingPreT_df.transpose()"
   ]
  },
  {
   "cell_type": "code",
   "execution_count": 37,
   "id": "ed153833",
   "metadata": {
    "scrolled": true
   },
   "outputs": [
    {
     "data": {
      "text/plain": [
       "SNP To Lab Swing    14.223738\n",
       "Name: Scotland, dtype: float64"
      ]
     },
     "execution_count": 37,
     "metadata": {},
     "output_type": "execute_result"
    }
   ],
   "source": [
    "SNPToLabSwingPreT_df = AllSwings_df[['Region','SNP To Lab Swing']].copy()\n",
    "SNPToLabSwingPreT_df.set_index('Region',inplace=True)\n",
    "SNPToLabSwing_df = SNPToLabSwingPreT_df.transpose()\n",
    "SNPToLabSwing_df = SNPToLabSwing_df['Scotland'].copy()\n",
    "SNPToLabSwing_df "
   ]
  },
  {
   "cell_type": "code",
   "execution_count": 38,
   "id": "f63b5111",
   "metadata": {},
   "outputs": [],
   "source": [
    "ConLabBatQuery = \"\"\"SELECT con.ConstituencyName AS 'Constituency', con.ITL1Region, con.MajorityShare, epc.WinningParty AS 'Winning Party' FROM Constituencies AS con\n",
    "INNER JOIN ElectionPredictionConstituencies AS epc ON epc.Constituency = con.ConstituencyName\n",
    "WHERE epc.ElectionPredictionID = '<ElectionPredictionID>'\n",
    "AND con.FirstParty = 'Con' AND con.SecondParty = 'Lab'\n",
    "ORDER BY con.MajorityShare ASC\"\"\"\n",
    "\n",
    "ConLabBatQuery = ConLabBatQuery.replace('<ElectionPredictionID>',PredictionID)"
   ]
  },
  {
   "cell_type": "code",
   "execution_count": 39,
   "id": "b1b6d3ec",
   "metadata": {},
   "outputs": [],
   "source": [
    "ConLDBatQuery = \"\"\"SELECT con.ConstituencyName AS 'Constituency', con.ITL1Region, con.MajorityShare, epc.WinningParty AS 'Winning Party' FROM Constituencies AS con\n",
    "INNER JOIN ElectionPredictionConstituencies AS epc ON epc.Constituency = con.ConstituencyName\n",
    "WHERE epc.ElectionPredictionID = '<ElectionPredictionID>'\n",
    "AND con.FirstParty = 'Con' AND con.SecondParty = 'LD'\n",
    "ORDER BY con.MajorityShare ASC\"\"\"\n",
    "\n",
    "ConLDBatQuery = ConLDBatQuery.replace('<ElectionPredictionID>',PredictionID)"
   ]
  },
  {
   "cell_type": "code",
   "execution_count": 40,
   "id": "df254799",
   "metadata": {},
   "outputs": [],
   "source": [
    "SNPBatQuery = \"\"\"SELECT con.ConstituencyName AS 'Constituency', rc.RegionName AS 'Scotland Region', con.MajorityShare, epc.WinningParty AS 'Winning Party' FROM Constituencies AS con\n",
    "INNER JOIN ElectionPredictionConstituencies AS epc ON epc.Constituency = con.ConstituencyName\n",
    "INNER JOIN RegionConstituencies AS RC ON rc.ConstituencyName = con.ConstituencyName\n",
    "INNER JOIN Regions ON Regions.RegionName = rc.RegionName\n",
    "INNER JOIN RegionRegionTypes AS rrt ON rrt.RegionName = Regions.RegionName\n",
    "WHERE rrt.RegionType = 'ScotlandRegion'\n",
    "AND epc.ElectionPredictionID = '<ElectionPredictionID>'\n",
    "AND con.FirstParty = 'SNP'\n",
    "ORDER BY con.MajorityShare ASC\"\"\"\n",
    "\n",
    "SNPBatQuery = SNPBatQuery.replace('<ElectionPredictionID>',PredictionID)"
   ]
  },
  {
   "cell_type": "code",
   "execution_count": 41,
   "id": "28180c95",
   "metadata": {},
   "outputs": [],
   "source": [
    "ConLabBat_df = pd.read_sql(ConLabBatQuery,conn)\n",
    "ConLabBat_df['RequiredSwing'] = ConLabBat_df['MajorityShare']*50\n",
    "ConLabBat_df['X-Value'] = ConLabBat_df['RequiredSwing'].apply(np.floor)\n",
    "ConLabBat_df['Y-Value'] = ConLabBattlegroundYList\n",
    "ConLabBat_df.sort_values(by=['ITL1Region'],inplace=True)"
   ]
  },
  {
   "cell_type": "code",
   "execution_count": 42,
   "id": "a811fa6b",
   "metadata": {},
   "outputs": [],
   "source": [
    "ConLDBat_df = pd.read_sql(ConLDBatQuery,conn)\n",
    "ConLDBat_df['RequiredSwing'] = ConLDBat_df['MajorityShare']*50\n",
    "ConLDBat_df['X-Value'] = ConLDBat_df['RequiredSwing'].apply(np.floor)\n",
    "ConLDBat_df['Y-Value'] = ConLDBattlegroundYList\n",
    "ConLDBat_df.sort_values(by=['ITL1Region'],inplace=True)"
   ]
  },
  {
   "cell_type": "code",
   "execution_count": 43,
   "id": "a8a7d1d8",
   "metadata": {},
   "outputs": [],
   "source": [
    "SNPBat_df = pd.read_sql(SNPBatQuery,conn)\n",
    "SNPBat_df['RequiredSwing'] = SNPBat_df['MajorityShare']*50\n",
    "SNPBat_df['X-Value'] = SNPBat_df['RequiredSwing'].apply(np.floor)\n",
    "SNPBat_df['Y-Value'] = SNPBattlegroundYList\n",
    "SNPBat_df.sort_values(by=['Scotland Region'],inplace=True)"
   ]
  },
  {
   "cell_type": "code",
   "execution_count": 44,
   "id": "d9eeda45",
   "metadata": {},
   "outputs": [],
   "source": [
    "CoreOverallQueryRaw = \"\"\"SELECT Party, Constituencies AS 'Seats', VoteShare*100 AS 'Share' FROM ElectionPredictionOverall\n",
    "WHERE ElectionPredictionID = '<PredictionID>'\n",
    "ORDER BY Constituencies DESC\"\"\"\n",
    "\n",
    "CoreOverallQuery = CoreOverallQueryRaw.replace('<PredictionID>',PredictionID)"
   ]
  },
  {
   "cell_type": "code",
   "execution_count": 45,
   "id": "5c42f7cd",
   "metadata": {},
   "outputs": [],
   "source": [
    "MRPOverallQueryRaw = \"\"\"SELECT Party, Constituencies AS 'MRP Seats', VoteShare*100 AS 'MRP Share' FROM ElectionPredictionOverall\n",
    "WHERE ElectionPredictionID = '<MRPPredictionID>'\n",
    "ORDER BY Constituencies DESC\"\"\"\n",
    "\n",
    "MRPOverallQuery = MRPOverallQueryRaw.replace('<MRPPredictionID>',MRPPredictionID)"
   ]
  },
  {
   "cell_type": "code",
   "execution_count": 46,
   "id": "3545e37e",
   "metadata": {},
   "outputs": [],
   "source": [
    "CoreOverall_df = pd.read_sql(CoreOverallQuery,conn)\n",
    "MRPOverall_df = pd.read_sql(MRPOverallQuery,conn)\n",
    "OverallTable_df = CoreOverall_df.merge(MRPOverall_df, how='left', on='Party')\n",
    "OverallTable_df['Seats Delta'] = OverallTable_df['Seats'] - OverallTable_df['MRP Seats']\n",
    "OverallTable_df['Share Delta'] = OverallTable_df['Share'] - OverallTable_df['MRP Share']"
   ]
  },
  {
   "cell_type": "code",
   "execution_count": 47,
   "id": "b75db6da",
   "metadata": {},
   "outputs": [],
   "source": [
    "AllConstTable_df = Constituencies_df[['Constituency','2019 Winner (Notional)','Winning Party','MRP Winning Party']].copy()\n",
    "AllConstTable_df.rename(columns={\"2019 Winner (Notional)\": \"Previous Winner\"})\n",
    "AllConstTable_df.sort_values(by=['Constituency'],inplace=True)"
   ]
  },
  {
   "cell_type": "code",
   "execution_count": 48,
   "id": "b886c6db",
   "metadata": {},
   "outputs": [],
   "source": [
    "with pd.ExcelWriter(r'C:\\Users\\danmu\\Documents\\Elections\\2024_Python\\Flourish_Export.xlsx') as writer:  \n",
    "    OverallTable_df.to_excel(writer, sheet_name='Overall',index=False)\n",
    "    Candidates_df.to_excel(writer, sheet_name='Candidates',index=False)\n",
    "    Constituencies_df.to_excel(writer, sheet_name='Constituencies',index=False)\n",
    "    SeatsTimeseries_df.to_excel(writer, sheet_name='SeatsTimeseries',index=False)\n",
    "    ShareTimeseries_df.to_excel(writer, sheet_name='ShareTimeseries',index=False)\n",
    "    AllRegionShare_df.to_excel(writer, sheet_name='Share',index=False)\n",
    "    AllRegionSeats_df.to_excel(writer, sheet_name='Seats',index=False)\n",
    "    LatestPrediction_df.to_excel(writer, sheet_name='LatestPrediction',index=False)\n",
    "    ConToLabSwing_df.to_excel(writer, sheet_name='ConToLabSwing',index=True)\n",
    "    ConToLDSwing_df.to_excel(writer, sheet_name='ConToLDSwing',index=True)\n",
    "    ConToReformSwing_df.to_excel(writer, sheet_name='ConToReformSwing',index=True)\n",
    "    SNPToLabSwing_df.to_excel(writer, sheet_name='SNPtoLabSwing',index=True)\n",
    "    ConLabBat_df.to_excel(writer, sheet_name='ConLabBat',index=True)\n",
    "    ConLDBat_df.to_excel(writer, sheet_name='ConLDBat',index=True)\n",
    "    SNPBat_df.to_excel(writer, sheet_name='SNPBat',index=True)\n",
    "    AllConstTable_df.to_excel(writer, sheet_name='AllConstTable',index=True)"
   ]
  },
  {
   "cell_type": "code",
   "execution_count": 49,
   "id": "c2add402",
   "metadata": {},
   "outputs": [],
   "source": [
    "#Close the connection with the database\n",
    "conn.close()"
   ]
  }
 ],
 "metadata": {
  "kernelspec": {
   "display_name": "Python 3 (ipykernel)",
   "language": "python",
   "name": "python3"
  },
  "language_info": {
   "codemirror_mode": {
    "name": "ipython",
    "version": 3
   },
   "file_extension": ".py",
   "mimetype": "text/x-python",
   "name": "python",
   "nbconvert_exporter": "python",
   "pygments_lexer": "ipython3",
   "version": "3.9.12"
  }
 },
 "nbformat": 4,
 "nbformat_minor": 5
}
