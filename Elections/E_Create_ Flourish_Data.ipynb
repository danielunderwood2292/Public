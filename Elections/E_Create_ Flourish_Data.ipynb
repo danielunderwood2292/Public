{
 "cells": [
  {
   "cell_type": "markdown",
   "id": "756bfcb9",
   "metadata": {},
   "source": [
    "Jupyter notebook for updating an Excel spreadsheet used to contain the data for the Flourish data visualisation of the model output"
   ]
  },
  {
   "cell_type": "code",
   "execution_count": 1,
   "id": "76f9782b",
   "metadata": {},
   "outputs": [],
   "source": [
    "# Import required modules\n",
    "import pandas as pd\n",
    "import datetime\n",
    "import ipywidgets as widgets\n",
    "import numpy as np\n",
    "\n",
    "#Modules required for database access\n",
    "import pyodbc\n",
    "import sqlalchemy\n",
    "from sqlalchemy import create_engine\n",
    "import urllib"
   ]
  },
  {
   "cell_type": "code",
   "execution_count": 2,
   "id": "9b58c6f7",
   "metadata": {},
   "outputs": [],
   "source": [
    "#Connect to database 'UK_General_Election' using SQlAlchemy\n",
    "connection_str = \"DRIVER={SQL SERVER};SERVER=DANZPOOTA;DATABASE=UK_General_Election;TRUSTED_CONNECTION=YES\"\n",
    "params = urllib.parse.quote_plus(connection_str)\n",
    "engine = create_engine('mssql+pyodbc:///?odbc_connect=%s' % params)\n",
    "conn = engine.connect()"
   ]
  },
  {
   "cell_type": "code",
   "execution_count": 3,
   "id": "5cb57090",
   "metadata": {},
   "outputs": [],
   "source": [
    "# Parties lists\n",
    "AllPartiesList = [i[0] for i in engine.execute(\"select PartyAbbreviation from Parties\")]\n",
    "GBPartiesList = ['Lab','Con','LD','Reform','Green','SNP','PC','Other']\n",
    "GBPartiesAtoZList = ['Con','Green','Lab','LD','Other','PC','Reform','SNP']\n",
    "UKPartiesList = ['Lab','Con','LD','Reform','Green','SNP','PC','DUP','SF','SDLP','APNI','UUP','Other']"
   ]
  },
  {
   "cell_type": "code",
   "execution_count": 4,
   "id": "33218f62",
   "metadata": {},
   "outputs": [],
   "source": [
    "# Regions lists\n",
    "ITL1RegionList = [i[0] for i in engine.execute(\"SELECT RegionName FROM RegionRegionTypes WHERE RegionType = 'ITL1Region'\")]\n",
    "GBRegionsList = ['East England', 'East Midlands', 'London', 'North East England', 'North West England', 'Scotland', 'South East England', 'South West England', 'Wales', 'West Midlands', 'Yorkshire and The Humber']"
   ]
  },
  {
   "cell_type": "code",
   "execution_count": 5,
   "id": "996d03c3",
   "metadata": {},
   "outputs": [],
   "source": [
    "# Determine when the latest prediction was (date) and its ID in the database\n",
    "LatestPredictionDataQuery = \"SELECT TOP(1) ElectionPredictionDate, ElectionPredictionID FROM ElectionPredictionMeta ORDER BY ElectionPredictionDate DESC\"\n",
    "LatestPrediction_df = pd.read_sql(LatestPredictionDataQuery,conn)\n",
    "PredictionDate = LatestPrediction_df.loc[0,'ElectionPredictionDate']\n",
    "PredictionID = LatestPrediction_df.loc[0,'ElectionPredictionID']"
   ]
  },
  {
   "cell_type": "code",
   "execution_count": 6,
   "id": "448c135b",
   "metadata": {},
   "outputs": [],
   "source": [
    "PredictionCandidatesQuery = \"\"\"SELECT con.ONSID, can.Constituency, Can.Party, epc.VoteShare*100 AS 'Predicted Share', epc.VoteShare*100-can.PreviousShare*100 As 'Change', can.PreviousShare*100 AS 'Previous Share' FROM ElectionPredictionCandidates AS epc\n",
    "INNER JOIN Candidates AS can ON can.CandidateID = epc.CandidateID\n",
    "INNER JOIN Constituencies AS con ON con.ConstituencyName = can.Constituency\n",
    "WHERE ElectionPredictionID = '<PredictionID>'\n",
    "ORDER BY can.Constituency ASC, epc.VoteShare DESC\"\"\""
   ]
  },
  {
   "cell_type": "code",
   "execution_count": 7,
   "id": "6131d7fb",
   "metadata": {},
   "outputs": [],
   "source": [
    "PredictionConstituenciesQuery = \"\"\"SELECT con.ONSID, epc.Constituency, epc.GAIN AS 'Gains', epc.LOSS AS 'Losses', epc.WinningParty AS 'Winning Party', epc.SecondParty AS 'Second Party',\n",
    "epc.VoteShare*100 AS 'Winning Vote Share', epc.Majority*100 As 'Majority', epc.PreviousWinner As '2019 Winner (Nominal)', epc.Swing*100 As 'Swing'\n",
    "FROM ElectionPredictionConstituencies AS epc\n",
    "INNER JOIN Constituencies AS con ON con.ConstituencyName = epc.Constituency\n",
    "WHERE ElectionPredictionID = '<PredictionID>'\"\"\""
   ]
  },
  {
   "cell_type": "code",
   "execution_count": 8,
   "id": "ea4f7253",
   "metadata": {},
   "outputs": [],
   "source": [
    "PredictionCandidatesQuery = PredictionCandidatesQuery.replace(\"<PredictionID>\",PredictionID)\n",
    "PredictionConstituenciesQuery = PredictionConstituenciesQuery.replace(\"<PredictionID>\",PredictionID)"
   ]
  },
  {
   "cell_type": "code",
   "execution_count": 9,
   "id": "84f1783f",
   "metadata": {},
   "outputs": [],
   "source": [
    "PredictionSeatsTimeseriesQuery = \"\"\"SELECT epm.ElectionPredictionDate, epo.Constituencies AS '<Party>' FROM ElectionPredictionOverall AS epo\n",
    "INNER JOIN ElectionPredictionMeta AS epm ON epm.ElectionPredictionID = epo.ElectionPredictionID\n",
    "WHERE epo.Party = '<Party>'\n",
    "ORDER BY epm.ElectionPredictionDate DESC\"\"\""
   ]
  },
  {
   "cell_type": "code",
   "execution_count": 10,
   "id": "af48ccdb",
   "metadata": {},
   "outputs": [],
   "source": [
    "PredictionShareTimeseriesQuery = \"\"\"SELECT epm.ElectionPredictionDate, epo.VoteShare*100 AS '<Party>' FROM ElectionPredictionOverall AS epo\n",
    "INNER JOIN ElectionPredictionMeta AS epm ON epm.ElectionPredictionID = epo.ElectionPredictionID\n",
    "WHERE epo.Party = '<Party>'\n",
    "ORDER BY epm.ElectionPredictionDate DESC\"\"\""
   ]
  },
  {
   "cell_type": "code",
   "execution_count": 11,
   "id": "14fa915b",
   "metadata": {},
   "outputs": [],
   "source": [
    "# Create the SeatsTimeseries_df and ShareTimeseries_df\n",
    "\n",
    "# Create initial Timeseries_df just from the list of dates\n",
    "SeatsTimeseries_df = pd.read_sql(\"SELECT ElectionPredictionDate FROM ElectionPredictionMeta ORDER BY ElectionPredictionDate DESC\",conn)\n",
    "ShareTimeseries_df = SeatsTimeseries_df.copy()\n",
    "\n",
    "for CurrentParty in GBPartiesList:\n",
    "    PredictionSeatsTimeseriesQueryParty = PredictionSeatsTimeseriesQuery.replace('<Party>',CurrentParty)\n",
    "    MergeSeatsTimeSeries_df = pd.read_sql(PredictionSeatsTimeseriesQueryParty,conn)\n",
    "    SeatsTimeseries_df = SeatsTimeseries_df.merge(MergeSeatsTimeSeries_df, how='left', on='ElectionPredictionDate')\n",
    "    \n",
    "    PredictionShareTimeseriesQueryParty = PredictionShareTimeseriesQuery.replace('<Party>',CurrentParty)\n",
    "    MergeShareTimeSeries_df = pd.read_sql(PredictionShareTimeseriesQueryParty,conn)\n",
    "    ShareTimeseries_df = ShareTimeseries_df.merge(MergeShareTimeSeries_df, how='left', on='ElectionPredictionDate')"
   ]
  },
  {
   "cell_type": "code",
   "execution_count": 12,
   "id": "905c4913",
   "metadata": {},
   "outputs": [],
   "source": [
    "UKShareQuery = \"\"\"SELECT can.Party,\n",
    "CAST(SUM(epcan.VoteShare)*100 AS FLOAT) / SUM(SUM(epcan.VoteShare)) OVER() AS 'VoteShare'\n",
    "FROM ElectionPredictionCandidates AS epcan\n",
    "INNER JOIN Candidates AS can ON can.CandidateID = epcan.CandidateID\n",
    "INNER JOIN Constituencies AS con ON con.ConstituencyName = can.Constituency\n",
    "WHERE ElectionPredictionID  = '<ElectionPredictionID>'\n",
    "GROUP BY can.Party\n",
    "ORDER BY can.Party\"\"\"\n",
    "\n",
    "UKShareQuery = UKShareQuery.replace('<ElectionPredictionID>',PredictionID)"
   ]
  },
  {
   "cell_type": "code",
   "execution_count": 13,
   "id": "d58c630e",
   "metadata": {},
   "outputs": [],
   "source": [
    "UKSeatsQuery = \"\"\"SELECT par.PartyAbbreviation,\n",
    "Count(epcon.WinningParty) AS 'Seats'\n",
    "FROM Parties AS par\n",
    "LEFT JOIN ElectionPredictionConstituencies AS epcon ON par.PartyAbbreviation = epcon.WinningParty\n",
    "AND epcon.ElectionPredictionID  = '<ElectionPredictionID>'\n",
    "GROUP BY par.PartyAbbreviation\n",
    "ORDER BY par.PartyAbbreviation\"\"\"\n",
    "\n",
    "UKSeatsQuery = UKSeatsQuery.replace('<ElectionPredictionID>',PredictionID)"
   ]
  },
  {
   "cell_type": "code",
   "execution_count": 14,
   "id": "8443bfa9",
   "metadata": {},
   "outputs": [],
   "source": [
    "GBShareQuery = \"\"\"SELECT can.Party,\n",
    "CAST(SUM(epcan.VoteShare)*100 AS FLOAT) / SUM(SUM(epcan.VoteShare)) OVER() AS 'VoteShare'\n",
    "FROM ElectionPredictionCandidates AS epcan\n",
    "INNER JOIN Candidates AS can ON can.CandidateID = epcan.CandidateID\n",
    "INNER JOIN Constituencies AS con ON con.ConstituencyName = can.Constituency\n",
    "WHERE ElectionPredictionID  = '<ElectionPredictionID>'\n",
    "AND con.ITL1Region != 'Northern Ireland'\n",
    "GROUP BY can.Party\n",
    "ORDER BY can.Party\"\"\"\n",
    "\n",
    "GBShareQuery = GBShareQuery.replace('<ElectionPredictionID>',PredictionID)"
   ]
  },
  {
   "cell_type": "code",
   "execution_count": 15,
   "id": "29771560",
   "metadata": {},
   "outputs": [],
   "source": [
    "GBSeatsQuery = \"\"\"SELECT par.PartyAbbreviation AS Party,\n",
    "Count(epcon.WinningParty) AS 'Seats'\n",
    "FROM ElectionPredictionConstituencies AS epcon\n",
    "INNER JOIN Parties AS par ON par.PartyAbbreviation = epcon.WinningParty\n",
    "INNER JOIN Constituencies AS con ON con.ConstituencyName = epcon.Constituency\n",
    "WHERE con.ITL1Region != 'Northern Ireland' AND epcon.ElectionPredictionID  = '<ElectionPredictionID>'\n",
    "GROUP BY par.PartyAbbreviation\n",
    "ORDER BY par.PartyAbbreviation\"\"\"\n",
    "\n",
    "GBSeatsQuery = GBSeatsQuery.replace('<ElectionPredictionID>',PredictionID)"
   ]
  },
  {
   "cell_type": "code",
   "execution_count": 16,
   "id": "af4e00b4",
   "metadata": {},
   "outputs": [],
   "source": [
    "RegionalShareQuery = \"\"\"SELECT can.Party,\n",
    "CAST(SUM(epcan.VoteShare)*100 AS FLOAT) / SUM(SUM(epcan.VoteShare)) OVER() AS 'VoteShare'\n",
    "FROM ElectionPredictionCandidates AS epcan\n",
    "INNER JOIN Candidates AS can ON can.CandidateID = epcan.CandidateID\n",
    "INNER JOIN Constituencies AS con ON con.ConstituencyName = can.Constituency\n",
    "WHERE con.ITL1Region = '<Region>' AND ElectionPredictionID  = '<ElectionPredictionID>'\n",
    "GROUP BY con.ITL1Region, can.Party\n",
    "ORDER BY can.Party\"\"\"\n",
    "\n",
    "RegionalShareQuery = RegionalShareQuery.replace('<ElectionPredictionID>',PredictionID)"
   ]
  },
  {
   "cell_type": "code",
   "execution_count": 17,
   "id": "ed740843",
   "metadata": {},
   "outputs": [],
   "source": [
    "RegionalSeatsQuery = \"\"\"SELECT par.PartyAbbreviation AS Party,\n",
    "Count(epcon.WinningParty) AS 'Seats'\n",
    "FROM ElectionPredictionConstituencies AS epcon\n",
    "INNER JOIN Parties AS par ON par.PartyAbbreviation = epcon.WinningParty\n",
    "INNER JOIN Constituencies AS con ON con.ConstituencyName = epcon.Constituency\n",
    "WHERE con.ITL1Region = '<Region>' AND epcon.ElectionPredictionID  = '<ElectionPredictionID>'\n",
    "GROUP BY par.PartyAbbreviation\n",
    "ORDER BY par.PartyAbbreviation\"\"\"\n",
    "\n",
    "RegionalSeatsQuery = RegionalSeatsQuery.replace('<ElectionPredictionID>',PredictionID)"
   ]
  },
  {
   "cell_type": "code",
   "execution_count": 18,
   "id": "2df7a500",
   "metadata": {},
   "outputs": [],
   "source": [
    "UKSharePreT_df = pd.read_sql(UKShareQuery,conn)\n",
    "UKShareList = UKSharePreT_df['VoteShare'].tolist()\n",
    "\n",
    "UKSharePre_df = pd.DataFrame([UKShareList], columns=AllPartiesList)\n",
    "UKShare_df = pd.DataFrame(columns=UKPartiesList)\n",
    "\n",
    "UKShare_df = pd.concat([UKShare_df,UKSharePre_df],axis=0)\n",
    "UKShare_df['Region'] = 'UK'"
   ]
  },
  {
   "cell_type": "code",
   "execution_count": 19,
   "id": "40896fa5",
   "metadata": {},
   "outputs": [],
   "source": [
    "UKSeatsPreT_df = pd.read_sql(UKSeatsQuery,conn)\n",
    "UKSeatsList = UKSeatsPreT_df['Seats'].tolist()\n",
    "\n",
    "UKSeatsPre_df = pd.DataFrame([UKSeatsList], columns=AllPartiesList)\n",
    "UKSeats_df = pd.DataFrame(columns=UKPartiesList)\n",
    "\n",
    "UKSeats_df = pd.concat([UKSeats_df,UKSeatsPre_df],axis=0)\n",
    "UKSeats_df['Region'] = 'UK'"
   ]
  },
  {
   "cell_type": "code",
   "execution_count": 20,
   "id": "f192e0f8",
   "metadata": {},
   "outputs": [],
   "source": [
    "# Create GB share data\n",
    "GBSharePreT_df = pd.read_sql(GBShareQuery,conn)\n",
    "GBShareList = GBSharePreT_df['VoteShare'].tolist()\n",
    "GBQueryPartiesList = GBSharePreT_df['Party'].tolist()\n",
    "\n",
    "GBSharePre_df = pd.DataFrame([GBShareList], columns=GBQueryPartiesList)\n",
    "GBShare_df = pd.DataFrame(columns=GBPartiesList)\n",
    "\n",
    "GBShare_df = pd.concat([GBShare_df,GBSharePre_df],axis=0)\n",
    "GBShare_df['Region'] = 'GB'"
   ]
  },
  {
   "cell_type": "code",
   "execution_count": 21,
   "id": "7f3d1241",
   "metadata": {
    "scrolled": true
   },
   "outputs": [],
   "source": [
    "# Create GB seats data\n",
    "GBSeatsPreT_df = pd.read_sql(GBSeatsQuery,conn)\n",
    "GBSeatsList = GBSeatsPreT_df['Seats'].tolist()\n",
    "GBQueryPartiesList = GBSeatsPreT_df['Party'].tolist()\n",
    "\n",
    "GBSeatsPre_df = pd.DataFrame([GBSeatsList], columns=GBQueryPartiesList)\n",
    "GBSeats_df = pd.DataFrame(columns=GBPartiesList)\n",
    "\n",
    "GBSeats_df = pd.concat([GBSeats_df,GBSeatsPre_df],axis=0)\n",
    "GBSeats_df['Region'] = 'GB'"
   ]
  },
  {
   "cell_type": "code",
   "execution_count": 22,
   "id": "71440cac",
   "metadata": {},
   "outputs": [],
   "source": [
    "# Now cycle through every ITL1 region to get the vote shares\n",
    "\n",
    "#Create new df\n",
    "UKShare_df = pd.concat([UKShare_df,GBShare_df],axis=0)\n",
    "UKSeats_df = pd.concat([UKSeats_df,GBSeats_df],axis=0)\n",
    "\n",
    "AllRegionShare_df = UKShare_df.copy()\n",
    "AllRegionSeats_df = UKSeats_df.copy()\n",
    "\n",
    "for CurrentRegion in ITL1RegionList:\n",
    "    RegionalShareQueryReplaced = RegionalShareQuery.replace('<Region>',CurrentRegion)\n",
    "    RegionalSharePreT_df = pd.read_sql(RegionalShareQueryReplaced,conn)\n",
    "    RegionalSharePartiesList = RegionalSharePreT_df['Party'].tolist()\n",
    "    RegionalShareSharesList =RegionalSharePreT_df['VoteShare'].tolist()\n",
    "    RegionalShare_df = pd.DataFrame([RegionalShareSharesList],columns=RegionalSharePartiesList)\n",
    "    RegionalShare_df['Region'] = CurrentRegion\n",
    "    AllRegionShare_df = pd.concat([AllRegionShare_df,RegionalShare_df],axis=0)\n",
    "    \n",
    "    RegionalSeatsQueryReplaced = RegionalSeatsQuery.replace('<Region>',CurrentRegion)\n",
    "    RegionalSeatsPreT_df = pd.read_sql(RegionalSeatsQueryReplaced,conn)\n",
    "    RegionalSeatsPartiesList = RegionalSeatsPreT_df['Party'].tolist()\n",
    "    RegionalSeatsSeatssList =RegionalSeatsPreT_df['Seats'].tolist()\n",
    "    RegionalSeats_df = pd.DataFrame([RegionalSeatsSeatssList],columns=RegionalSeatsPartiesList)\n",
    "    RegionalSeats_df['Region'] = CurrentRegion\n",
    "    AllRegionSeats_df = pd.concat([AllRegionSeats_df,RegionalSeats_df],axis=0)\n",
    "\n",
    "AllRegionShare_df.reset_index(drop=True,inplace=True)\n",
    "AllRegionShare_df = AllRegionShare_df.fillna(0)\n",
    "\n",
    "AllRegionSeats_df.reset_index(drop=True,inplace=True)\n",
    "AllRegionSeats_df = AllRegionSeats_df.fillna(0)"
   ]
  },
  {
   "cell_type": "code",
   "execution_count": 23,
   "id": "cececf27",
   "metadata": {
    "scrolled": true
   },
   "outputs": [],
   "source": [
    "# Determine the swings between different parties\n",
    "filename = \"C:\\\\Users\\\\danmu\\\\Documents\\\\Elections\\\\2024_Python\\\\Flourish_Historical.xlsx\"\n",
    "HistoricalRegionShare_df = pd.read_excel(filename, sheet_name='Share')\n",
    "\n",
    "AllSwings_df = AllRegionShare_df.merge(HistoricalRegionShare_df, how='left', on='Region')\n",
    "AllSwings_df['Con To Lab Swing'] = ((AllSwings_df['Lab_x']-AllSwings_df['Lab_y'])-(AllSwings_df['Con_x']-AllSwings_df['Con_y']))/2\n",
    "AllSwings_df['Con To Reform Swing'] = ((AllSwings_df['Reform_x']-AllSwings_df['Reform_y'])-(AllSwings_df['Con_x']-AllSwings_df['Con_y']))/2\n",
    "AllSwings_df['Con To LD Swing'] = ((AllSwings_df['LD_x']-AllSwings_df['LD_y'])-(AllSwings_df['Con_x']-AllSwings_df['Con_y']))/2\n",
    "AllSwings_df['SNP To Lab Swing'] = ((AllSwings_df['Lab_x']-AllSwings_df['Lab_y'])-(AllSwings_df['SNP_x']-AllSwings_df['SNP_y']))/2\n",
    "\n",
    "ConToLabSwingPreT_df = AllSwings_df[['Region','Con To Lab Swing']].copy()\n",
    "ConToLabSwingPreT_df.set_index('Region',inplace=True)\n",
    "ConToLabSwing_df = ConToLabSwingPreT_df.transpose()\n",
    "\n",
    "ConToLDSwingPreT_df = AllSwings_df[['Region','Con To LD Swing']].copy()\n",
    "ConToLDSwingPreT_df.set_index('Region',inplace=True)\n",
    "ConToLDSwing_df = ConToLDSwingPreT_df.transpose()\n",
    "\n",
    "ConToReformSwingPreT_df = AllSwings_df[['Region','Con To Reform Swing']].copy()\n",
    "ConToReformSwingPreT_df.set_index('Region',inplace=True)\n",
    "ConToReformSwing_df = ConToReformSwingPreT_df.transpose()"
   ]
  },
  {
   "cell_type": "code",
   "execution_count": 28,
   "id": "ed153833",
   "metadata": {},
   "outputs": [
    {
     "data": {
      "text/plain": [
       "SNP To Lab Swing    16.74156\n",
       "Name: Scotland, dtype: float64"
      ]
     },
     "execution_count": 28,
     "metadata": {},
     "output_type": "execute_result"
    }
   ],
   "source": [
    "SNPToLabSwingPreT_df = AllSwings_df[['Region','SNP To Lab Swing']].copy()\n",
    "SNPToLabSwingPreT_df.set_index('Region',inplace=True)\n",
    "SNPToLabSwing_df = SNPToLabSwingPreT_df.transpose()\n",
    "SNPToLabSwing_df = SNPToLabSwing_df['Scotland'].copy()\n",
    "SNPToLabSwing_df "
   ]
  },
  {
   "cell_type": "code",
   "execution_count": 24,
   "id": "11422b51",
   "metadata": {},
   "outputs": [],
   "source": [
    "Candidates_df = pd.read_sql(PredictionCandidatesQuery,conn)\n",
    "Constituencies_df = pd.read_sql(PredictionConstituenciesQuery,conn)"
   ]
  },
  {
   "cell_type": "code",
   "execution_count": 30,
   "id": "b886c6db",
   "metadata": {},
   "outputs": [],
   "source": [
    "with pd.ExcelWriter(r'C:\\Users\\danmu\\Documents\\Elections\\2024_Python\\Flourish_Export.xlsx') as writer:  \n",
    "    Candidates_df.to_excel(writer, sheet_name='Candidates',index=False)\n",
    "    Constituencies_df.to_excel(writer, sheet_name='Constituencies',index=False)\n",
    "    SeatsTimeseries_df.to_excel(writer, sheet_name='SeatsTimeseries',index=False)\n",
    "    ShareTimeseries_df.to_excel(writer, sheet_name='ShareTimeseries',index=False)\n",
    "    AllRegionShare_df.to_excel(writer, sheet_name='Share',index=False)\n",
    "    AllRegionSeats_df.to_excel(writer, sheet_name='Seats',index=False)\n",
    "    LatestPrediction_df.to_excel(writer, sheet_name='LatestPrediction',index=False)\n",
    "    ConToLabSwing_df.to_excel(writer, sheet_name='ConToLabSwing',index=True)\n",
    "    ConToLDSwing_df.to_excel(writer, sheet_name='ConToLDSwing',index=True)\n",
    "    ConToReformSwing_df.to_excel(writer, sheet_name='ConToReformSwing',index=True)\n",
    "    SNPToLabSwing_df.to_excel(writer, sheet_name='SNPtoLabSwing',index=True)"
   ]
  },
  {
   "cell_type": "code",
   "execution_count": 26,
   "id": "c2add402",
   "metadata": {},
   "outputs": [],
   "source": [
    "#Close the connection with the database\n",
    "conn.close()"
   ]
  }
 ],
 "metadata": {
  "kernelspec": {
   "display_name": "Python 3 (ipykernel)",
   "language": "python",
   "name": "python3"
  },
  "language_info": {
   "codemirror_mode": {
    "name": "ipython",
    "version": 3
   },
   "file_extension": ".py",
   "mimetype": "text/x-python",
   "name": "python",
   "nbconvert_exporter": "python",
   "pygments_lexer": "ipython3",
   "version": "3.9.12"
  }
 },
 "nbformat": 4,
 "nbformat_minor": 5
}
